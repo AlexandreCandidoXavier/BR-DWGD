{
 "cells": [
  {
   "cell_type": "markdown",
   "metadata": {
    "colab_type": "text",
    "id": "view-in-github"
   },
   "source": [
    "<a href=\"https://colab.research.google.com/github/AlexandreCandidoXavier/BR-DWGD/blob/main/notebooks/exemplo_google_earth.ipynb\" target=\"_parent\"><img src=\"https://colab.research.google.com/assets/colab-badge.svg\" alt=\"Open In Colab\"/></a>"
   ]
  },
  {
   "cell_type": "markdown",
   "metadata": {
    "id": "HjqtqkLxg1tj"
   },
   "source": [
    "# Trabalhando com dados pontuais no Google Earth\n",
    "Neste exemplo, para obtenção dos dados de um ponto,\n",
    "não será necessário baixar os arquivos Netcdf. Estes serão adquiridos via a \n",
    "plataforma [Google Earth Engine](https://earthengine.google.com/), disponibilizados\n",
    "em [awesome-gee-community-catalog](https://gee-community-catalog.org/projects/br_dwgd/).\n",
    "\n",
    "Vamos trabalhar com a variável precipitação para uma posição geográfica, \n",
    "nos níveis de tempo: diário, mensal e anual.\n",
    "\n",
    "Para rodar será necessário fazer uma cópia deste *notebook* no seu computador ou no seu \n",
    "*Google Drive*, se estiver utilizando o **Colab** (Menu File -> Save copy in Drive)."
   ]
  },
  {
   "cell_type": "code",
   "execution_count": 1,
   "metadata": {
    "colab": {
     "base_uri": "https://localhost:8080/"
    },
    "id": "fJRQXuyQedrk",
    "outputId": "1db0926b-1ae7-4b18-f14f-2158bb58fb7b"
   },
   "outputs": [],
   "source": [
    "# instalando geemap atualizado (https://geemap.org/):\n",
    "# %pip install -U geemap"
   ]
  },
  {
   "cell_type": "code",
   "execution_count": 1,
   "metadata": {
    "id": "lXUQmpKCerCK"
   },
   "outputs": [],
   "source": [
    "import ee\n",
    "import geemap\n",
    "import numpy as np\n",
    "import datetime\n",
    "import pandas as pd\n",
    "import plotly.express as px"
   ]
  },
  {
   "cell_type": "markdown",
   "metadata": {},
   "source": [
    "Vai pedir a autentificação (tem que ter conta gmail)"
   ]
  },
  {
   "cell_type": "code",
   "execution_count": 2,
   "metadata": {},
   "outputs": [
    {
     "data": {
      "text/html": [
       "\n",
       "            <style>\n",
       "                .geemap-dark {\n",
       "                    --jp-widgets-color: white;\n",
       "                    --jp-widgets-label-color: white;\n",
       "                    --jp-ui-font-color1: white;\n",
       "                    --jp-layout-color2: #454545;\n",
       "                    background-color: #383838;\n",
       "                }\n",
       "\n",
       "                .geemap-dark .jupyter-button {\n",
       "                    --jp-layout-color3: #383838;\n",
       "                }\n",
       "\n",
       "                .geemap-colab {\n",
       "                    background-color: var(--colab-primary-surface-color, white);\n",
       "                }\n",
       "\n",
       "                .geemap-colab .jupyter-button {\n",
       "                    --jp-layout-color3: var(--colab-primary-surface-color, white);\n",
       "                }\n",
       "            </style>\n",
       "            "
      ],
      "text/plain": [
       "<IPython.core.display.HTML object>"
      ]
     },
     "metadata": {},
     "output_type": "display_data"
    }
   ],
   "source": [
    "# ee.Authenticate()"
   ]
  },
  {
   "cell_type": "code",
   "execution_count": 3,
   "metadata": {},
   "outputs": [
    {
     "data": {
      "text/html": [
       "\n",
       "            <style>\n",
       "                .geemap-dark {\n",
       "                    --jp-widgets-color: white;\n",
       "                    --jp-widgets-label-color: white;\n",
       "                    --jp-ui-font-color1: white;\n",
       "                    --jp-layout-color2: #454545;\n",
       "                    background-color: #383838;\n",
       "                }\n",
       "\n",
       "                .geemap-dark .jupyter-button {\n",
       "                    --jp-layout-color3: #383838;\n",
       "                }\n",
       "\n",
       "                .geemap-colab {\n",
       "                    background-color: var(--colab-primary-surface-color, white);\n",
       "                }\n",
       "\n",
       "                .geemap-colab .jupyter-button {\n",
       "                    --jp-layout-color3: var(--colab-primary-surface-color, white);\n",
       "                }\n",
       "            </style>\n",
       "            "
      ],
      "text/plain": [
       "<IPython.core.display.HTML object>"
      ]
     },
     "metadata": {},
     "output_type": "display_data"
    }
   ],
   "source": [
    "ee.Initialize()"
   ]
  },
  {
   "cell_type": "code",
   "execution_count": 4,
   "metadata": {
    "colab": {
     "base_uri": "https://localhost:8080/",
     "height": 17
    },
    "id": "bvCk1Op0qLAU",
    "outputId": "0738a759-fd20-4283-b3c2-dd02a378fc48"
   },
   "outputs": [
    {
     "data": {
      "text/html": [
       "\n",
       "            <style>\n",
       "                .geemap-dark {\n",
       "                    --jp-widgets-color: white;\n",
       "                    --jp-widgets-label-color: white;\n",
       "                    --jp-ui-font-color1: white;\n",
       "                    --jp-layout-color2: #454545;\n",
       "                    background-color: #383838;\n",
       "                }\n",
       "\n",
       "                .geemap-dark .jupyter-button {\n",
       "                    --jp-layout-color3: #383838;\n",
       "                }\n",
       "\n",
       "                .geemap-colab {\n",
       "                    background-color: var(--colab-primary-surface-color, white);\n",
       "                }\n",
       "\n",
       "                .geemap-colab .jupyter-button {\n",
       "                    --jp-layout-color3: var(--colab-primary-surface-color, white);\n",
       "                }\n",
       "            </style>\n",
       "            "
      ],
      "text/plain": [
       "<IPython.core.display.HTML object>"
      ]
     },
     "metadata": {},
     "output_type": "display_data"
    }
   ],
   "source": [
    "m = geemap.Map()"
   ]
  },
  {
   "cell_type": "markdown",
   "metadata": {},
   "source": [
    "Pegando variável precipitação e reescalonando.\n",
    "\n",
    "Para as demais: variáveis: https://gee-community-catalog.org/projects/br_dwgd/"
   ]
  },
  {
   "cell_type": "code",
   "execution_count": 5,
   "metadata": {},
   "outputs": [
    {
     "data": {
      "text/html": [
       "\n",
       "            <style>\n",
       "                .geemap-dark {\n",
       "                    --jp-widgets-color: white;\n",
       "                    --jp-widgets-label-color: white;\n",
       "                    --jp-ui-font-color1: white;\n",
       "                    --jp-layout-color2: #454545;\n",
       "                    background-color: #383838;\n",
       "                }\n",
       "\n",
       "                .geemap-dark .jupyter-button {\n",
       "                    --jp-layout-color3: #383838;\n",
       "                }\n",
       "\n",
       "                .geemap-colab {\n",
       "                    background-color: var(--colab-primary-surface-color, white);\n",
       "                }\n",
       "\n",
       "                .geemap-colab .jupyter-button {\n",
       "                    --jp-layout-color3: var(--colab-primary-surface-color, white);\n",
       "                }\n",
       "            </style>\n",
       "            "
      ],
      "text/plain": [
       "<IPython.core.display.HTML object>"
      ]
     },
     "metadata": {},
     "output_type": "display_data"
    }
   ],
   "source": [
    "var = ee.ImageCollection(\"projects/sat-io/open-datasets/BR-DWGD/PR\")\n",
    "# var = ee.ImageCollection(\"projects/sat-io/open-datasets/BR-DWGD/PR\").filterDate('2020-12-10', '2020-12-30')\n",
    "# print(var.aggregate_array('system:id').getInfo())"
   ]
  },
  {
   "cell_type": "markdown",
   "metadata": {},
   "source": [
    "Reescalonar"
   ]
  },
  {
   "cell_type": "code",
   "execution_count": 6,
   "metadata": {
    "colab": {
     "base_uri": "https://localhost:8080/",
     "height": 17
    },
    "id": "xx6L0ogyevR6",
    "outputId": "882832e5-3930-41aa-c6c3-690c14d3a388"
   },
   "outputs": [
    {
     "data": {
      "text/html": [
       "\n",
       "            <style>\n",
       "                .geemap-dark {\n",
       "                    --jp-widgets-color: white;\n",
       "                    --jp-widgets-label-color: white;\n",
       "                    --jp-ui-font-color1: white;\n",
       "                    --jp-layout-color2: #454545;\n",
       "                    background-color: #383838;\n",
       "                }\n",
       "\n",
       "                .geemap-dark .jupyter-button {\n",
       "                    --jp-layout-color3: #383838;\n",
       "                }\n",
       "\n",
       "                .geemap-colab {\n",
       "                    background-color: var(--colab-primary-surface-color, white);\n",
       "                }\n",
       "\n",
       "                .geemap-colab .jupyter-button {\n",
       "                    --jp-layout-color3: var(--colab-primary-surface-color, white);\n",
       "                }\n",
       "            </style>\n",
       "            "
      ],
      "text/plain": [
       "<IPython.core.display.HTML object>"
      ]
     },
     "metadata": {},
     "output_type": "display_data"
    }
   ],
   "source": [
    "offset = 225\n",
    "scale  = 0.006866665\n",
    "\n",
    "# reescalonando\n",
    "def scaleBand(image):\n",
    "    scaledImage = image.select(\"b1\").rename(['pr']).multiply(scale).add(offset) \\\n",
    "                       .set({'date': image.date().format('yyyy-MM-dd')}) \n",
    "    return scaledImage.copyProperties(image, image.propertyNames())\n",
    "\n",
    "var = var.map(scaleBand)\n",
    "\n",
    "# informações para plotar o mapa da precipitação\n",
    "color_pal = ['000066', '001199', '0044BB', '0077DD', '33AAEE', '66CCFF', 'FFDDCC', 'FFBB99', 'FF9966', 'FF6644']\n",
    "vis = {'min': 0,'max': 70, 'palette': color_pal}\n",
    "\n",
    "# definindo período (tem limite)\n",
    "start_date, end_date = '1961-01-01','2023-01-01' #'2010-01-01','2023-01-01'\n",
    "var = var.filterDate(start_date, end_date).select(['pr']);\n",
    "m.addLayer(var.first(), vis, 'Precipitação')"
   ]
  },
  {
   "cell_type": "code",
   "execution_count": 7,
   "metadata": {},
   "outputs": [
    {
     "data": {
      "text/html": [
       "\n",
       "            <style>\n",
       "                .geemap-dark {\n",
       "                    --jp-widgets-color: white;\n",
       "                    --jp-widgets-label-color: white;\n",
       "                    --jp-ui-font-color1: white;\n",
       "                    --jp-layout-color2: #454545;\n",
       "                    background-color: #383838;\n",
       "                }\n",
       "\n",
       "                .geemap-dark .jupyter-button {\n",
       "                    --jp-layout-color3: #383838;\n",
       "                }\n",
       "\n",
       "                .geemap-colab {\n",
       "                    background-color: var(--colab-primary-surface-color, white);\n",
       "                }\n",
       "\n",
       "                .geemap-colab .jupyter-button {\n",
       "                    --jp-layout-color3: var(--colab-primary-surface-color, white);\n",
       "                }\n",
       "            </style>\n",
       "            "
      ],
      "text/plain": [
       "<IPython.core.display.HTML object>"
      ]
     },
     "metadata": {},
     "output_type": "display_data"
    }
   ],
   "source": [
    "# var"
   ]
  },
  {
   "cell_type": "markdown",
   "metadata": {},
   "source": [
    "Definindo coordenada de onde se quer obter os dados"
   ]
  },
  {
   "cell_type": "code",
   "execution_count": 8,
   "metadata": {
    "colab": {
     "base_uri": "https://localhost:8080/",
     "height": 17
    },
    "id": "ogrt_-yTyOz7",
    "outputId": "afb7e9a5-5667-465f-9938-2dc07c648a13"
   },
   "outputs": [
    {
     "data": {
      "text/html": [
       "\n",
       "            <style>\n",
       "                .geemap-dark {\n",
       "                    --jp-widgets-color: white;\n",
       "                    --jp-widgets-label-color: white;\n",
       "                    --jp-ui-font-color1: white;\n",
       "                    --jp-layout-color2: #454545;\n",
       "                    background-color: #383838;\n",
       "                }\n",
       "\n",
       "                .geemap-dark .jupyter-button {\n",
       "                    --jp-layout-color3: #383838;\n",
       "                }\n",
       "\n",
       "                .geemap-colab {\n",
       "                    background-color: var(--colab-primary-surface-color, white);\n",
       "                }\n",
       "\n",
       "                .geemap-colab .jupyter-button {\n",
       "                    --jp-layout-color3: var(--colab-primary-surface-color, white);\n",
       "                }\n",
       "            </style>\n",
       "            "
      ],
      "text/plain": [
       "<IPython.core.display.HTML object>"
      ]
     },
     "metadata": {},
     "output_type": "display_data"
    }
   ],
   "source": [
    "# coordenada do ponto de interesse [lon, lat]\n",
    "lon_lat = [-43.04, -14.33]\n",
    "point = {'type': 'Point', 'coordinates': lon_lat}\n",
    "m.addLayer(ee.Feature(point), {'color': 'red'}, \"posição\")"
   ]
  },
  {
   "cell_type": "code",
   "execution_count": 9,
   "metadata": {
    "colab": {
     "base_uri": "https://localhost:8080/",
     "height": 621,
     "referenced_widgets": [
      "b8371bcbe98f48dd8dfdc5d00690a6c8",
      "2e477f157f6542a4a532efc817fd227c",
      "64bdc519c0e64100af748531b9b54bbc",
      "957064948c124fb3a6174089a815b6fa",
      "c39a382e491e4ae9813fca16a568c38f",
      "39226a5c9f894e10befa3575e24581da",
      "ee247ebc4f0846c0b431fd82515e4772",
      "9d8d30b022234f178954a04304c33607",
      "f88aade1de1d49c6a61c1b8a17dee0f0",
      "fa3d70ca2f6c4c95af82b510ebfaa39b",
      "812113709b3440ff9df4f16f4c617d8a",
      "fdc4ff7a631e4f10b163b29359fa1cdf",
      "e2814404d8c848898b3f134822671d60",
      "294cafe51eed475cabafad1a882722dd",
      "8cb06f9d722b43b3a6978f0144702ca6",
      "07e462ebfdaf4d80b34b11685e335084",
      "aa9678d0ae6648e88ffbcedc2c181d76",
      "cd065dbe3f30479a8ef48fd53a7018f7",
      "db19b2dc01444092bbbb17cf87a50281",
      "1d0c8a9ef8bb4f4cab9eb5f4c974b08c",
      "193a92cfe5764f74955628dd0c5f3b55",
      "bf055a7e81694ad7bcb9532a4ccba431",
      "f2df9032cb824804822d4a472a119702",
      "3eb1c9a9b9b843419a4bfd75e4af5987",
      "d604a48feaeb4d4d9f068b2795dcd3d9",
      "5af901d9f851417c94dbd03183ad4806",
      "c1b395fc079e4e6a89ddc12c1a7d97bd",
      "5ac3a9248983443bb3cf2a82e6b78fbb"
     ]
    },
    "id": "JrM2Spe6gZrn",
    "outputId": "48c8861c-b231-4e28-9a85-bcdc280fbbe1",
    "scrolled": true
   },
   "outputs": [
    {
     "data": {
      "text/html": [
       "\n",
       "            <style>\n",
       "                .geemap-dark {\n",
       "                    --jp-widgets-color: white;\n",
       "                    --jp-widgets-label-color: white;\n",
       "                    --jp-ui-font-color1: white;\n",
       "                    --jp-layout-color2: #454545;\n",
       "                    background-color: #383838;\n",
       "                }\n",
       "\n",
       "                .geemap-dark .jupyter-button {\n",
       "                    --jp-layout-color3: #383838;\n",
       "                }\n",
       "\n",
       "                .geemap-colab {\n",
       "                    background-color: var(--colab-primary-surface-color, white);\n",
       "                }\n",
       "\n",
       "                .geemap-colab .jupyter-button {\n",
       "                    --jp-layout-color3: var(--colab-primary-surface-color, white);\n",
       "                }\n",
       "            </style>\n",
       "            "
      ],
      "text/plain": [
       "<IPython.core.display.HTML object>"
      ]
     },
     "metadata": {},
     "output_type": "display_data"
    },
    {
     "data": {
      "application/vnd.jupyter.widget-view+json": {
       "model_id": "e4d34603e4874e40a5d8bfe574acf328",
       "version_major": 2,
       "version_minor": 0
      },
      "text/plain": [
       "Map(center=[0, 0], controls=(WidgetControl(options=['position', 'transparent_bg'], widget=SearchDataGUI(childr…"
      ]
     },
     "execution_count": 9,
     "metadata": {},
     "output_type": "execute_result"
    }
   ],
   "source": [
    "# plotando a precipitação da data inicial\n",
    "m.centerObject(var)\n",
    "m"
   ]
  },
  {
   "cell_type": "markdown",
   "metadata": {
    "id": "HNqLG_3eFIwf"
   },
   "source": [
    "Pegando informações para uma posição. Pode demorar um pouco se o intervalo de tempo for grande."
   ]
  },
  {
   "cell_type": "code",
   "execution_count": 10,
   "metadata": {
    "colab": {
     "base_uri": "https://localhost:8080/",
     "height": 17
    },
    "id": "vi8kIrdRgr25",
    "outputId": "6d9db7ac-80de-44ab-bd47-f012caddd6f5"
   },
   "outputs": [
    {
     "data": {
      "text/html": [
       "\n",
       "            <style>\n",
       "                .geemap-dark {\n",
       "                    --jp-widgets-color: white;\n",
       "                    --jp-widgets-label-color: white;\n",
       "                    --jp-ui-font-color1: white;\n",
       "                    --jp-layout-color2: #454545;\n",
       "                    background-color: #383838;\n",
       "                }\n",
       "\n",
       "                .geemap-dark .jupyter-button {\n",
       "                    --jp-layout-color3: #383838;\n",
       "                }\n",
       "\n",
       "                .geemap-colab {\n",
       "                    background-color: var(--colab-primary-surface-color, white);\n",
       "                }\n",
       "\n",
       "                .geemap-colab .jupyter-button {\n",
       "                    --jp-layout-color3: var(--colab-primary-surface-color, white);\n",
       "                }\n",
       "            </style>\n",
       "            "
      ],
      "text/plain": [
       "<IPython.core.display.HTML object>"
      ]
     },
     "metadata": {},
     "output_type": "display_data"
    }
   ],
   "source": [
    "dados = var.getRegion(point, scale=11000).getInfo()"
   ]
  },
  {
   "cell_type": "code",
   "execution_count": 11,
   "metadata": {},
   "outputs": [
    {
     "data": {
      "text/html": [
       "\n",
       "            <style>\n",
       "                .geemap-dark {\n",
       "                    --jp-widgets-color: white;\n",
       "                    --jp-widgets-label-color: white;\n",
       "                    --jp-ui-font-color1: white;\n",
       "                    --jp-layout-color2: #454545;\n",
       "                    background-color: #383838;\n",
       "                }\n",
       "\n",
       "                .geemap-dark .jupyter-button {\n",
       "                    --jp-layout-color3: #383838;\n",
       "                }\n",
       "\n",
       "                .geemap-colab {\n",
       "                    background-color: var(--colab-primary-surface-color, white);\n",
       "                }\n",
       "\n",
       "                .geemap-colab .jupyter-button {\n",
       "                    --jp-layout-color3: var(--colab-primary-surface-color, white);\n",
       "                }\n",
       "            </style>\n",
       "            "
      ],
      "text/plain": [
       "<IPython.core.display.HTML object>"
      ]
     },
     "metadata": {},
     "output_type": "display_data"
    }
   ],
   "source": [
    "# dados[1:]"
   ]
  },
  {
   "cell_type": "markdown",
   "metadata": {
    "id": "rU8uBfr0Ffb_"
   },
   "source": [
    "## Plotando dados diários para o período\n",
    "\n",
    "Pegando os dias"
   ]
  },
  {
   "cell_type": "code",
   "execution_count": 12,
   "metadata": {},
   "outputs": [
    {
     "data": {
      "text/html": [
       "\n",
       "            <style>\n",
       "                .geemap-dark {\n",
       "                    --jp-widgets-color: white;\n",
       "                    --jp-widgets-label-color: white;\n",
       "                    --jp-ui-font-color1: white;\n",
       "                    --jp-layout-color2: #454545;\n",
       "                    background-color: #383838;\n",
       "                }\n",
       "\n",
       "                .geemap-dark .jupyter-button {\n",
       "                    --jp-layout-color3: #383838;\n",
       "                }\n",
       "\n",
       "                .geemap-colab {\n",
       "                    background-color: var(--colab-primary-surface-color, white);\n",
       "                }\n",
       "\n",
       "                .geemap-colab .jupyter-button {\n",
       "                    --jp-layout-color3: var(--colab-primary-surface-color, white);\n",
       "                }\n",
       "            </style>\n",
       "            "
      ],
      "text/plain": [
       "<IPython.core.display.HTML object>"
      ]
     },
     "metadata": {},
     "output_type": "display_data"
    }
   ],
   "source": [
    " # Image date collection applied to each image.\n",
    "datas_lista = ee.List([])\n",
    "def formatDate(image, list):\n",
    "    datas_lista = ee.List(ee.String(image.date().format('YYYY-MM-dd')))\n",
    "\n",
    "    return ee.List(list).add(datas_lista)\n",
    "\n",
    "\n",
    "datas = var.iterate(formatDate, datas_lista)\n",
    "datas = datas.getInfo()\n",
    "# datas"
   ]
  },
  {
   "cell_type": "markdown",
   "metadata": {},
   "source": [
    "Criando dataframe"
   ]
  },
  {
   "cell_type": "code",
   "execution_count": 13,
   "metadata": {
    "colab": {
     "base_uri": "https://localhost:8080/",
     "height": 542
    },
    "id": "5O9rl3_6guuL",
    "outputId": "f2e09c8e-2e60-4d3c-f6fe-1c5edfac1f7c"
   },
   "outputs": [
    {
     "data": {
      "text/html": [
       "\n",
       "            <style>\n",
       "                .geemap-dark {\n",
       "                    --jp-widgets-color: white;\n",
       "                    --jp-widgets-label-color: white;\n",
       "                    --jp-ui-font-color1: white;\n",
       "                    --jp-layout-color2: #454545;\n",
       "                    background-color: #383838;\n",
       "                }\n",
       "\n",
       "                .geemap-dark .jupyter-button {\n",
       "                    --jp-layout-color3: #383838;\n",
       "                }\n",
       "\n",
       "                .geemap-colab {\n",
       "                    background-color: var(--colab-primary-surface-color, white);\n",
       "                }\n",
       "\n",
       "                .geemap-colab .jupyter-button {\n",
       "                    --jp-layout-color3: var(--colab-primary-surface-color, white);\n",
       "                }\n",
       "            </style>\n",
       "            "
      ],
      "text/plain": [
       "<IPython.core.display.HTML object>"
      ]
     },
     "metadata": {},
     "output_type": "display_data"
    },
    {
     "data": {
      "text/html": [
       "<div>\n",
       "<style scoped>\n",
       "    .dataframe tbody tr th:only-of-type {\n",
       "        vertical-align: middle;\n",
       "    }\n",
       "\n",
       "    .dataframe tbody tr th {\n",
       "        vertical-align: top;\n",
       "    }\n",
       "\n",
       "    .dataframe thead th {\n",
       "        text-align: right;\n",
       "    }\n",
       "</style>\n",
       "<table border=\"1\" class=\"dataframe\">\n",
       "  <thead>\n",
       "    <tr style=\"text-align: right;\">\n",
       "      <th></th>\n",
       "      <th>Precipitação (mm)</th>\n",
       "    </tr>\n",
       "    <tr>\n",
       "      <th>Data</th>\n",
       "      <th></th>\n",
       "    </tr>\n",
       "  </thead>\n",
       "  <tbody>\n",
       "    <tr>\n",
       "      <th>1961-01-01</th>\n",
       "      <td>7.010853</td>\n",
       "    </tr>\n",
       "    <tr>\n",
       "      <th>1961-01-02</th>\n",
       "      <td>13.458651</td>\n",
       "    </tr>\n",
       "    <tr>\n",
       "      <th>1961-01-03</th>\n",
       "      <td>9.949786</td>\n",
       "    </tr>\n",
       "    <tr>\n",
       "      <th>1961-01-04</th>\n",
       "      <td>0.315855</td>\n",
       "    </tr>\n",
       "    <tr>\n",
       "      <th>1961-01-05</th>\n",
       "      <td>11.172052</td>\n",
       "    </tr>\n",
       "    <tr>\n",
       "      <th>...</th>\n",
       "      <td>...</td>\n",
       "    </tr>\n",
       "    <tr>\n",
       "      <th>2022-12-27</th>\n",
       "      <td>0.363921</td>\n",
       "    </tr>\n",
       "    <tr>\n",
       "      <th>2022-12-28</th>\n",
       "      <td>0.096121</td>\n",
       "    </tr>\n",
       "    <tr>\n",
       "      <th>2022-12-29</th>\n",
       "      <td>0.034321</td>\n",
       "    </tr>\n",
       "    <tr>\n",
       "      <th>2022-12-30</th>\n",
       "      <td>-0.000012</td>\n",
       "    </tr>\n",
       "    <tr>\n",
       "      <th>2022-12-31</th>\n",
       "      <td>-0.000012</td>\n",
       "    </tr>\n",
       "  </tbody>\n",
       "</table>\n",
       "<p>22645 rows × 1 columns</p>\n",
       "</div>"
      ],
      "text/plain": [
       "            Precipitação (mm)\n",
       "Data                         \n",
       "1961-01-01           7.010853\n",
       "1961-01-02          13.458651\n",
       "1961-01-03           9.949786\n",
       "1961-01-04           0.315855\n",
       "1961-01-05          11.172052\n",
       "...                       ...\n",
       "2022-12-27           0.363921\n",
       "2022-12-28           0.096121\n",
       "2022-12-29           0.034321\n",
       "2022-12-30          -0.000012\n",
       "2022-12-31          -0.000012\n",
       "\n",
       "[22645 rows x 1 columns]"
      ]
     },
     "execution_count": 13,
     "metadata": {},
     "output_type": "execute_result"
    }
   ],
   "source": [
    "prec = np.array(dados[1:])[:,-1].astype('float')\n",
    "# prec[prec<0] = 0 # necessário pois no reescalonamento há pricipitaões menores que zero (-1.2055e-05)\n",
    "df = pd.DataFrame(prec, columns=['Precipitação (mm)'])\n",
    "\n",
    "df['Data'] = datas\n",
    "df.set_index(pd.to_datetime(df['Data']), inplace=True)\n",
    "df.drop(columns=['Data'], inplace=True)\n",
    "df"
   ]
  },
  {
   "cell_type": "code",
   "execution_count": null,
   "metadata": {},
   "outputs": [],
   "source": [
    "# plotando\n",
    "fig = px.line(df, x=df.index, \n",
    "              y='Precipitação (mm)',\n",
    "              title=f\"Precipitação na lat={lon_lat[1]}; lon={lon_lat[0]}\")\n",
    "fig.update_traces(hovertemplate=\"Data: %{x} <br> prec: %{y:.1f} mm \")\n",
    "fig.show()"
   ]
  },
  {
   "cell_type": "markdown",
   "metadata": {
    "id": "TB_v2PcIOFJs"
   },
   "source": [
    "Para salvar dados em formato \"csv\""
   ]
  },
  {
   "cell_type": "code",
   "execution_count": 32,
   "metadata": {
    "colab": {
     "base_uri": "https://localhost:8080/",
     "height": 17
    },
    "id": "KnpKhw5bHYN_",
    "outputId": "c60354ca-677f-4ddf-f37f-32e60bf6952a"
   },
   "outputs": [
    {
     "data": {
      "text/html": [
       "\n",
       "            <style>\n",
       "                .geemap-dark {\n",
       "                    --jp-widgets-color: white;\n",
       "                    --jp-widgets-label-color: white;\n",
       "                    --jp-ui-font-color1: white;\n",
       "                    --jp-layout-color2: #454545;\n",
       "                    background-color: #383838;\n",
       "                }\n",
       "\n",
       "                .geemap-dark .jupyter-button {\n",
       "                    --jp-layout-color3: #383838;\n",
       "                }\n",
       "\n",
       "                .geemap-colab {\n",
       "                    background-color: var(--colab-primary-surface-color, white);\n",
       "                }\n",
       "\n",
       "                .geemap-colab .jupyter-button {\n",
       "                    --jp-layout-color3: var(--colab-primary-surface-color, white);\n",
       "                }\n",
       "            </style>\n",
       "            "
      ],
      "text/plain": [
       "<IPython.core.display.HTML object>"
      ]
     },
     "metadata": {},
     "output_type": "display_data"
    }
   ],
   "source": [
    "# df.to_csv('dados.csv')"
   ]
  },
  {
   "cell_type": "markdown",
   "metadata": {
    "id": "IN4oL3GXtsRB"
   },
   "source": [
    "## Agregando dados diários para mensal e plotando"
   ]
  },
  {
   "cell_type": "code",
   "execution_count": 33,
   "metadata": {
    "colab": {
     "base_uri": "https://localhost:8080/",
     "height": 455
    },
    "id": "u2insCSmtY7i",
    "outputId": "555a25c6-df9f-42cb-cb13-ef9fd257660c"
   },
   "outputs": [
    {
     "data": {
      "text/html": [
       "\n",
       "            <style>\n",
       "                .geemap-dark {\n",
       "                    --jp-widgets-color: white;\n",
       "                    --jp-widgets-label-color: white;\n",
       "                    --jp-ui-font-color1: white;\n",
       "                    --jp-layout-color2: #454545;\n",
       "                    background-color: #383838;\n",
       "                }\n",
       "\n",
       "                .geemap-dark .jupyter-button {\n",
       "                    --jp-layout-color3: #383838;\n",
       "                }\n",
       "\n",
       "                .geemap-colab {\n",
       "                    background-color: var(--colab-primary-surface-color, white);\n",
       "                }\n",
       "\n",
       "                .geemap-colab .jupyter-button {\n",
       "                    --jp-layout-color3: var(--colab-primary-surface-color, white);\n",
       "                }\n",
       "            </style>\n",
       "            "
      ],
      "text/plain": [
       "<IPython.core.display.HTML object>"
      ]
     },
     "metadata": {},
     "output_type": "display_data"
    },
    {
     "data": {
      "text/html": [
       "<div>\n",
       "<style scoped>\n",
       "    .dataframe tbody tr th:only-of-type {\n",
       "        vertical-align: middle;\n",
       "    }\n",
       "\n",
       "    .dataframe tbody tr th {\n",
       "        vertical-align: top;\n",
       "    }\n",
       "\n",
       "    .dataframe thead th {\n",
       "        text-align: right;\n",
       "    }\n",
       "</style>\n",
       "<table border=\"1\" class=\"dataframe\">\n",
       "  <thead>\n",
       "    <tr style=\"text-align: right;\">\n",
       "      <th></th>\n",
       "      <th>Precipitação (mm)</th>\n",
       "    </tr>\n",
       "    <tr>\n",
       "      <th>Data</th>\n",
       "      <th></th>\n",
       "    </tr>\n",
       "  </thead>\n",
       "  <tbody>\n",
       "    <tr>\n",
       "      <th>1961-01-31</th>\n",
       "      <td>289.793489</td>\n",
       "    </tr>\n",
       "    <tr>\n",
       "      <th>1961-02-28</th>\n",
       "      <td>14.577592</td>\n",
       "    </tr>\n",
       "    <tr>\n",
       "      <th>1961-03-31</th>\n",
       "      <td>82.880273</td>\n",
       "    </tr>\n",
       "    <tr>\n",
       "      <th>1961-04-30</th>\n",
       "      <td>57.164624</td>\n",
       "    </tr>\n",
       "    <tr>\n",
       "      <th>1961-05-31</th>\n",
       "      <td>-0.000374</td>\n",
       "    </tr>\n",
       "    <tr>\n",
       "      <th>...</th>\n",
       "      <td>...</td>\n",
       "    </tr>\n",
       "    <tr>\n",
       "      <th>2022-08-31</th>\n",
       "      <td>-0.000374</td>\n",
       "    </tr>\n",
       "    <tr>\n",
       "      <th>2022-09-30</th>\n",
       "      <td>19.363634</td>\n",
       "    </tr>\n",
       "    <tr>\n",
       "      <th>2022-10-31</th>\n",
       "      <td>11.556223</td>\n",
       "    </tr>\n",
       "    <tr>\n",
       "      <th>2022-11-30</th>\n",
       "      <td>242.337980</td>\n",
       "    </tr>\n",
       "    <tr>\n",
       "      <th>2022-12-31</th>\n",
       "      <td>259.923497</td>\n",
       "    </tr>\n",
       "  </tbody>\n",
       "</table>\n",
       "<p>744 rows × 1 columns</p>\n",
       "</div>"
      ],
      "text/plain": [
       "            Precipitação (mm)\n",
       "Data                         \n",
       "1961-01-31         289.793489\n",
       "1961-02-28          14.577592\n",
       "1961-03-31          82.880273\n",
       "1961-04-30          57.164624\n",
       "1961-05-31          -0.000374\n",
       "...                       ...\n",
       "2022-08-31          -0.000374\n",
       "2022-09-30          19.363634\n",
       "2022-10-31          11.556223\n",
       "2022-11-30         242.337980\n",
       "2022-12-31         259.923497\n",
       "\n",
       "[744 rows x 1 columns]"
      ]
     },
     "execution_count": 33,
     "metadata": {},
     "output_type": "execute_result"
    }
   ],
   "source": [
    "df_mes = df.resample('M').sum()\n",
    "df_mes"
   ]
  },
  {
   "cell_type": "code",
   "execution_count": 34,
   "metadata": {
    "colab": {
     "base_uri": "https://localhost:8080/",
     "height": 542
    },
    "id": "DPbZlwttLF6S",
    "outputId": "5423868f-620e-41ce-9bbf-268bc29ab15a"
   },
   "outputs": [
    {
     "data": {
      "text/html": [
       "\n",
       "            <style>\n",
       "                .geemap-dark {\n",
       "                    --jp-widgets-color: white;\n",
       "                    --jp-widgets-label-color: white;\n",
       "                    --jp-ui-font-color1: white;\n",
       "                    --jp-layout-color2: #454545;\n",
       "                    background-color: #383838;\n",
       "                }\n",
       "\n",
       "                .geemap-dark .jupyter-button {\n",
       "                    --jp-layout-color3: #383838;\n",
       "                }\n",
       "\n",
       "                .geemap-colab {\n",
       "                    background-color: var(--colab-primary-surface-color, white);\n",
       "                }\n",
       "\n",
       "                .geemap-colab .jupyter-button {\n",
       "                    --jp-layout-color3: var(--colab-primary-surface-color, white);\n",
       "                }\n",
       "            </style>\n",
       "            "
      ],
      "text/plain": [
       "<IPython.core.display.HTML object>"
      ]
     },
     "metadata": {},
     "output_type": "display_data"
    },
    {
     "data": {
      "application/vnd.plotly.v1+json": {
       "config": {
        "plotlyServerURL": "https://plot.ly"
       },
       "data": [
        {
         "hovertemplate": "Data: %{x} <br>prec: %{y:.1f} mm",
         "legendgroup": "",
         "line": {
          "color": "#636efa",
          "dash": "solid"
         },
         "marker": {
          "symbol": "circle"
         },
         "mode": "lines",
         "name": "",
         "orientation": "v",
         "showlegend": false,
         "type": "scatter",
         "x": [
          "1961-01-31T00:00:00",
          "1961-02-28T00:00:00",
          "1961-03-31T00:00:00",
          "1961-04-30T00:00:00",
          "1961-05-31T00:00:00",
          "1961-06-30T00:00:00",
          "1961-07-31T00:00:00",
          "1961-08-31T00:00:00",
          "1961-09-30T00:00:00",
          "1961-10-31T00:00:00",
          "1961-11-30T00:00:00",
          "1961-12-31T00:00:00",
          "1962-01-31T00:00:00",
          "1962-02-28T00:00:00",
          "1962-03-31T00:00:00",
          "1962-04-30T00:00:00",
          "1962-05-31T00:00:00",
          "1962-06-30T00:00:00",
          "1962-07-31T00:00:00",
          "1962-08-31T00:00:00",
          "1962-09-30T00:00:00",
          "1962-10-31T00:00:00",
          "1962-11-30T00:00:00",
          "1962-12-31T00:00:00",
          "1963-01-31T00:00:00",
          "1963-02-28T00:00:00",
          "1963-03-31T00:00:00",
          "1963-04-30T00:00:00",
          "1963-05-31T00:00:00",
          "1963-06-30T00:00:00",
          "1963-07-31T00:00:00",
          "1963-08-31T00:00:00",
          "1963-09-30T00:00:00",
          "1963-10-31T00:00:00",
          "1963-11-30T00:00:00",
          "1963-12-31T00:00:00",
          "1964-01-31T00:00:00",
          "1964-02-29T00:00:00",
          "1964-03-31T00:00:00",
          "1964-04-30T00:00:00",
          "1964-05-31T00:00:00",
          "1964-06-30T00:00:00",
          "1964-07-31T00:00:00",
          "1964-08-31T00:00:00",
          "1964-09-30T00:00:00",
          "1964-10-31T00:00:00",
          "1964-11-30T00:00:00",
          "1964-12-31T00:00:00",
          "1965-01-31T00:00:00",
          "1965-02-28T00:00:00",
          "1965-03-31T00:00:00",
          "1965-04-30T00:00:00",
          "1965-05-31T00:00:00",
          "1965-06-30T00:00:00",
          "1965-07-31T00:00:00",
          "1965-08-31T00:00:00",
          "1965-09-30T00:00:00",
          "1965-10-31T00:00:00",
          "1965-11-30T00:00:00",
          "1965-12-31T00:00:00",
          "1966-01-31T00:00:00",
          "1966-02-28T00:00:00",
          "1966-03-31T00:00:00",
          "1966-04-30T00:00:00",
          "1966-05-31T00:00:00",
          "1966-06-30T00:00:00",
          "1966-07-31T00:00:00",
          "1966-08-31T00:00:00",
          "1966-09-30T00:00:00",
          "1966-10-31T00:00:00",
          "1966-11-30T00:00:00",
          "1966-12-31T00:00:00",
          "1967-01-31T00:00:00",
          "1967-02-28T00:00:00",
          "1967-03-31T00:00:00",
          "1967-04-30T00:00:00",
          "1967-05-31T00:00:00",
          "1967-06-30T00:00:00",
          "1967-07-31T00:00:00",
          "1967-08-31T00:00:00",
          "1967-09-30T00:00:00",
          "1967-10-31T00:00:00",
          "1967-11-30T00:00:00",
          "1967-12-31T00:00:00",
          "1968-01-31T00:00:00",
          "1968-02-29T00:00:00",
          "1968-03-31T00:00:00",
          "1968-04-30T00:00:00",
          "1968-05-31T00:00:00",
          "1968-06-30T00:00:00",
          "1968-07-31T00:00:00",
          "1968-08-31T00:00:00",
          "1968-09-30T00:00:00",
          "1968-10-31T00:00:00",
          "1968-11-30T00:00:00",
          "1968-12-31T00:00:00",
          "1969-01-31T00:00:00",
          "1969-02-28T00:00:00",
          "1969-03-31T00:00:00",
          "1969-04-30T00:00:00",
          "1969-05-31T00:00:00",
          "1969-06-30T00:00:00",
          "1969-07-31T00:00:00",
          "1969-08-31T00:00:00",
          "1969-09-30T00:00:00",
          "1969-10-31T00:00:00",
          "1969-11-30T00:00:00",
          "1969-12-31T00:00:00",
          "1970-01-31T00:00:00",
          "1970-02-28T00:00:00",
          "1970-03-31T00:00:00",
          "1970-04-30T00:00:00",
          "1970-05-31T00:00:00",
          "1970-06-30T00:00:00",
          "1970-07-31T00:00:00",
          "1970-08-31T00:00:00",
          "1970-09-30T00:00:00",
          "1970-10-31T00:00:00",
          "1970-11-30T00:00:00",
          "1970-12-31T00:00:00",
          "1971-01-31T00:00:00",
          "1971-02-28T00:00:00",
          "1971-03-31T00:00:00",
          "1971-04-30T00:00:00",
          "1971-05-31T00:00:00",
          "1971-06-30T00:00:00",
          "1971-07-31T00:00:00",
          "1971-08-31T00:00:00",
          "1971-09-30T00:00:00",
          "1971-10-31T00:00:00",
          "1971-11-30T00:00:00",
          "1971-12-31T00:00:00",
          "1972-01-31T00:00:00",
          "1972-02-29T00:00:00",
          "1972-03-31T00:00:00",
          "1972-04-30T00:00:00",
          "1972-05-31T00:00:00",
          "1972-06-30T00:00:00",
          "1972-07-31T00:00:00",
          "1972-08-31T00:00:00",
          "1972-09-30T00:00:00",
          "1972-10-31T00:00:00",
          "1972-11-30T00:00:00",
          "1972-12-31T00:00:00",
          "1973-01-31T00:00:00",
          "1973-02-28T00:00:00",
          "1973-03-31T00:00:00",
          "1973-04-30T00:00:00",
          "1973-05-31T00:00:00",
          "1973-06-30T00:00:00",
          "1973-07-31T00:00:00",
          "1973-08-31T00:00:00",
          "1973-09-30T00:00:00",
          "1973-10-31T00:00:00",
          "1973-11-30T00:00:00",
          "1973-12-31T00:00:00",
          "1974-01-31T00:00:00",
          "1974-02-28T00:00:00",
          "1974-03-31T00:00:00",
          "1974-04-30T00:00:00",
          "1974-05-31T00:00:00",
          "1974-06-30T00:00:00",
          "1974-07-31T00:00:00",
          "1974-08-31T00:00:00",
          "1974-09-30T00:00:00",
          "1974-10-31T00:00:00",
          "1974-11-30T00:00:00",
          "1974-12-31T00:00:00",
          "1975-01-31T00:00:00",
          "1975-02-28T00:00:00",
          "1975-03-31T00:00:00",
          "1975-04-30T00:00:00",
          "1975-05-31T00:00:00",
          "1975-06-30T00:00:00",
          "1975-07-31T00:00:00",
          "1975-08-31T00:00:00",
          "1975-09-30T00:00:00",
          "1975-10-31T00:00:00",
          "1975-11-30T00:00:00",
          "1975-12-31T00:00:00",
          "1976-01-31T00:00:00",
          "1976-02-29T00:00:00",
          "1976-03-31T00:00:00",
          "1976-04-30T00:00:00",
          "1976-05-31T00:00:00",
          "1976-06-30T00:00:00",
          "1976-07-31T00:00:00",
          "1976-08-31T00:00:00",
          "1976-09-30T00:00:00",
          "1976-10-31T00:00:00",
          "1976-11-30T00:00:00",
          "1976-12-31T00:00:00",
          "1977-01-31T00:00:00",
          "1977-02-28T00:00:00",
          "1977-03-31T00:00:00",
          "1977-04-30T00:00:00",
          "1977-05-31T00:00:00",
          "1977-06-30T00:00:00",
          "1977-07-31T00:00:00",
          "1977-08-31T00:00:00",
          "1977-09-30T00:00:00",
          "1977-10-31T00:00:00",
          "1977-11-30T00:00:00",
          "1977-12-31T00:00:00",
          "1978-01-31T00:00:00",
          "1978-02-28T00:00:00",
          "1978-03-31T00:00:00",
          "1978-04-30T00:00:00",
          "1978-05-31T00:00:00",
          "1978-06-30T00:00:00",
          "1978-07-31T00:00:00",
          "1978-08-31T00:00:00",
          "1978-09-30T00:00:00",
          "1978-10-31T00:00:00",
          "1978-11-30T00:00:00",
          "1978-12-31T00:00:00",
          "1979-01-31T00:00:00",
          "1979-02-28T00:00:00",
          "1979-03-31T00:00:00",
          "1979-04-30T00:00:00",
          "1979-05-31T00:00:00",
          "1979-06-30T00:00:00",
          "1979-07-31T00:00:00",
          "1979-08-31T00:00:00",
          "1979-09-30T00:00:00",
          "1979-10-31T00:00:00",
          "1979-11-30T00:00:00",
          "1979-12-31T00:00:00",
          "1980-01-31T00:00:00",
          "1980-02-29T00:00:00",
          "1980-03-31T00:00:00",
          "1980-04-30T00:00:00",
          "1980-05-31T00:00:00",
          "1980-06-30T00:00:00",
          "1980-07-31T00:00:00",
          "1980-08-31T00:00:00",
          "1980-09-30T00:00:00",
          "1980-10-31T00:00:00",
          "1980-11-30T00:00:00",
          "1980-12-31T00:00:00",
          "1981-01-31T00:00:00",
          "1981-02-28T00:00:00",
          "1981-03-31T00:00:00",
          "1981-04-30T00:00:00",
          "1981-05-31T00:00:00",
          "1981-06-30T00:00:00",
          "1981-07-31T00:00:00",
          "1981-08-31T00:00:00",
          "1981-09-30T00:00:00",
          "1981-10-31T00:00:00",
          "1981-11-30T00:00:00",
          "1981-12-31T00:00:00",
          "1982-01-31T00:00:00",
          "1982-02-28T00:00:00",
          "1982-03-31T00:00:00",
          "1982-04-30T00:00:00",
          "1982-05-31T00:00:00",
          "1982-06-30T00:00:00",
          "1982-07-31T00:00:00",
          "1982-08-31T00:00:00",
          "1982-09-30T00:00:00",
          "1982-10-31T00:00:00",
          "1982-11-30T00:00:00",
          "1982-12-31T00:00:00",
          "1983-01-31T00:00:00",
          "1983-02-28T00:00:00",
          "1983-03-31T00:00:00",
          "1983-04-30T00:00:00",
          "1983-05-31T00:00:00",
          "1983-06-30T00:00:00",
          "1983-07-31T00:00:00",
          "1983-08-31T00:00:00",
          "1983-09-30T00:00:00",
          "1983-10-31T00:00:00",
          "1983-11-30T00:00:00",
          "1983-12-31T00:00:00",
          "1984-01-31T00:00:00",
          "1984-02-29T00:00:00",
          "1984-03-31T00:00:00",
          "1984-04-30T00:00:00",
          "1984-05-31T00:00:00",
          "1984-06-30T00:00:00",
          "1984-07-31T00:00:00",
          "1984-08-31T00:00:00",
          "1984-09-30T00:00:00",
          "1984-10-31T00:00:00",
          "1984-11-30T00:00:00",
          "1984-12-31T00:00:00",
          "1985-01-31T00:00:00",
          "1985-02-28T00:00:00",
          "1985-03-31T00:00:00",
          "1985-04-30T00:00:00",
          "1985-05-31T00:00:00",
          "1985-06-30T00:00:00",
          "1985-07-31T00:00:00",
          "1985-08-31T00:00:00",
          "1985-09-30T00:00:00",
          "1985-10-31T00:00:00",
          "1985-11-30T00:00:00",
          "1985-12-31T00:00:00",
          "1986-01-31T00:00:00",
          "1986-02-28T00:00:00",
          "1986-03-31T00:00:00",
          "1986-04-30T00:00:00",
          "1986-05-31T00:00:00",
          "1986-06-30T00:00:00",
          "1986-07-31T00:00:00",
          "1986-08-31T00:00:00",
          "1986-09-30T00:00:00",
          "1986-10-31T00:00:00",
          "1986-11-30T00:00:00",
          "1986-12-31T00:00:00",
          "1987-01-31T00:00:00",
          "1987-02-28T00:00:00",
          "1987-03-31T00:00:00",
          "1987-04-30T00:00:00",
          "1987-05-31T00:00:00",
          "1987-06-30T00:00:00",
          "1987-07-31T00:00:00",
          "1987-08-31T00:00:00",
          "1987-09-30T00:00:00",
          "1987-10-31T00:00:00",
          "1987-11-30T00:00:00",
          "1987-12-31T00:00:00",
          "1988-01-31T00:00:00",
          "1988-02-29T00:00:00",
          "1988-03-31T00:00:00",
          "1988-04-30T00:00:00",
          "1988-05-31T00:00:00",
          "1988-06-30T00:00:00",
          "1988-07-31T00:00:00",
          "1988-08-31T00:00:00",
          "1988-09-30T00:00:00",
          "1988-10-31T00:00:00",
          "1988-11-30T00:00:00",
          "1988-12-31T00:00:00",
          "1989-01-31T00:00:00",
          "1989-02-28T00:00:00",
          "1989-03-31T00:00:00",
          "1989-04-30T00:00:00",
          "1989-05-31T00:00:00",
          "1989-06-30T00:00:00",
          "1989-07-31T00:00:00",
          "1989-08-31T00:00:00",
          "1989-09-30T00:00:00",
          "1989-10-31T00:00:00",
          "1989-11-30T00:00:00",
          "1989-12-31T00:00:00",
          "1990-01-31T00:00:00",
          "1990-02-28T00:00:00",
          "1990-03-31T00:00:00",
          "1990-04-30T00:00:00",
          "1990-05-31T00:00:00",
          "1990-06-30T00:00:00",
          "1990-07-31T00:00:00",
          "1990-08-31T00:00:00",
          "1990-09-30T00:00:00",
          "1990-10-31T00:00:00",
          "1990-11-30T00:00:00",
          "1990-12-31T00:00:00",
          "1991-01-31T00:00:00",
          "1991-02-28T00:00:00",
          "1991-03-31T00:00:00",
          "1991-04-30T00:00:00",
          "1991-05-31T00:00:00",
          "1991-06-30T00:00:00",
          "1991-07-31T00:00:00",
          "1991-08-31T00:00:00",
          "1991-09-30T00:00:00",
          "1991-10-31T00:00:00",
          "1991-11-30T00:00:00",
          "1991-12-31T00:00:00",
          "1992-01-31T00:00:00",
          "1992-02-29T00:00:00",
          "1992-03-31T00:00:00",
          "1992-04-30T00:00:00",
          "1992-05-31T00:00:00",
          "1992-06-30T00:00:00",
          "1992-07-31T00:00:00",
          "1992-08-31T00:00:00",
          "1992-09-30T00:00:00",
          "1992-10-31T00:00:00",
          "1992-11-30T00:00:00",
          "1992-12-31T00:00:00",
          "1993-01-31T00:00:00",
          "1993-02-28T00:00:00",
          "1993-03-31T00:00:00",
          "1993-04-30T00:00:00",
          "1993-05-31T00:00:00",
          "1993-06-30T00:00:00",
          "1993-07-31T00:00:00",
          "1993-08-31T00:00:00",
          "1993-09-30T00:00:00",
          "1993-10-31T00:00:00",
          "1993-11-30T00:00:00",
          "1993-12-31T00:00:00",
          "1994-01-31T00:00:00",
          "1994-02-28T00:00:00",
          "1994-03-31T00:00:00",
          "1994-04-30T00:00:00",
          "1994-05-31T00:00:00",
          "1994-06-30T00:00:00",
          "1994-07-31T00:00:00",
          "1994-08-31T00:00:00",
          "1994-09-30T00:00:00",
          "1994-10-31T00:00:00",
          "1994-11-30T00:00:00",
          "1994-12-31T00:00:00",
          "1995-01-31T00:00:00",
          "1995-02-28T00:00:00",
          "1995-03-31T00:00:00",
          "1995-04-30T00:00:00",
          "1995-05-31T00:00:00",
          "1995-06-30T00:00:00",
          "1995-07-31T00:00:00",
          "1995-08-31T00:00:00",
          "1995-09-30T00:00:00",
          "1995-10-31T00:00:00",
          "1995-11-30T00:00:00",
          "1995-12-31T00:00:00",
          "1996-01-31T00:00:00",
          "1996-02-29T00:00:00",
          "1996-03-31T00:00:00",
          "1996-04-30T00:00:00",
          "1996-05-31T00:00:00",
          "1996-06-30T00:00:00",
          "1996-07-31T00:00:00",
          "1996-08-31T00:00:00",
          "1996-09-30T00:00:00",
          "1996-10-31T00:00:00",
          "1996-11-30T00:00:00",
          "1996-12-31T00:00:00",
          "1997-01-31T00:00:00",
          "1997-02-28T00:00:00",
          "1997-03-31T00:00:00",
          "1997-04-30T00:00:00",
          "1997-05-31T00:00:00",
          "1997-06-30T00:00:00",
          "1997-07-31T00:00:00",
          "1997-08-31T00:00:00",
          "1997-09-30T00:00:00",
          "1997-10-31T00:00:00",
          "1997-11-30T00:00:00",
          "1997-12-31T00:00:00",
          "1998-01-31T00:00:00",
          "1998-02-28T00:00:00",
          "1998-03-31T00:00:00",
          "1998-04-30T00:00:00",
          "1998-05-31T00:00:00",
          "1998-06-30T00:00:00",
          "1998-07-31T00:00:00",
          "1998-08-31T00:00:00",
          "1998-09-30T00:00:00",
          "1998-10-31T00:00:00",
          "1998-11-30T00:00:00",
          "1998-12-31T00:00:00",
          "1999-01-31T00:00:00",
          "1999-02-28T00:00:00",
          "1999-03-31T00:00:00",
          "1999-04-30T00:00:00",
          "1999-05-31T00:00:00",
          "1999-06-30T00:00:00",
          "1999-07-31T00:00:00",
          "1999-08-31T00:00:00",
          "1999-09-30T00:00:00",
          "1999-10-31T00:00:00",
          "1999-11-30T00:00:00",
          "1999-12-31T00:00:00",
          "2000-01-31T00:00:00",
          "2000-02-29T00:00:00",
          "2000-03-31T00:00:00",
          "2000-04-30T00:00:00",
          "2000-05-31T00:00:00",
          "2000-06-30T00:00:00",
          "2000-07-31T00:00:00",
          "2000-08-31T00:00:00",
          "2000-09-30T00:00:00",
          "2000-10-31T00:00:00",
          "2000-11-30T00:00:00",
          "2000-12-31T00:00:00",
          "2001-01-31T00:00:00",
          "2001-02-28T00:00:00",
          "2001-03-31T00:00:00",
          "2001-04-30T00:00:00",
          "2001-05-31T00:00:00",
          "2001-06-30T00:00:00",
          "2001-07-31T00:00:00",
          "2001-08-31T00:00:00",
          "2001-09-30T00:00:00",
          "2001-10-31T00:00:00",
          "2001-11-30T00:00:00",
          "2001-12-31T00:00:00",
          "2002-01-31T00:00:00",
          "2002-02-28T00:00:00",
          "2002-03-31T00:00:00",
          "2002-04-30T00:00:00",
          "2002-05-31T00:00:00",
          "2002-06-30T00:00:00",
          "2002-07-31T00:00:00",
          "2002-08-31T00:00:00",
          "2002-09-30T00:00:00",
          "2002-10-31T00:00:00",
          "2002-11-30T00:00:00",
          "2002-12-31T00:00:00",
          "2003-01-31T00:00:00",
          "2003-02-28T00:00:00",
          "2003-03-31T00:00:00",
          "2003-04-30T00:00:00",
          "2003-05-31T00:00:00",
          "2003-06-30T00:00:00",
          "2003-07-31T00:00:00",
          "2003-08-31T00:00:00",
          "2003-09-30T00:00:00",
          "2003-10-31T00:00:00",
          "2003-11-30T00:00:00",
          "2003-12-31T00:00:00",
          "2004-01-31T00:00:00",
          "2004-02-29T00:00:00",
          "2004-03-31T00:00:00",
          "2004-04-30T00:00:00",
          "2004-05-31T00:00:00",
          "2004-06-30T00:00:00",
          "2004-07-31T00:00:00",
          "2004-08-31T00:00:00",
          "2004-09-30T00:00:00",
          "2004-10-31T00:00:00",
          "2004-11-30T00:00:00",
          "2004-12-31T00:00:00",
          "2005-01-31T00:00:00",
          "2005-02-28T00:00:00",
          "2005-03-31T00:00:00",
          "2005-04-30T00:00:00",
          "2005-05-31T00:00:00",
          "2005-06-30T00:00:00",
          "2005-07-31T00:00:00",
          "2005-08-31T00:00:00",
          "2005-09-30T00:00:00",
          "2005-10-31T00:00:00",
          "2005-11-30T00:00:00",
          "2005-12-31T00:00:00",
          "2006-01-31T00:00:00",
          "2006-02-28T00:00:00",
          "2006-03-31T00:00:00",
          "2006-04-30T00:00:00",
          "2006-05-31T00:00:00",
          "2006-06-30T00:00:00",
          "2006-07-31T00:00:00",
          "2006-08-31T00:00:00",
          "2006-09-30T00:00:00",
          "2006-10-31T00:00:00",
          "2006-11-30T00:00:00",
          "2006-12-31T00:00:00",
          "2007-01-31T00:00:00",
          "2007-02-28T00:00:00",
          "2007-03-31T00:00:00",
          "2007-04-30T00:00:00",
          "2007-05-31T00:00:00",
          "2007-06-30T00:00:00",
          "2007-07-31T00:00:00",
          "2007-08-31T00:00:00",
          "2007-09-30T00:00:00",
          "2007-10-31T00:00:00",
          "2007-11-30T00:00:00",
          "2007-12-31T00:00:00",
          "2008-01-31T00:00:00",
          "2008-02-29T00:00:00",
          "2008-03-31T00:00:00",
          "2008-04-30T00:00:00",
          "2008-05-31T00:00:00",
          "2008-06-30T00:00:00",
          "2008-07-31T00:00:00",
          "2008-08-31T00:00:00",
          "2008-09-30T00:00:00",
          "2008-10-31T00:00:00",
          "2008-11-30T00:00:00",
          "2008-12-31T00:00:00",
          "2009-01-31T00:00:00",
          "2009-02-28T00:00:00",
          "2009-03-31T00:00:00",
          "2009-04-30T00:00:00",
          "2009-05-31T00:00:00",
          "2009-06-30T00:00:00",
          "2009-07-31T00:00:00",
          "2009-08-31T00:00:00",
          "2009-09-30T00:00:00",
          "2009-10-31T00:00:00",
          "2009-11-30T00:00:00",
          "2009-12-31T00:00:00",
          "2010-01-31T00:00:00",
          "2010-02-28T00:00:00",
          "2010-03-31T00:00:00",
          "2010-04-30T00:00:00",
          "2010-05-31T00:00:00",
          "2010-06-30T00:00:00",
          "2010-07-31T00:00:00",
          "2010-08-31T00:00:00",
          "2010-09-30T00:00:00",
          "2010-10-31T00:00:00",
          "2010-11-30T00:00:00",
          "2010-12-31T00:00:00",
          "2011-01-31T00:00:00",
          "2011-02-28T00:00:00",
          "2011-03-31T00:00:00",
          "2011-04-30T00:00:00",
          "2011-05-31T00:00:00",
          "2011-06-30T00:00:00",
          "2011-07-31T00:00:00",
          "2011-08-31T00:00:00",
          "2011-09-30T00:00:00",
          "2011-10-31T00:00:00",
          "2011-11-30T00:00:00",
          "2011-12-31T00:00:00",
          "2012-01-31T00:00:00",
          "2012-02-29T00:00:00",
          "2012-03-31T00:00:00",
          "2012-04-30T00:00:00",
          "2012-05-31T00:00:00",
          "2012-06-30T00:00:00",
          "2012-07-31T00:00:00",
          "2012-08-31T00:00:00",
          "2012-09-30T00:00:00",
          "2012-10-31T00:00:00",
          "2012-11-30T00:00:00",
          "2012-12-31T00:00:00",
          "2013-01-31T00:00:00",
          "2013-02-28T00:00:00",
          "2013-03-31T00:00:00",
          "2013-04-30T00:00:00",
          "2013-05-31T00:00:00",
          "2013-06-30T00:00:00",
          "2013-07-31T00:00:00",
          "2013-08-31T00:00:00",
          "2013-09-30T00:00:00",
          "2013-10-31T00:00:00",
          "2013-11-30T00:00:00",
          "2013-12-31T00:00:00",
          "2014-01-31T00:00:00",
          "2014-02-28T00:00:00",
          "2014-03-31T00:00:00",
          "2014-04-30T00:00:00",
          "2014-05-31T00:00:00",
          "2014-06-30T00:00:00",
          "2014-07-31T00:00:00",
          "2014-08-31T00:00:00",
          "2014-09-30T00:00:00",
          "2014-10-31T00:00:00",
          "2014-11-30T00:00:00",
          "2014-12-31T00:00:00",
          "2015-01-31T00:00:00",
          "2015-02-28T00:00:00",
          "2015-03-31T00:00:00",
          "2015-04-30T00:00:00",
          "2015-05-31T00:00:00",
          "2015-06-30T00:00:00",
          "2015-07-31T00:00:00",
          "2015-08-31T00:00:00",
          "2015-09-30T00:00:00",
          "2015-10-31T00:00:00",
          "2015-11-30T00:00:00",
          "2015-12-31T00:00:00",
          "2016-01-31T00:00:00",
          "2016-02-29T00:00:00",
          "2016-03-31T00:00:00",
          "2016-04-30T00:00:00",
          "2016-05-31T00:00:00",
          "2016-06-30T00:00:00",
          "2016-07-31T00:00:00",
          "2016-08-31T00:00:00",
          "2016-09-30T00:00:00",
          "2016-10-31T00:00:00",
          "2016-11-30T00:00:00",
          "2016-12-31T00:00:00",
          "2017-01-31T00:00:00",
          "2017-02-28T00:00:00",
          "2017-03-31T00:00:00",
          "2017-04-30T00:00:00",
          "2017-05-31T00:00:00",
          "2017-06-30T00:00:00",
          "2017-07-31T00:00:00",
          "2017-08-31T00:00:00",
          "2017-09-30T00:00:00",
          "2017-10-31T00:00:00",
          "2017-11-30T00:00:00",
          "2017-12-31T00:00:00",
          "2018-01-31T00:00:00",
          "2018-02-28T00:00:00",
          "2018-03-31T00:00:00",
          "2018-04-30T00:00:00",
          "2018-05-31T00:00:00",
          "2018-06-30T00:00:00",
          "2018-07-31T00:00:00",
          "2018-08-31T00:00:00",
          "2018-09-30T00:00:00",
          "2018-10-31T00:00:00",
          "2018-11-30T00:00:00",
          "2018-12-31T00:00:00",
          "2019-01-31T00:00:00",
          "2019-02-28T00:00:00",
          "2019-03-31T00:00:00",
          "2019-04-30T00:00:00",
          "2019-05-31T00:00:00",
          "2019-06-30T00:00:00",
          "2019-07-31T00:00:00",
          "2019-08-31T00:00:00",
          "2019-09-30T00:00:00",
          "2019-10-31T00:00:00",
          "2019-11-30T00:00:00",
          "2019-12-31T00:00:00",
          "2020-01-31T00:00:00",
          "2020-02-29T00:00:00",
          "2020-03-31T00:00:00",
          "2020-04-30T00:00:00",
          "2020-05-31T00:00:00",
          "2020-06-30T00:00:00",
          "2020-07-31T00:00:00",
          "2020-08-31T00:00:00",
          "2020-09-30T00:00:00",
          "2020-10-31T00:00:00",
          "2020-11-30T00:00:00",
          "2020-12-31T00:00:00",
          "2021-01-31T00:00:00",
          "2021-02-28T00:00:00",
          "2021-03-31T00:00:00",
          "2021-04-30T00:00:00",
          "2021-05-31T00:00:00",
          "2021-06-30T00:00:00",
          "2021-07-31T00:00:00",
          "2021-08-31T00:00:00",
          "2021-09-30T00:00:00",
          "2021-10-31T00:00:00",
          "2021-11-30T00:00:00",
          "2021-12-31T00:00:00",
          "2022-01-31T00:00:00",
          "2022-02-28T00:00:00",
          "2022-03-31T00:00:00",
          "2022-04-30T00:00:00",
          "2022-05-31T00:00:00",
          "2022-06-30T00:00:00",
          "2022-07-31T00:00:00",
          "2022-08-31T00:00:00",
          "2022-09-30T00:00:00",
          "2022-10-31T00:00:00",
          "2022-11-30T00:00:00",
          "2022-12-31T00:00:00"
         ],
         "xaxis": "x",
         "y": [
          289.7934892899998,
          14.5775922549997,
          82.88027284499967,
          57.16462447499964,
          -0.000373705000413338,
          -0.0003616500004000045,
          -0.000373705000413338,
          -0.000373705000413338,
          -0.0003616500004000045,
          2.801225614999595,
          15.387834614999633,
          137.17499299999972,
          321.21534832999987,
          65.7342465049997,
          98.03500249999962,
          14.000768284999623,
          3.0552922199996146,
          -0.0003616500004000045,
          -0.000373705000413338,
          -0.000373705000413338,
          23.07849941499964,
          4.456091879999633,
          54.41109180999979,
          259.68316326499985,
          43.705949019999764,
          102.93783747499981,
          3.735092054999626,
          11.981968774999672,
          8.191557639999587,
          -0.0003616500004000045,
          -0.000373705000413338,
          -0.000373705000413338,
          -0.0003616500004000045,
          0.3154928849995997,
          57.25389111999971,
          206.10944293499978,
          244.65890024499987,
          253.1461222949998,
          21.81502099999966,
          13.787901669999627,
          12.586223239999669,
          0.41163824999961207,
          -0.000373705000413338,
          -0.000373705000413338,
          -0.0003616500004000045,
          61.676011324999735,
          252.99504360999978,
          163.69405322999972,
          78.3139406199997,
          39.60658617999971,
          90.51600432499976,
          41.254561669999816,
          -0.000373705000413338,
          -0.0003616500004000045,
          -0.000373705000413338,
          6.351291419999598,
          6.516103434999621,
          110.4087328299997,
          130.21907340999977,
          35.70628429499973,
          183.14044850999977,
          176.6240195899997,
          66.7642100899997,
          141.43233735499985,
          3.6732920699996043,
          -0.0003616500004000045,
          0.10949293499959367,
          -0.000373705000413338,
          10.567435784999645,
          18.519021799999706,
          122.33614198999982,
          300.27888674499985,
          51.8635470399997,
          27.27405583999976,
          104.00900104999971,
          178.5329283499997,
          -0.000373705000413338,
          -0.0003616500004000045,
          -0.000373705000413338,
          -0.000373705000413338,
          24.074165839999665,
          15.326022574999655,
          185.70859327499983,
          274.01389311999975,
          10.230957144999621,
          233.70659367999983,
          206.83044275999964,
          19.274367004999675,
          5.232025024999643,
          -0.0003616500004000045,
          -0.000373705000413338,
          3.7488253849996056,
          -0.0003616500004000045,
          77.55174080499975,
          285.6323023549998,
          109.25513310999972,
          128.13846185999972,
          89.57530738499969,
          101.10440175499969,
          70.87048781499965,
          2.602092329999607,
          0.329238269999621,
          -0.000373705000413338,
          -0.000373705000413338,
          2.1901044849996083,
          18.41602182499966,
          69.22248821499974,
          355.83020659499994,
          320.99561504999974,
          59.629781319999694,
          22.8587540799997,
          47.57876013499967,
          0.500892839999608,
          0.31550493999961304,
          -0.000373705000413338,
          -0.000373705000413338,
          2.025304524999626,
          181.05984901499977,
          292.7324339649999,
          74.09780830999966,
          79.47440700499962,
          22.89312356999963,
          24.77455361499966,
          49.48082633999974,
          -0.000373705000413338,
          -0.0003616500004000045,
          1.4690926049996165,
          -0.000373705000413338,
          2.25190446999963,
          77.65474077999974,
          262.12084139499984,
          79.99627354499978,
          55.49601282499967,
          19.88551224499969,
          93.42060361999978,
          83.19615148999969,
          8.782090829999646,
          -0.0003616500004000045,
          0.10949293499959367,
          1.1806926749996194,
          -0.0003616500004000045,
          106.58400042499972,
          263.97484094499976,
          254.53316451499984,
          43.815815659999686,
          28.084322309999692,
          147.33765719999977,
          3.2819042199996318,
          0.6519594699996105,
          -0.0003616500004000045,
          0.04769294999960039,
          -0.000373705000413338,
          17.880434009999647,
          43.53428239499962,
          167.73166430499975,
          88.70320476499978,
          81.98073972999973,
          2.9179950849996317,
          196.51671192999981,
          14.687434784999681,
          2.3823590499996214,
          -0.0003616500004000045,
          -0.000373705000413338,
          14.117489534999606,
          -0.0003616500004000045,
          124.62959604499974,
          84.09568460499978,
          174.8180505299998,
          152.80352253999968,
          71.23444516999973,
          3.151425529999642,
          176.84372875999978,
          -0.000373705000413338,
          -0.0003616500004000045,
          1.0708260349996124,
          -0.000373705000413338,
          -0.0003616500004000045,
          127.78139527999974,
          91.84128272499973,
          75.53980795999976,
          4.840625119999601,
          53.614570724999766,
          -0.000373705000413338,
          4.950503814999621,
          -0.000373705000413338,
          -0.0003616500004000045,
          0.500892839999608,
          -0.000373705000413338,
          2.828704329999681,
          132.4507274799997,
          277.8249042499998,
          98.52253571499969,
          254.32716456499983,
          39.94991942999971,
          4.593425179999599,
          80.8202853999997,
          48.038814634999625,
          -0.0003616500004000045,
          0.3223595499995895,
          -0.000373705000413338,
          5.074103784999636,
          38.03408372999968,
          152.7486012749998,
          153.44212238499972,
          155.5845218649998,
          340.8815130549998,
          138.6993926299997,
          53.360492064999704,
          12.627423229999607,
          17.537100759999618,
          4.620891839999587,
          -0.000373705000413338,
          13.011968524999617,
          44.22094889499971,
          72.2300874849997,
          175.64205032999982,
          382.2600001799998,
          342.2205127299999,
          47.331548139999626,
          57.65902435499967,
          3.3162254899995958,
          -0.0003616500004000045,
          -0.000373705000413338,
          1.5514925849996075,
          4.552237244999617,
          52.08328031999966,
          137.19560504999976,
          133.7416604999998,
          365.2032043199998,
          233.00619384999985,
          18.470955144999664,
          27.60363164999964,
          -0.000373705000413338,
          -0.0003616500004000045,
          -0.000373705000413338,
          -0.000373705000413338,
          11.645502189999604,
          14.124356199999625,
          100.34908065999977,
          177.03598332499976,
          57.37747903499968,
          15.786125294999778,
          381.64886699499993,
          29.574364504999664,
          -0.000373705000413338,
          1.6407712849996017,
          1.8192925199996068,
          -0.000373705000413338,
          -0.0003616500004000045,
          82.58500624999974,
          204.35158874999976,
          111.85073247999975,
          165.4862527949998,
          52.59144969499974,
          85.76427214499975,
          26.971898469999644,
          -0.000373705000413338,
          -0.0003616500004000045,
          -0.000373705000413338,
          -0.000373705000413338,
          4.112770684999617,
          24.293887064999637,
          1.3592380199996228,
          42.806415904999625,
          246.3000331799999,
          201.04874699499987,
          169.93585171499973,
          0.4597049049996542,
          -0.000373705000413338,
          -0.0003616500004000045,
          -0.000373705000413338,
          -0.000373705000413338,
          -0.0003616500004000045,
          41.1721496349997,
          197.38192377499985,
          41.034816334999704,
          32.69181835999967,
          28.22164355499976,
          122.7893298249997,
          37.059029354999666,
          0.7206261199995936,
          -0.0003616500004000045,
          -0.000373705000413338,
          -0.000373705000413338,
          11.29530227499967,
          72.12707545499964,
          42.65536132999969,
          115.62739822999976,
          418.4747913899999,
          27.026855899999646,
          97.99380250999971,
          6.241436834999632,
          0.40475952999960896,
          -0.0003616500004000045,
          -0.000373705000413338,
          0.35669287499959523,
          26.12729867499968,
          63.20041095499968,
          183.66232710499978,
          428.3971223149998,
          113.82146533499969,
          26.827722614999658,
          8.232757629999611,
          34.9166298749997,
          -0.000373705000413338,
          -0.0003616500004000045,
          -0.000373705000413338,
          2.4922256899996,
          -0.0003616500004000045,
          38.63835024999969,
          36.015296274999685,
          157.43852141499974,
          70.13574260499965,
          5.1496612099996355,
          116.53379800999969,
          6.1384368599996435,
          1.6270258999996088,
          -0.0003616500004000045,
          -0.000373705000413338,
          -0.000373705000413338,
          13.41023509499962,
          19.425421579999608,
          177.72952854499968,
          201.07617748999976,
          42.47681598499969,
          29.64304320999969,
          129.0654616349997,
          20.688899994999645,
          -0.000373705000413338,
          0.4665715699996156,
          -0.000373705000413338,
          -0.000373705000413338,
          -0.0003616500004000045,
          70.87734242499968,
          30.597497589999648,
          160.57658731999967,
          16.51395561999962,
          28.15985562499972,
          66.78481008499963,
          22.66649951499963,
          2.3480257249996157,
          34.33296334999963,
          7.2851578599996,
          0.2605595649995962,
          37.79376250999965,
          50.8541472849997,
          166.86646451499976,
          513.4682349999998,
          37.73881713499961,
          199.2840140899998,
          13.073756454999625,
          -0.0003616500004000045,
          0.23309290499960866,
          6.962436659999611,
          0.4390928549995863,
          0.3154928849995997,
          -0.0003616500004000045,
          39.10528346999965,
          59.58169055499977,
          65.14367714999975,
          160.36372070499982,
          71.15204518999968,
          155.54332187499978,
          45.75222724499966,
          1.0570927049996044,
          1.3386380249995966,
          -0.000373705000413338,
          -0.000373705000413338,
          25.076698929999623,
          27.548686274999625,
          227.6707830899999,
          136.93465972499973,
          479.82844316499984,
          167.41580976999978,
          12.943289819999649,
          17.55083408999971,
          6.186491459999672,
          4.105904019999684,
          4.037225314999631,
          1.606425904999611,
          17.708767384999646,
          59.45807852999974,
          175.16826249999977,
          305.6760854349998,
          40.46488313999973,
          34.085787519999826,
          -0.000373705000413338,
          34.799896569999675,
          3.5771587599996053,
          0.13697164999962297,
          1.4484926099996187,
          0.17129291999958696,
          1.4965713199996458,
          38.253817009999636,
          33.495230219999684,
          179.22644945999977,
          93.40000362499984,
          74.01544449499971,
          224.92410503499985,
          64.8621559399997,
          -0.000373705000413338,
          0.07517166499960126,
          -0.000373705000413338,
          -0.000373705000413338,
          -0.0003616500004000045,
          2.114559114999622,
          161.27013253999976,
          94.73900329999975,
          55.413612844999676,
          87.04837466499981,
          96.29773625499976,
          39.400562119999876,
          20.812487909999646,
          -0.0003616500004000045,
          0.4871595099996284,
          0.39789286499959076,
          0.9884381099996347,
          38.830616869999744,
          120.77054236999982,
          365.2718709699999,
          3.8724253549996774,
          19.452912349999707,
          77.29080753499971,
          16.768034279999625,
          0.35669287499962365,
          -0.0003616500004000045,
          -0.000373705000413338,
          3.6252254149995906,
          -0.0003616500004000045,
          68.1169430949997,
          270.7385059699998,
          89.12893799499975,
          107.28440025499981,
          52.921049614999674,
          315.07654981999985,
          45.676693929999715,
          -0.000373705000413338,
          1.654504614999638,
          -0.000373705000413338,
          -0.000373705000413338,
          9.681635999999656,
          58.215212164999684,
          78.95255251999973,
          73.06094189499973,
          104.51026759499973,
          174.33055347999985,
          42.22274937999967,
          -0.0003616500004000045,
          4.414891889999637,
          -0.0003616500004000045,
          -0.000373705000413338,
          1.2424926599995842,
          -0.0003616500004000045,
          27.981286169999663,
          249.2527111849999,
          196.20084533999977,
          63.20727761999976,
          96.70290565499968,
          96.4144695599997,
          0.6176381999996181,
          1.997825809999597,
          -0.0003616500004000045,
          -0.000373705000413338,
          -0.000373705000413338,
          62.42448986499974,
          42.03048275999967,
          198.0823236049999,
          164.30518641499972,
          139.44099244999978,
          55.8737035099997,
          113.36826544499971,
          1.6201712899996323,
          -0.000373705000413338,
          -0.0003616500004000045,
          0.013359624999594644,
          -0.000373705000413338,
          8.500569619999709,
          32.49268507499963,
          179.46679478999974,
          379.27986756999985,
          31.9090185499997,
          30.158055139999675,
          92.31507055499969,
          9.72283598999968,
          18.567088454999634,
          0.7481048349996513,
          5.300691674999598,
          0.027092954999602625,
          11.755368829999668,
          49.638747579999716,
          139.3036712049998,
          131.46879438499982,
          281.48482463999983,
          132.5949636099997,
          10.045557189999698,
          4.476703929999644,
          21.05968784999962,
          0.19190496999959805,
          -0.000373705000413338,
          -0.000373705000413338,
          21.011633249999647,
          7.3744245049996096,
          105.65014603999975,
          254.56749783999973,
          120.24866377499987,
          31.682454769999737,
          101.23486838999978,
          33.687496839999625,
          44.385748854999605,
          -0.0003616500004000045,
          -0.000373705000413338,
          1.7780925299996397,
          12.62743528499962,
          10.519357074999618,
          68.92035495499968,
          87.22687178999976,
          275.77862602499977,
          149.52814744499986,
          182.69411528499978,
          33.838563469999684,
          1.6682258899996043,
          0.25370495499961976,
          1.3248926399996037,
          -0.000373705000413338,
          -0.0003616500004000045,
          93.06353703999966,
          122.42540863499971,
          103.9197344049997,
          160.17145408499974,
          163.11042286999978,
          86.95220518999972,
          19.569633599999662,
          40.815083054999604,
          1.4553713299996218,
          -0.000373705000413338,
          -0.000373705000413338,
          9.606102684999627,
          22.233887564999606,
          149.31526877499977,
          155.3922552449998,
          5.7401582349996545,
          62.02624740499985,
          166.11111930999976,
          108.86374525999975,
          14.035089554999644,
          -0.0003616500004000045,
          -0.000373705000413338,
          -0.000373705000413338,
          30.638697579999672,
          149.69292329499967,
          169.66119716999975,
          69.5520760799997,
          57.054745779999706,
          231.6809395599999,
          5.3693583249996095,
          52.32362564999963,
          -0.000373705000413338,
          -0.0003616500004000045,
          -0.000373705000413338,
          -0.000373705000413338,
          -0.0003616500004000045,
          3.6526920749996066,
          132.63613948999975,
          182.93444855999982,
          89.63020453999971,
          112.5992230749998,
          72.84807527999976,
          76.14408653499981,
          -0.000373705000413338,
          0.1713049749996003,
          -0.000373705000413338,
          -0.000373705000413338,
          24.328232444999628,
          -0.000373705000413338,
          164.63479838999982,
          158.9354543849998,
          98.22040245499969,
          27.164189199999726,
          128.44059511999976,
          129.19594032499978,
          3.975425329999638,
          0.9747047799996267,
          0.033959619999592405,
          -0.000373705000413338,
          23.936832539999614,
          200.53371095499972,
          39.85376200999963,
          129.58046150999976,
          53.69694659499967,
          69.36671228999978,
          146.51365739999983,
          27.466298349999676,
          17.9971552599996,
          0.0614383349996217,
          0.12322626499960165,
          -0.000373705000413338,
          -0.0003616500004000045,
          39.44175005499969,
          187.3291262149998,
          132.7391274099998,
          126.51792891999969,
          87.19944129499973,
          233.1847030299998,
          27.32896504999971,
          1.5446259199996177,
          0.4047715849996223,
          -0.000373705000413338,
          -0.000373705000413338,
          -0.0003616500004000045,
          73.27380850999972,
          164.09919851999982,
          101.99706820499978,
          101.4958016599997,
          81.82969720999972,
          63.75661081999962,
          -0.0003616500004000045,
          2.7050923049996243,
          -0.0003616500004000045,
          0.06142627999960837,
          0.24682623499958822,
          -0.0003616500004000045,
          0.2536928999996064,
          331.6664245149998,
          9.564890639999675,
          95.1098032099998,
          0.10266243499964389,
          109.10406647999972,
          33.20683028999966,
          -0.000373705000413338,
          0.0614383349996217,
          0.45969284999958404,
          -0.000373705000413338,
          -0.0003616500004000045,
          47.91521466499967,
          136.13813863999974,
          299.2488869949998,
          0.8716927499996245,
          15.648791994999698,
          48.26541457999966,
          54.67202507999974,
          1.2905593149996548,
          4.538503914999666,
          -0.000373705000413338,
          -0.000373705000413338,
          0.13010498499960477,
          23.710220539999682,
          148.27840235999972,
          214.92624079499967,
          3.4604254549996085,
          61.83398078499971,
          78.9800071249997,
          65.63122241999969,
          36.22128416999965,
          0.9541047849996005,
          0.5146261699996444,
          0.033959619999592405,
          -0.0003616500004000045,
          10.203490484999605,
          73.95362039999975,
          22.577220814999635,
          462.1399141249998,
          4.943649204999616,
          4.188291944999605,
          -0.0003616500004000045,
          3.3299588199996037,
          5.781370279999635,
          0.34295954499958725,
          -0.000373705000413338,
          6.117836864999617,
          21.16955448999971,
          184.86399347999975,
          83.9308725899997,
          27.486886289999603,
          91.07224035499976,
          107.11960029499971,
          15.209301324999615,
          2.196959094999613,
          -0.0003616500004000045,
          4.593425179999656,
          -0.000373705000413338,
          0.04770500499961372,
          3.906758679999598,
          107.02347903999976,
          143.43739147999972,
          86.54707195499967,
          194.09281534999977,
          132.07992756999977,
          0.10263832499961723,
          3.947958669999622,
          0.15757164499962073,
          0.6107594799995866,
          0.033959619999592405,
          0.4459715749996178,
          61.77214463499976,
          117.39214318999979,
          215.5854406349998,
          4.799425129999605,
          110.0517024149998,
          108.9255331899997,
          34.93036320499971,
          0.8304927599996006,
          -0.0003616500004000045,
          0.14382625999959942,
          -0.000373705000413338,
          0.3223716049996028,
          78.28647395999963,
          44.729094159999676,
          86.84920521499967,
          286.6279567249998,
          60.858902299999784,
          189.40284698999977,
          101.76361364999971,
          43.767749004999786,
          0.08890499499960924,
          -0.000373705000413338,
          -0.000373705000413338,
          -0.0003616500004000045,
          50.455880714999694,
          183.11986056999973,
          44.797748754999674,
          65.9814102799997,
          175.2987532449999,
          28.88768594999965,
          56.004158089999635,
          -0.000373705000413338,
          0.20563829999960603,
          -0.000373705000413338,
          -0.000373705000413338,
          5.053503789999638,
          44.66041545499968,
          177.34499530499986,
          358.19920601999985,
          128.4131284599998,
          94.57423950499987,
          3.199492184999599,
          30.501364279999677,
          -0.000373705000413338,
          -0.0003616500004000045,
          -0.000373705000413338,
          -0.000373705000413338,
          19.3636336499996,
          11.55622348999961,
          242.33797952999984,
          259.92349653999975
         ],
         "yaxis": "y"
        }
       ],
       "layout": {
        "autosize": true,
        "legend": {
         "tracegroupgap": 0
        },
        "template": {
         "data": {
          "bar": [
           {
            "error_x": {
             "color": "#2a3f5f"
            },
            "error_y": {
             "color": "#2a3f5f"
            },
            "marker": {
             "line": {
              "color": "#E5ECF6",
              "width": 0.5
             },
             "pattern": {
              "fillmode": "overlay",
              "size": 10,
              "solidity": 0.2
             }
            },
            "type": "bar"
           }
          ],
          "barpolar": [
           {
            "marker": {
             "line": {
              "color": "#E5ECF6",
              "width": 0.5
             },
             "pattern": {
              "fillmode": "overlay",
              "size": 10,
              "solidity": 0.2
             }
            },
            "type": "barpolar"
           }
          ],
          "carpet": [
           {
            "aaxis": {
             "endlinecolor": "#2a3f5f",
             "gridcolor": "white",
             "linecolor": "white",
             "minorgridcolor": "white",
             "startlinecolor": "#2a3f5f"
            },
            "baxis": {
             "endlinecolor": "#2a3f5f",
             "gridcolor": "white",
             "linecolor": "white",
             "minorgridcolor": "white",
             "startlinecolor": "#2a3f5f"
            },
            "type": "carpet"
           }
          ],
          "choropleth": [
           {
            "colorbar": {
             "outlinewidth": 0,
             "ticks": ""
            },
            "type": "choropleth"
           }
          ],
          "contour": [
           {
            "colorbar": {
             "outlinewidth": 0,
             "ticks": ""
            },
            "colorscale": [
             [
              0,
              "#0d0887"
             ],
             [
              0.1111111111111111,
              "#46039f"
             ],
             [
              0.2222222222222222,
              "#7201a8"
             ],
             [
              0.3333333333333333,
              "#9c179e"
             ],
             [
              0.4444444444444444,
              "#bd3786"
             ],
             [
              0.5555555555555556,
              "#d8576b"
             ],
             [
              0.6666666666666666,
              "#ed7953"
             ],
             [
              0.7777777777777778,
              "#fb9f3a"
             ],
             [
              0.8888888888888888,
              "#fdca26"
             ],
             [
              1,
              "#f0f921"
             ]
            ],
            "type": "contour"
           }
          ],
          "contourcarpet": [
           {
            "colorbar": {
             "outlinewidth": 0,
             "ticks": ""
            },
            "type": "contourcarpet"
           }
          ],
          "heatmap": [
           {
            "colorbar": {
             "outlinewidth": 0,
             "ticks": ""
            },
            "colorscale": [
             [
              0,
              "#0d0887"
             ],
             [
              0.1111111111111111,
              "#46039f"
             ],
             [
              0.2222222222222222,
              "#7201a8"
             ],
             [
              0.3333333333333333,
              "#9c179e"
             ],
             [
              0.4444444444444444,
              "#bd3786"
             ],
             [
              0.5555555555555556,
              "#d8576b"
             ],
             [
              0.6666666666666666,
              "#ed7953"
             ],
             [
              0.7777777777777778,
              "#fb9f3a"
             ],
             [
              0.8888888888888888,
              "#fdca26"
             ],
             [
              1,
              "#f0f921"
             ]
            ],
            "type": "heatmap"
           }
          ],
          "heatmapgl": [
           {
            "colorbar": {
             "outlinewidth": 0,
             "ticks": ""
            },
            "colorscale": [
             [
              0,
              "#0d0887"
             ],
             [
              0.1111111111111111,
              "#46039f"
             ],
             [
              0.2222222222222222,
              "#7201a8"
             ],
             [
              0.3333333333333333,
              "#9c179e"
             ],
             [
              0.4444444444444444,
              "#bd3786"
             ],
             [
              0.5555555555555556,
              "#d8576b"
             ],
             [
              0.6666666666666666,
              "#ed7953"
             ],
             [
              0.7777777777777778,
              "#fb9f3a"
             ],
             [
              0.8888888888888888,
              "#fdca26"
             ],
             [
              1,
              "#f0f921"
             ]
            ],
            "type": "heatmapgl"
           }
          ],
          "histogram": [
           {
            "marker": {
             "pattern": {
              "fillmode": "overlay",
              "size": 10,
              "solidity": 0.2
             }
            },
            "type": "histogram"
           }
          ],
          "histogram2d": [
           {
            "colorbar": {
             "outlinewidth": 0,
             "ticks": ""
            },
            "colorscale": [
             [
              0,
              "#0d0887"
             ],
             [
              0.1111111111111111,
              "#46039f"
             ],
             [
              0.2222222222222222,
              "#7201a8"
             ],
             [
              0.3333333333333333,
              "#9c179e"
             ],
             [
              0.4444444444444444,
              "#bd3786"
             ],
             [
              0.5555555555555556,
              "#d8576b"
             ],
             [
              0.6666666666666666,
              "#ed7953"
             ],
             [
              0.7777777777777778,
              "#fb9f3a"
             ],
             [
              0.8888888888888888,
              "#fdca26"
             ],
             [
              1,
              "#f0f921"
             ]
            ],
            "type": "histogram2d"
           }
          ],
          "histogram2dcontour": [
           {
            "colorbar": {
             "outlinewidth": 0,
             "ticks": ""
            },
            "colorscale": [
             [
              0,
              "#0d0887"
             ],
             [
              0.1111111111111111,
              "#46039f"
             ],
             [
              0.2222222222222222,
              "#7201a8"
             ],
             [
              0.3333333333333333,
              "#9c179e"
             ],
             [
              0.4444444444444444,
              "#bd3786"
             ],
             [
              0.5555555555555556,
              "#d8576b"
             ],
             [
              0.6666666666666666,
              "#ed7953"
             ],
             [
              0.7777777777777778,
              "#fb9f3a"
             ],
             [
              0.8888888888888888,
              "#fdca26"
             ],
             [
              1,
              "#f0f921"
             ]
            ],
            "type": "histogram2dcontour"
           }
          ],
          "mesh3d": [
           {
            "colorbar": {
             "outlinewidth": 0,
             "ticks": ""
            },
            "type": "mesh3d"
           }
          ],
          "parcoords": [
           {
            "line": {
             "colorbar": {
              "outlinewidth": 0,
              "ticks": ""
             }
            },
            "type": "parcoords"
           }
          ],
          "pie": [
           {
            "automargin": true,
            "type": "pie"
           }
          ],
          "scatter": [
           {
            "fillpattern": {
             "fillmode": "overlay",
             "size": 10,
             "solidity": 0.2
            },
            "type": "scatter"
           }
          ],
          "scatter3d": [
           {
            "line": {
             "colorbar": {
              "outlinewidth": 0,
              "ticks": ""
             }
            },
            "marker": {
             "colorbar": {
              "outlinewidth": 0,
              "ticks": ""
             }
            },
            "type": "scatter3d"
           }
          ],
          "scattercarpet": [
           {
            "marker": {
             "colorbar": {
              "outlinewidth": 0,
              "ticks": ""
             }
            },
            "type": "scattercarpet"
           }
          ],
          "scattergeo": [
           {
            "marker": {
             "colorbar": {
              "outlinewidth": 0,
              "ticks": ""
             }
            },
            "type": "scattergeo"
           }
          ],
          "scattergl": [
           {
            "marker": {
             "colorbar": {
              "outlinewidth": 0,
              "ticks": ""
             }
            },
            "type": "scattergl"
           }
          ],
          "scattermapbox": [
           {
            "marker": {
             "colorbar": {
              "outlinewidth": 0,
              "ticks": ""
             }
            },
            "type": "scattermapbox"
           }
          ],
          "scatterpolar": [
           {
            "marker": {
             "colorbar": {
              "outlinewidth": 0,
              "ticks": ""
             }
            },
            "type": "scatterpolar"
           }
          ],
          "scatterpolargl": [
           {
            "marker": {
             "colorbar": {
              "outlinewidth": 0,
              "ticks": ""
             }
            },
            "type": "scatterpolargl"
           }
          ],
          "scatterternary": [
           {
            "marker": {
             "colorbar": {
              "outlinewidth": 0,
              "ticks": ""
             }
            },
            "type": "scatterternary"
           }
          ],
          "surface": [
           {
            "colorbar": {
             "outlinewidth": 0,
             "ticks": ""
            },
            "colorscale": [
             [
              0,
              "#0d0887"
             ],
             [
              0.1111111111111111,
              "#46039f"
             ],
             [
              0.2222222222222222,
              "#7201a8"
             ],
             [
              0.3333333333333333,
              "#9c179e"
             ],
             [
              0.4444444444444444,
              "#bd3786"
             ],
             [
              0.5555555555555556,
              "#d8576b"
             ],
             [
              0.6666666666666666,
              "#ed7953"
             ],
             [
              0.7777777777777778,
              "#fb9f3a"
             ],
             [
              0.8888888888888888,
              "#fdca26"
             ],
             [
              1,
              "#f0f921"
             ]
            ],
            "type": "surface"
           }
          ],
          "table": [
           {
            "cells": {
             "fill": {
              "color": "#EBF0F8"
             },
             "line": {
              "color": "white"
             }
            },
            "header": {
             "fill": {
              "color": "#C8D4E3"
             },
             "line": {
              "color": "white"
             }
            },
            "type": "table"
           }
          ]
         },
         "layout": {
          "annotationdefaults": {
           "arrowcolor": "#2a3f5f",
           "arrowhead": 0,
           "arrowwidth": 1
          },
          "autotypenumbers": "strict",
          "coloraxis": {
           "colorbar": {
            "outlinewidth": 0,
            "ticks": ""
           }
          },
          "colorscale": {
           "diverging": [
            [
             0,
             "#8e0152"
            ],
            [
             0.1,
             "#c51b7d"
            ],
            [
             0.2,
             "#de77ae"
            ],
            [
             0.3,
             "#f1b6da"
            ],
            [
             0.4,
             "#fde0ef"
            ],
            [
             0.5,
             "#f7f7f7"
            ],
            [
             0.6,
             "#e6f5d0"
            ],
            [
             0.7,
             "#b8e186"
            ],
            [
             0.8,
             "#7fbc41"
            ],
            [
             0.9,
             "#4d9221"
            ],
            [
             1,
             "#276419"
            ]
           ],
           "sequential": [
            [
             0,
             "#0d0887"
            ],
            [
             0.1111111111111111,
             "#46039f"
            ],
            [
             0.2222222222222222,
             "#7201a8"
            ],
            [
             0.3333333333333333,
             "#9c179e"
            ],
            [
             0.4444444444444444,
             "#bd3786"
            ],
            [
             0.5555555555555556,
             "#d8576b"
            ],
            [
             0.6666666666666666,
             "#ed7953"
            ],
            [
             0.7777777777777778,
             "#fb9f3a"
            ],
            [
             0.8888888888888888,
             "#fdca26"
            ],
            [
             1,
             "#f0f921"
            ]
           ],
           "sequentialminus": [
            [
             0,
             "#0d0887"
            ],
            [
             0.1111111111111111,
             "#46039f"
            ],
            [
             0.2222222222222222,
             "#7201a8"
            ],
            [
             0.3333333333333333,
             "#9c179e"
            ],
            [
             0.4444444444444444,
             "#bd3786"
            ],
            [
             0.5555555555555556,
             "#d8576b"
            ],
            [
             0.6666666666666666,
             "#ed7953"
            ],
            [
             0.7777777777777778,
             "#fb9f3a"
            ],
            [
             0.8888888888888888,
             "#fdca26"
            ],
            [
             1,
             "#f0f921"
            ]
           ]
          },
          "colorway": [
           "#636efa",
           "#EF553B",
           "#00cc96",
           "#ab63fa",
           "#FFA15A",
           "#19d3f3",
           "#FF6692",
           "#B6E880",
           "#FF97FF",
           "#FECB52"
          ],
          "font": {
           "color": "#2a3f5f"
          },
          "geo": {
           "bgcolor": "white",
           "lakecolor": "white",
           "landcolor": "#E5ECF6",
           "showlakes": true,
           "showland": true,
           "subunitcolor": "white"
          },
          "hoverlabel": {
           "align": "left"
          },
          "hovermode": "closest",
          "mapbox": {
           "style": "light"
          },
          "paper_bgcolor": "white",
          "plot_bgcolor": "#E5ECF6",
          "polar": {
           "angularaxis": {
            "gridcolor": "white",
            "linecolor": "white",
            "ticks": ""
           },
           "bgcolor": "#E5ECF6",
           "radialaxis": {
            "gridcolor": "white",
            "linecolor": "white",
            "ticks": ""
           }
          },
          "scene": {
           "xaxis": {
            "backgroundcolor": "#E5ECF6",
            "gridcolor": "white",
            "gridwidth": 2,
            "linecolor": "white",
            "showbackground": true,
            "ticks": "",
            "zerolinecolor": "white"
           },
           "yaxis": {
            "backgroundcolor": "#E5ECF6",
            "gridcolor": "white",
            "gridwidth": 2,
            "linecolor": "white",
            "showbackground": true,
            "ticks": "",
            "zerolinecolor": "white"
           },
           "zaxis": {
            "backgroundcolor": "#E5ECF6",
            "gridcolor": "white",
            "gridwidth": 2,
            "linecolor": "white",
            "showbackground": true,
            "ticks": "",
            "zerolinecolor": "white"
           }
          },
          "shapedefaults": {
           "line": {
            "color": "#2a3f5f"
           }
          },
          "ternary": {
           "aaxis": {
            "gridcolor": "white",
            "linecolor": "white",
            "ticks": ""
           },
           "baxis": {
            "gridcolor": "white",
            "linecolor": "white",
            "ticks": ""
           },
           "bgcolor": "#E5ECF6",
           "caxis": {
            "gridcolor": "white",
            "linecolor": "white",
            "ticks": ""
           }
          },
          "title": {
           "x": 0.05
          },
          "xaxis": {
           "automargin": true,
           "gridcolor": "white",
           "linecolor": "white",
           "ticks": "",
           "title": {
            "standoff": 15
           },
           "zerolinecolor": "white",
           "zerolinewidth": 2
          },
          "yaxis": {
           "automargin": true,
           "gridcolor": "white",
           "linecolor": "white",
           "ticks": "",
           "title": {
            "standoff": 15
           },
           "zerolinecolor": "white",
           "zerolinewidth": 2
          }
         }
        },
        "title": {
         "text": "Precipitação mensal na lat=-14.33; lon=-43.04"
        },
        "xaxis": {
         "anchor": "y",
         "autorange": true,
         "domain": [
          0,
          1
         ],
         "range": [
          "1961-01-31",
          "2022-12-31"
         ],
         "title": {
          "text": "Data"
         },
         "type": "date"
        },
        "yaxis": {
         "anchor": "x",
         "autorange": true,
         "domain": [
          0,
          1
         ],
         "range": [
          -28.52640752194487,
          541.9942688169443
         ],
         "title": {
          "text": "Precipitação (mm)"
         },
         "type": "linear"
        }
       }
      },
      "image/png": "[encoded data removed]",
      "text/html": [
       "<div>                            <div id=\"ee0f85d3-96a7-41a7-9e88-21b67a523d82\" class=\"plotly-graph-div\" style=\"height:525px; width:100%;\"></div>            <script type=\"text/javascript\">                require([\"plotly\"], function(Plotly) {                    window.PLOTLYENV=window.PLOTLYENV || {};                                    if (document.getElementById(\"ee0f85d3-96a7-41a7-9e88-21b67a523d82\")) {                    Plotly.newPlot(                        \"ee0f85d3-96a7-41a7-9e88-21b67a523d82\",                        [{\"hovertemplate\":\"Data: %{x} \\u003cbr\\u003eprec: %{y:.1f} mm\",\"legendgroup\":\"\",\"line\":{\"color\":\"#636efa\",\"dash\":\"solid\"},\"marker\":{\"symbol\":\"circle\"},\"mode\":\"lines\",\"name\":\"\",\"orientation\":\"v\",\"showlegend\":false,\"x\":[\"1961-01-31T00:00:00\",\"1961-02-28T00:00:00\",\"1961-03-31T00:00:00\",\"1961-04-30T00:00:00\",\"1961-05-31T00:00:00\",\"1961-06-30T00:00:00\",\"1961-07-31T00:00:00\",\"1961-08-31T00:00:00\",\"1961-09-30T00:00:00\",\"1961-10-31T00:00:00\",\"1961-11-30T00:00:00\",\"1961-12-31T00:00:00\",\"1962-01-31T00:00:00\",\"1962-02-28T00:00:00\",\"1962-03-31T00:00:00\",\"1962-04-30T00:00:00\",\"1962-05-31T00:00:00\",\"1962-06-30T00:00:00\",\"1962-07-31T00:00:00\",\"1962-08-31T00:00:00\",\"1962-09-30T00:00:00\",\"1962-10-31T00:00:00\",\"1962-11-30T00:00:00\",\"1962-12-31T00:00:00\",\"1963-01-31T00:00:00\",\"1963-02-28T00:00:00\",\"1963-03-31T00:00:00\",\"1963-04-30T00:00:00\",\"1963-05-31T00:00:00\",\"1963-06-30T00:00:00\",\"1963-07-31T00:00:00\",\"1963-08-31T00:00:00\",\"1963-09-30T00:00:00\",\"1963-10-31T00:00:00\",\"1963-11-30T00:00:00\",\"1963-12-31T00:00:00\",\"1964-01-31T00:00:00\",\"1964-02-29T00:00:00\",\"1964-03-31T00:00:00\",\"1964-04-30T00:00:00\",\"1964-05-31T00:00:00\",\"1964-06-30T00:00:00\",\"1964-07-31T00:00:00\",\"1964-08-31T00:00:00\",\"1964-09-30T00:00:00\",\"1964-10-31T00:00:00\",\"1964-11-30T00:00:00\",\"1964-12-31T00:00:00\",\"1965-01-31T00:00:00\",\"1965-02-28T00:00:00\",\"1965-03-31T00:00:00\",\"1965-04-30T00:00:00\",\"1965-05-31T00:00:00\",\"1965-06-30T00:00:00\",\"1965-07-31T00:00:00\",\"1965-08-31T00:00:00\",\"1965-09-30T00:00:00\",\"1965-10-31T00:00:00\",\"1965-11-30T00:00:00\",\"1965-12-31T00:00:00\",\"1966-01-31T00:00:00\",\"1966-02-28T00:00:00\",\"1966-03-31T00:00:00\",\"1966-04-30T00:00:00\",\"1966-05-31T00:00:00\",\"1966-06-30T00:00:00\",\"1966-07-31T00:00:00\",\"1966-08-31T00:00:00\",\"1966-09-30T00:00:00\",\"1966-10-31T00:00:00\",\"1966-11-30T00:00:00\",\"1966-12-31T00:00:00\",\"1967-01-31T00:00:00\",\"1967-02-28T00:00:00\",\"1967-03-31T00:00:00\",\"1967-04-30T00:00:00\",\"1967-05-31T00:00:00\",\"1967-06-30T00:00:00\",\"1967-07-31T00:00:00\",\"1967-08-31T00:00:00\",\"1967-09-30T00:00:00\",\"1967-10-31T00:00:00\",\"1967-11-30T00:00:00\",\"1967-12-31T00:00:00\",\"1968-01-31T00:00:00\",\"1968-02-29T00:00:00\",\"1968-03-31T00:00:00\",\"1968-04-30T00:00:00\",\"1968-05-31T00:00:00\",\"1968-06-30T00:00:00\",\"1968-07-31T00:00:00\",\"1968-08-31T00:00:00\",\"1968-09-30T00:00:00\",\"1968-10-31T00:00:00\",\"1968-11-30T00:00:00\",\"1968-12-31T00:00:00\",\"1969-01-31T00:00:00\",\"1969-02-28T00:00:00\",\"1969-03-31T00:00:00\",\"1969-04-30T00:00:00\",\"1969-05-31T00:00:00\",\"1969-06-30T00:00:00\",\"1969-07-31T00:00:00\",\"1969-08-31T00:00:00\",\"1969-09-30T00:00:00\",\"1969-10-31T00:00:00\",\"1969-11-30T00:00:00\",\"1969-12-31T00:00:00\",\"1970-01-31T00:00:00\",\"1970-02-28T00:00:00\",\"1970-03-31T00:00:00\",\"1970-04-30T00:00:00\",\"1970-05-31T00:00:00\",\"1970-06-30T00:00:00\",\"1970-07-31T00:00:00\",\"1970-08-31T00:00:00\",\"1970-09-30T00:00:00\",\"1970-10-31T00:00:00\",\"1970-11-30T00:00:00\",\"1970-12-31T00:00:00\",\"1971-01-31T00:00:00\",\"1971-02-28T00:00:00\",\"1971-03-31T00:00:00\",\"1971-04-30T00:00:00\",\"1971-05-31T00:00:00\",\"1971-06-30T00:00:00\",\"1971-07-31T00:00:00\",\"1971-08-31T00:00:00\",\"1971-09-30T00:00:00\",\"1971-10-31T00:00:00\",\"1971-11-30T00:00:00\",\"1971-12-31T00:00:00\",\"1972-01-31T00:00:00\",\"1972-02-29T00:00:00\",\"1972-03-31T00:00:00\",\"1972-04-30T00:00:00\",\"1972-05-31T00:00:00\",\"1972-06-30T00:00:00\",\"1972-07-31T00:00:00\",\"1972-08-31T00:00:00\",\"1972-09-30T00:00:00\",\"1972-10-31T00:00:00\",\"1972-11-30T00:00:00\",\"1972-12-31T00:00:00\",\"1973-01-31T00:00:00\",\"1973-02-28T00:00:00\",\"1973-03-31T00:00:00\",\"1973-04-30T00:00:00\",\"1973-05-31T00:00:00\",\"1973-06-30T00:00:00\",\"1973-07-31T00:00:00\",\"1973-08-31T00:00:00\",\"1973-09-30T00:00:00\",\"1973-10-31T00:00:00\",\"1973-11-30T00:00:00\",\"1973-12-31T00:00:00\",\"1974-01-31T00:00:00\",\"1974-02-28T00:00:00\",\"1974-03-31T00:00:00\",\"1974-04-30T00:00:00\",\"1974-05-31T00:00:00\",\"1974-06-30T00:00:00\",\"1974-07-31T00:00:00\",\"1974-08-31T00:00:00\",\"1974-09-30T00:00:00\",\"1974-10-31T00:00:00\",\"1974-11-30T00:00:00\",\"1974-12-31T00:00:00\",\"1975-01-31T00:00:00\",\"1975-02-28T00:00:00\",\"1975-03-31T00:00:00\",\"1975-04-30T00:00:00\",\"1975-05-31T00:00:00\",\"1975-06-30T00:00:00\",\"1975-07-31T00:00:00\",\"1975-08-31T00:00:00\",\"1975-09-30T00:00:00\",\"1975-10-31T00:00:00\",\"1975-11-30T00:00:00\",\"1975-12-31T00:00:00\",\"1976-01-31T00:00:00\",\"1976-02-29T00:00:00\",\"1976-03-31T00:00:00\",\"1976-04-30T00:00:00\",\"1976-05-31T00:00:00\",\"1976-06-30T00:00:00\",\"1976-07-31T00:00:00\",\"1976-08-31T00:00:00\",\"1976-09-30T00:00:00\",\"1976-10-31T00:00:00\",\"1976-11-30T00:00:00\",\"1976-12-31T00:00:00\",\"1977-01-31T00:00:00\",\"1977-02-28T00:00:00\",\"1977-03-31T00:00:00\",\"1977-04-30T00:00:00\",\"1977-05-31T00:00:00\",\"1977-06-30T00:00:00\",\"1977-07-31T00:00:00\",\"1977-08-31T00:00:00\",\"1977-09-30T00:00:00\",\"1977-10-31T00:00:00\",\"1977-11-30T00:00:00\",\"1977-12-31T00:00:00\",\"1978-01-31T00:00:00\",\"1978-02-28T00:00:00\",\"1978-03-31T00:00:00\",\"1978-04-30T00:00:00\",\"1978-05-31T00:00:00\",\"1978-06-30T00:00:00\",\"1978-07-31T00:00:00\",\"1978-08-31T00:00:00\",\"1978-09-30T00:00:00\",\"1978-10-31T00:00:00\",\"1978-11-30T00:00:00\",\"1978-12-31T00:00:00\",\"1979-01-31T00:00:00\",\"1979-02-28T00:00:00\",\"1979-03-31T00:00:00\",\"1979-04-30T00:00:00\",\"1979-05-31T00:00:00\",\"1979-06-30T00:00:00\",\"1979-07-31T00:00:00\",\"1979-08-31T00:00:00\",\"1979-09-30T00:00:00\",\"1979-10-31T00:00:00\",\"1979-11-30T00:00:00\",\"1979-12-31T00:00:00\",\"1980-01-31T00:00:00\",\"1980-02-29T00:00:00\",\"1980-03-31T00:00:00\",\"1980-04-30T00:00:00\",\"1980-05-31T00:00:00\",\"1980-06-30T00:00:00\",\"1980-07-31T00:00:00\",\"1980-08-31T00:00:00\",\"1980-09-30T00:00:00\",\"1980-10-31T00:00:00\",\"1980-11-30T00:00:00\",\"1980-12-31T00:00:00\",\"1981-01-31T00:00:00\",\"1981-02-28T00:00:00\",\"1981-03-31T00:00:00\",\"1981-04-30T00:00:00\",\"1981-05-31T00:00:00\",\"1981-06-30T00:00:00\",\"1981-07-31T00:00:00\",\"1981-08-31T00:00:00\",\"1981-09-30T00:00:00\",\"1981-10-31T00:00:00\",\"1981-11-30T00:00:00\",\"1981-12-31T00:00:00\",\"1982-01-31T00:00:00\",\"1982-02-28T00:00:00\",\"1982-03-31T00:00:00\",\"1982-04-30T00:00:00\",\"1982-05-31T00:00:00\",\"1982-06-30T00:00:00\",\"1982-07-31T00:00:00\",\"1982-08-31T00:00:00\",\"1982-09-30T00:00:00\",\"1982-10-31T00:00:00\",\"1982-11-30T00:00:00\",\"1982-12-31T00:00:00\",\"1983-01-31T00:00:00\",\"1983-02-28T00:00:00\",\"1983-03-31T00:00:00\",\"1983-04-30T00:00:00\",\"1983-05-31T00:00:00\",\"1983-06-30T00:00:00\",\"1983-07-31T00:00:00\",\"1983-08-31T00:00:00\",\"1983-09-30T00:00:00\",\"1983-10-31T00:00:00\",\"1983-11-30T00:00:00\",\"1983-12-31T00:00:00\",\"1984-01-31T00:00:00\",\"1984-02-29T00:00:00\",\"1984-03-31T00:00:00\",\"1984-04-30T00:00:00\",\"1984-05-31T00:00:00\",\"1984-06-30T00:00:00\",\"1984-07-31T00:00:00\",\"1984-08-31T00:00:00\",\"1984-09-30T00:00:00\",\"1984-10-31T00:00:00\",\"1984-11-30T00:00:00\",\"1984-12-31T00:00:00\",\"1985-01-31T00:00:00\",\"1985-02-28T00:00:00\",\"1985-03-31T00:00:00\",\"1985-04-30T00:00:00\",\"1985-05-31T00:00:00\",\"1985-06-30T00:00:00\",\"1985-07-31T00:00:00\",\"1985-08-31T00:00:00\",\"1985-09-30T00:00:00\",\"1985-10-31T00:00:00\",\"1985-11-30T00:00:00\",\"1985-12-31T00:00:00\",\"1986-01-31T00:00:00\",\"1986-02-28T00:00:00\",\"1986-03-31T00:00:00\",\"1986-04-30T00:00:00\",\"1986-05-31T00:00:00\",\"1986-06-30T00:00:00\",\"1986-07-31T00:00:00\",\"1986-08-31T00:00:00\",\"1986-09-30T00:00:00\",\"1986-10-31T00:00:00\",\"1986-11-30T00:00:00\",\"1986-12-31T00:00:00\",\"1987-01-31T00:00:00\",\"1987-02-28T00:00:00\",\"1987-03-31T00:00:00\",\"1987-04-30T00:00:00\",\"1987-05-31T00:00:00\",\"1987-06-30T00:00:00\",\"1987-07-31T00:00:00\",\"1987-08-31T00:00:00\",\"1987-09-30T00:00:00\",\"1987-10-31T00:00:00\",\"1987-11-30T00:00:00\",\"1987-12-31T00:00:00\",\"1988-01-31T00:00:00\",\"1988-02-29T00:00:00\",\"1988-03-31T00:00:00\",\"1988-04-30T00:00:00\",\"1988-05-31T00:00:00\",\"1988-06-30T00:00:00\",\"1988-07-31T00:00:00\",\"1988-08-31T00:00:00\",\"1988-09-30T00:00:00\",\"1988-10-31T00:00:00\",\"1988-11-30T00:00:00\",\"1988-12-31T00:00:00\",\"1989-01-31T00:00:00\",\"1989-02-28T00:00:00\",\"1989-03-31T00:00:00\",\"1989-04-30T00:00:00\",\"1989-05-31T00:00:00\",\"1989-06-30T00:00:00\",\"1989-07-31T00:00:00\",\"1989-08-31T00:00:00\",\"1989-09-30T00:00:00\",\"1989-10-31T00:00:00\",\"1989-11-30T00:00:00\",\"1989-12-31T00:00:00\",\"1990-01-31T00:00:00\",\"1990-02-28T00:00:00\",\"1990-03-31T00:00:00\",\"1990-04-30T00:00:00\",\"1990-05-31T00:00:00\",\"1990-06-30T00:00:00\",\"1990-07-31T00:00:00\",\"1990-08-31T00:00:00\",\"1990-09-30T00:00:00\",\"1990-10-31T00:00:00\",\"1990-11-30T00:00:00\",\"1990-12-31T00:00:00\",\"1991-01-31T00:00:00\",\"1991-02-28T00:00:00\",\"1991-03-31T00:00:00\",\"1991-04-30T00:00:00\",\"1991-05-31T00:00:00\",\"1991-06-30T00:00:00\",\"1991-07-31T00:00:00\",\"1991-08-31T00:00:00\",\"1991-09-30T00:00:00\",\"1991-10-31T00:00:00\",\"1991-11-30T00:00:00\",\"1991-12-31T00:00:00\",\"1992-01-31T00:00:00\",\"1992-02-29T00:00:00\",\"1992-03-31T00:00:00\",\"1992-04-30T00:00:00\",\"1992-05-31T00:00:00\",\"1992-06-30T00:00:00\",\"1992-07-31T00:00:00\",\"1992-08-31T00:00:00\",\"1992-09-30T00:00:00\",\"1992-10-31T00:00:00\",\"1992-11-30T00:00:00\",\"1992-12-31T00:00:00\",\"1993-01-31T00:00:00\",\"1993-02-28T00:00:00\",\"1993-03-31T00:00:00\",\"1993-04-30T00:00:00\",\"1993-05-31T00:00:00\",\"1993-06-30T00:00:00\",\"1993-07-31T00:00:00\",\"1993-08-31T00:00:00\",\"1993-09-30T00:00:00\",\"1993-10-31T00:00:00\",\"1993-11-30T00:00:00\",\"1993-12-31T00:00:00\",\"1994-01-31T00:00:00\",\"1994-02-28T00:00:00\",\"1994-03-31T00:00:00\",\"1994-04-30T00:00:00\",\"1994-05-31T00:00:00\",\"1994-06-30T00:00:00\",\"1994-07-31T00:00:00\",\"1994-08-31T00:00:00\",\"1994-09-30T00:00:00\",\"1994-10-31T00:00:00\",\"1994-11-30T00:00:00\",\"1994-12-31T00:00:00\",\"1995-01-31T00:00:00\",\"1995-02-28T00:00:00\",\"1995-03-31T00:00:00\",\"1995-04-30T00:00:00\",\"1995-05-31T00:00:00\",\"1995-06-30T00:00:00\",\"1995-07-31T00:00:00\",\"1995-08-31T00:00:00\",\"1995-09-30T00:00:00\",\"1995-10-31T00:00:00\",\"1995-11-30T00:00:00\",\"1995-12-31T00:00:00\",\"1996-01-31T00:00:00\",\"1996-02-29T00:00:00\",\"1996-03-31T00:00:00\",\"1996-04-30T00:00:00\",\"1996-05-31T00:00:00\",\"1996-06-30T00:00:00\",\"1996-07-31T00:00:00\",\"1996-08-31T00:00:00\",\"1996-09-30T00:00:00\",\"1996-10-31T00:00:00\",\"1996-11-30T00:00:00\",\"1996-12-31T00:00:00\",\"1997-01-31T00:00:00\",\"1997-02-28T00:00:00\",\"1997-03-31T00:00:00\",\"1997-04-30T00:00:00\",\"1997-05-31T00:00:00\",\"1997-06-30T00:00:00\",\"1997-07-31T00:00:00\",\"1997-08-31T00:00:00\",\"1997-09-30T00:00:00\",\"1997-10-31T00:00:00\",\"1997-11-30T00:00:00\",\"1997-12-31T00:00:00\",\"1998-01-31T00:00:00\",\"1998-02-28T00:00:00\",\"1998-03-31T00:00:00\",\"1998-04-30T00:00:00\",\"1998-05-31T00:00:00\",\"1998-06-30T00:00:00\",\"1998-07-31T00:00:00\",\"1998-08-31T00:00:00\",\"1998-09-30T00:00:00\",\"1998-10-31T00:00:00\",\"1998-11-30T00:00:00\",\"1998-12-31T00:00:00\",\"1999-01-31T00:00:00\",\"1999-02-28T00:00:00\",\"1999-03-31T00:00:00\",\"1999-04-30T00:00:00\",\"1999-05-31T00:00:00\",\"1999-06-30T00:00:00\",\"1999-07-31T00:00:00\",\"1999-08-31T00:00:00\",\"1999-09-30T00:00:00\",\"1999-10-31T00:00:00\",\"1999-11-30T00:00:00\",\"1999-12-31T00:00:00\",\"2000-01-31T00:00:00\",\"2000-02-29T00:00:00\",\"2000-03-31T00:00:00\",\"2000-04-30T00:00:00\",\"2000-05-31T00:00:00\",\"2000-06-30T00:00:00\",\"2000-07-31T00:00:00\",\"2000-08-31T00:00:00\",\"2000-09-30T00:00:00\",\"2000-10-31T00:00:00\",\"2000-11-30T00:00:00\",\"2000-12-31T00:00:00\",\"2001-01-31T00:00:00\",\"2001-02-28T00:00:00\",\"2001-03-31T00:00:00\",\"2001-04-30T00:00:00\",\"2001-05-31T00:00:00\",\"2001-06-30T00:00:00\",\"2001-07-31T00:00:00\",\"2001-08-31T00:00:00\",\"2001-09-30T00:00:00\",\"2001-10-31T00:00:00\",\"2001-11-30T00:00:00\",\"2001-12-31T00:00:00\",\"2002-01-31T00:00:00\",\"2002-02-28T00:00:00\",\"2002-03-31T00:00:00\",\"2002-04-30T00:00:00\",\"2002-05-31T00:00:00\",\"2002-06-30T00:00:00\",\"2002-07-31T00:00:00\",\"2002-08-31T00:00:00\",\"2002-09-30T00:00:00\",\"2002-10-31T00:00:00\",\"2002-11-30T00:00:00\",\"2002-12-31T00:00:00\",\"2003-01-31T00:00:00\",\"2003-02-28T00:00:00\",\"2003-03-31T00:00:00\",\"2003-04-30T00:00:00\",\"2003-05-31T00:00:00\",\"2003-06-30T00:00:00\",\"2003-07-31T00:00:00\",\"2003-08-31T00:00:00\",\"2003-09-30T00:00:00\",\"2003-10-31T00:00:00\",\"2003-11-30T00:00:00\",\"2003-12-31T00:00:00\",\"2004-01-31T00:00:00\",\"2004-02-29T00:00:00\",\"2004-03-31T00:00:00\",\"2004-04-30T00:00:00\",\"2004-05-31T00:00:00\",\"2004-06-30T00:00:00\",\"2004-07-31T00:00:00\",\"2004-08-31T00:00:00\",\"2004-09-30T00:00:00\",\"2004-10-31T00:00:00\",\"2004-11-30T00:00:00\",\"2004-12-31T00:00:00\",\"2005-01-31T00:00:00\",\"2005-02-28T00:00:00\",\"2005-03-31T00:00:00\",\"2005-04-30T00:00:00\",\"2005-05-31T00:00:00\",\"2005-06-30T00:00:00\",\"2005-07-31T00:00:00\",\"2005-08-31T00:00:00\",\"2005-09-30T00:00:00\",\"2005-10-31T00:00:00\",\"2005-11-30T00:00:00\",\"2005-12-31T00:00:00\",\"2006-01-31T00:00:00\",\"2006-02-28T00:00:00\",\"2006-03-31T00:00:00\",\"2006-04-30T00:00:00\",\"2006-05-31T00:00:00\",\"2006-06-30T00:00:00\",\"2006-07-31T00:00:00\",\"2006-08-31T00:00:00\",\"2006-09-30T00:00:00\",\"2006-10-31T00:00:00\",\"2006-11-30T00:00:00\",\"2006-12-31T00:00:00\",\"2007-01-31T00:00:00\",\"2007-02-28T00:00:00\",\"2007-03-31T00:00:00\",\"2007-04-30T00:00:00\",\"2007-05-31T00:00:00\",\"2007-06-30T00:00:00\",\"2007-07-31T00:00:00\",\"2007-08-31T00:00:00\",\"2007-09-30T00:00:00\",\"2007-10-31T00:00:00\",\"2007-11-30T00:00:00\",\"2007-12-31T00:00:00\",\"2008-01-31T00:00:00\",\"2008-02-29T00:00:00\",\"2008-03-31T00:00:00\",\"2008-04-30T00:00:00\",\"2008-05-31T00:00:00\",\"2008-06-30T00:00:00\",\"2008-07-31T00:00:00\",\"2008-08-31T00:00:00\",\"2008-09-30T00:00:00\",\"2008-10-31T00:00:00\",\"2008-11-30T00:00:00\",\"2008-12-31T00:00:00\",\"2009-01-31T00:00:00\",\"2009-02-28T00:00:00\",\"2009-03-31T00:00:00\",\"2009-04-30T00:00:00\",\"2009-05-31T00:00:00\",\"2009-06-30T00:00:00\",\"2009-07-31T00:00:00\",\"2009-08-31T00:00:00\",\"2009-09-30T00:00:00\",\"2009-10-31T00:00:00\",\"2009-11-30T00:00:00\",\"2009-12-31T00:00:00\",\"2010-01-31T00:00:00\",\"2010-02-28T00:00:00\",\"2010-03-31T00:00:00\",\"2010-04-30T00:00:00\",\"2010-05-31T00:00:00\",\"2010-06-30T00:00:00\",\"2010-07-31T00:00:00\",\"2010-08-31T00:00:00\",\"2010-09-30T00:00:00\",\"2010-10-31T00:00:00\",\"2010-11-30T00:00:00\",\"2010-12-31T00:00:00\",\"2011-01-31T00:00:00\",\"2011-02-28T00:00:00\",\"2011-03-31T00:00:00\",\"2011-04-30T00:00:00\",\"2011-05-31T00:00:00\",\"2011-06-30T00:00:00\",\"2011-07-31T00:00:00\",\"2011-08-31T00:00:00\",\"2011-09-30T00:00:00\",\"2011-10-31T00:00:00\",\"2011-11-30T00:00:00\",\"2011-12-31T00:00:00\",\"2012-01-31T00:00:00\",\"2012-02-29T00:00:00\",\"2012-03-31T00:00:00\",\"2012-04-30T00:00:00\",\"2012-05-31T00:00:00\",\"2012-06-30T00:00:00\",\"2012-07-31T00:00:00\",\"2012-08-31T00:00:00\",\"2012-09-30T00:00:00\",\"2012-10-31T00:00:00\",\"2012-11-30T00:00:00\",\"2012-12-31T00:00:00\",\"2013-01-31T00:00:00\",\"2013-02-28T00:00:00\",\"2013-03-31T00:00:00\",\"2013-04-30T00:00:00\",\"2013-05-31T00:00:00\",\"2013-06-30T00:00:00\",\"2013-07-31T00:00:00\",\"2013-08-31T00:00:00\",\"2013-09-30T00:00:00\",\"2013-10-31T00:00:00\",\"2013-11-30T00:00:00\",\"2013-12-31T00:00:00\",\"2014-01-31T00:00:00\",\"2014-02-28T00:00:00\",\"2014-03-31T00:00:00\",\"2014-04-30T00:00:00\",\"2014-05-31T00:00:00\",\"2014-06-30T00:00:00\",\"2014-07-31T00:00:00\",\"2014-08-31T00:00:00\",\"2014-09-30T00:00:00\",\"2014-10-31T00:00:00\",\"2014-11-30T00:00:00\",\"2014-12-31T00:00:00\",\"2015-01-31T00:00:00\",\"2015-02-28T00:00:00\",\"2015-03-31T00:00:00\",\"2015-04-30T00:00:00\",\"2015-05-31T00:00:00\",\"2015-06-30T00:00:00\",\"2015-07-31T00:00:00\",\"2015-08-31T00:00:00\",\"2015-09-30T00:00:00\",\"2015-10-31T00:00:00\",\"2015-11-30T00:00:00\",\"2015-12-31T00:00:00\",\"2016-01-31T00:00:00\",\"2016-02-29T00:00:00\",\"2016-03-31T00:00:00\",\"2016-04-30T00:00:00\",\"2016-05-31T00:00:00\",\"2016-06-30T00:00:00\",\"2016-07-31T00:00:00\",\"2016-08-31T00:00:00\",\"2016-09-30T00:00:00\",\"2016-10-31T00:00:00\",\"2016-11-30T00:00:00\",\"2016-12-31T00:00:00\",\"2017-01-31T00:00:00\",\"2017-02-28T00:00:00\",\"2017-03-31T00:00:00\",\"2017-04-30T00:00:00\",\"2017-05-31T00:00:00\",\"2017-06-30T00:00:00\",\"2017-07-31T00:00:00\",\"2017-08-31T00:00:00\",\"2017-09-30T00:00:00\",\"2017-10-31T00:00:00\",\"2017-11-30T00:00:00\",\"2017-12-31T00:00:00\",\"2018-01-31T00:00:00\",\"2018-02-28T00:00:00\",\"2018-03-31T00:00:00\",\"2018-04-30T00:00:00\",\"2018-05-31T00:00:00\",\"2018-06-30T00:00:00\",\"2018-07-31T00:00:00\",\"2018-08-31T00:00:00\",\"2018-09-30T00:00:00\",\"2018-10-31T00:00:00\",\"2018-11-30T00:00:00\",\"2018-12-31T00:00:00\",\"2019-01-31T00:00:00\",\"2019-02-28T00:00:00\",\"2019-03-31T00:00:00\",\"2019-04-30T00:00:00\",\"2019-05-31T00:00:00\",\"2019-06-30T00:00:00\",\"2019-07-31T00:00:00\",\"2019-08-31T00:00:00\",\"2019-09-30T00:00:00\",\"2019-10-31T00:00:00\",\"2019-11-30T00:00:00\",\"2019-12-31T00:00:00\",\"2020-01-31T00:00:00\",\"2020-02-29T00:00:00\",\"2020-03-31T00:00:00\",\"2020-04-30T00:00:00\",\"2020-05-31T00:00:00\",\"2020-06-30T00:00:00\",\"2020-07-31T00:00:00\",\"2020-08-31T00:00:00\",\"2020-09-30T00:00:00\",\"2020-10-31T00:00:00\",\"2020-11-30T00:00:00\",\"2020-12-31T00:00:00\",\"2021-01-31T00:00:00\",\"2021-02-28T00:00:00\",\"2021-03-31T00:00:00\",\"2021-04-30T00:00:00\",\"2021-05-31T00:00:00\",\"2021-06-30T00:00:00\",\"2021-07-31T00:00:00\",\"2021-08-31T00:00:00\",\"2021-09-30T00:00:00\",\"2021-10-31T00:00:00\",\"2021-11-30T00:00:00\",\"2021-12-31T00:00:00\",\"2022-01-31T00:00:00\",\"2022-02-28T00:00:00\",\"2022-03-31T00:00:00\",\"2022-04-30T00:00:00\",\"2022-05-31T00:00:00\",\"2022-06-30T00:00:00\",\"2022-07-31T00:00:00\",\"2022-08-31T00:00:00\",\"2022-09-30T00:00:00\",\"2022-10-31T00:00:00\",\"2022-11-30T00:00:00\",\"2022-12-31T00:00:00\"],\"xaxis\":\"x\",\"y\":[289.7934892899998,14.5775922549997,82.88027284499967,57.16462447499964,-0.000373705000413338,-0.0003616500004000045,-0.000373705000413338,-0.000373705000413338,-0.0003616500004000045,2.801225614999595,15.387834614999633,137.17499299999972,321.21534832999987,65.7342465049997,98.03500249999962,14.000768284999623,3.0552922199996146,-0.0003616500004000045,-0.000373705000413338,-0.000373705000413338,23.07849941499964,4.456091879999633,54.41109180999979,259.68316326499985,43.705949019999764,102.93783747499981,3.735092054999626,11.981968774999672,8.191557639999587,-0.0003616500004000045,-0.000373705000413338,-0.000373705000413338,-0.0003616500004000045,0.3154928849995997,57.25389111999971,206.10944293499978,244.65890024499987,253.1461222949998,21.81502099999966,13.787901669999627,12.586223239999669,0.41163824999961207,-0.000373705000413338,-0.000373705000413338,-0.0003616500004000045,61.676011324999735,252.99504360999978,163.69405322999972,78.3139406199997,39.60658617999971,90.51600432499976,41.254561669999816,-0.000373705000413338,-0.0003616500004000045,-0.000373705000413338,6.351291419999598,6.516103434999621,110.4087328299997,130.21907340999977,35.70628429499973,183.14044850999977,176.6240195899997,66.7642100899997,141.43233735499985,3.6732920699996043,-0.0003616500004000045,0.10949293499959367,-0.000373705000413338,10.567435784999645,18.519021799999706,122.33614198999982,300.27888674499985,51.8635470399997,27.27405583999976,104.00900104999971,178.5329283499997,-0.000373705000413338,-0.0003616500004000045,-0.000373705000413338,-0.000373705000413338,24.074165839999665,15.326022574999655,185.70859327499983,274.01389311999975,10.230957144999621,233.70659367999983,206.83044275999964,19.274367004999675,5.232025024999643,-0.0003616500004000045,-0.000373705000413338,3.7488253849996056,-0.0003616500004000045,77.55174080499975,285.6323023549998,109.25513310999972,128.13846185999972,89.57530738499969,101.10440175499969,70.87048781499965,2.602092329999607,0.329238269999621,-0.000373705000413338,-0.000373705000413338,2.1901044849996083,18.41602182499966,69.22248821499974,355.83020659499994,320.99561504999974,59.629781319999694,22.8587540799997,47.57876013499967,0.500892839999608,0.31550493999961304,-0.000373705000413338,-0.000373705000413338,2.025304524999626,181.05984901499977,292.7324339649999,74.09780830999966,79.47440700499962,22.89312356999963,24.77455361499966,49.48082633999974,-0.000373705000413338,-0.0003616500004000045,1.4690926049996165,-0.000373705000413338,2.25190446999963,77.65474077999974,262.12084139499984,79.99627354499978,55.49601282499967,19.88551224499969,93.42060361999978,83.19615148999969,8.782090829999646,-0.0003616500004000045,0.10949293499959367,1.1806926749996194,-0.0003616500004000045,106.58400042499972,263.97484094499976,254.53316451499984,43.815815659999686,28.084322309999692,147.33765719999977,3.2819042199996318,0.6519594699996105,-0.0003616500004000045,0.04769294999960039,-0.000373705000413338,17.880434009999647,43.53428239499962,167.73166430499975,88.70320476499978,81.98073972999973,2.9179950849996317,196.51671192999981,14.687434784999681,2.3823590499996214,-0.0003616500004000045,-0.000373705000413338,14.117489534999606,-0.0003616500004000045,124.62959604499974,84.09568460499978,174.8180505299998,152.80352253999968,71.23444516999973,3.151425529999642,176.84372875999978,-0.000373705000413338,-0.0003616500004000045,1.0708260349996124,-0.000373705000413338,-0.0003616500004000045,127.78139527999974,91.84128272499973,75.53980795999976,4.840625119999601,53.614570724999766,-0.000373705000413338,4.950503814999621,-0.000373705000413338,-0.0003616500004000045,0.500892839999608,-0.000373705000413338,2.828704329999681,132.4507274799997,277.8249042499998,98.52253571499969,254.32716456499983,39.94991942999971,4.593425179999599,80.8202853999997,48.038814634999625,-0.0003616500004000045,0.3223595499995895,-0.000373705000413338,5.074103784999636,38.03408372999968,152.7486012749998,153.44212238499972,155.5845218649998,340.8815130549998,138.6993926299997,53.360492064999704,12.627423229999607,17.537100759999618,4.620891839999587,-0.000373705000413338,13.011968524999617,44.22094889499971,72.2300874849997,175.64205032999982,382.2600001799998,342.2205127299999,47.331548139999626,57.65902435499967,3.3162254899995958,-0.0003616500004000045,-0.000373705000413338,1.5514925849996075,4.552237244999617,52.08328031999966,137.19560504999976,133.7416604999998,365.2032043199998,233.00619384999985,18.470955144999664,27.60363164999964,-0.000373705000413338,-0.0003616500004000045,-0.000373705000413338,-0.000373705000413338,11.645502189999604,14.124356199999625,100.34908065999977,177.03598332499976,57.37747903499968,15.786125294999778,381.64886699499993,29.574364504999664,-0.000373705000413338,1.6407712849996017,1.8192925199996068,-0.000373705000413338,-0.0003616500004000045,82.58500624999974,204.35158874999976,111.85073247999975,165.4862527949998,52.59144969499974,85.76427214499975,26.971898469999644,-0.000373705000413338,-0.0003616500004000045,-0.000373705000413338,-0.000373705000413338,4.112770684999617,24.293887064999637,1.3592380199996228,42.806415904999625,246.3000331799999,201.04874699499987,169.93585171499973,0.4597049049996542,-0.000373705000413338,-0.0003616500004000045,-0.000373705000413338,-0.000373705000413338,-0.0003616500004000045,41.1721496349997,197.38192377499985,41.034816334999704,32.69181835999967,28.22164355499976,122.7893298249997,37.059029354999666,0.7206261199995936,-0.0003616500004000045,-0.000373705000413338,-0.000373705000413338,11.29530227499967,72.12707545499964,42.65536132999969,115.62739822999976,418.4747913899999,27.026855899999646,97.99380250999971,6.241436834999632,0.40475952999960896,-0.0003616500004000045,-0.000373705000413338,0.35669287499959523,26.12729867499968,63.20041095499968,183.66232710499978,428.3971223149998,113.82146533499969,26.827722614999658,8.232757629999611,34.9166298749997,-0.000373705000413338,-0.0003616500004000045,-0.000373705000413338,2.4922256899996,-0.0003616500004000045,38.63835024999969,36.015296274999685,157.43852141499974,70.13574260499965,5.1496612099996355,116.53379800999969,6.1384368599996435,1.6270258999996088,-0.0003616500004000045,-0.000373705000413338,-0.000373705000413338,13.41023509499962,19.425421579999608,177.72952854499968,201.07617748999976,42.47681598499969,29.64304320999969,129.0654616349997,20.688899994999645,-0.000373705000413338,0.4665715699996156,-0.000373705000413338,-0.000373705000413338,-0.0003616500004000045,70.87734242499968,30.597497589999648,160.57658731999967,16.51395561999962,28.15985562499972,66.78481008499963,22.66649951499963,2.3480257249996157,34.33296334999963,7.2851578599996,0.2605595649995962,37.79376250999965,50.8541472849997,166.86646451499976,513.4682349999998,37.73881713499961,199.2840140899998,13.073756454999625,-0.0003616500004000045,0.23309290499960866,6.962436659999611,0.4390928549995863,0.3154928849995997,-0.0003616500004000045,39.10528346999965,59.58169055499977,65.14367714999975,160.36372070499982,71.15204518999968,155.54332187499978,45.75222724499966,1.0570927049996044,1.3386380249995966,-0.000373705000413338,-0.000373705000413338,25.076698929999623,27.548686274999625,227.6707830899999,136.93465972499973,479.82844316499984,167.41580976999978,12.943289819999649,17.55083408999971,6.186491459999672,4.105904019999684,4.037225314999631,1.606425904999611,17.708767384999646,59.45807852999974,175.16826249999977,305.6760854349998,40.46488313999973,34.085787519999826,-0.000373705000413338,34.799896569999675,3.5771587599996053,0.13697164999962297,1.4484926099996187,0.17129291999958696,1.4965713199996458,38.253817009999636,33.495230219999684,179.22644945999977,93.40000362499984,74.01544449499971,224.92410503499985,64.8621559399997,-0.000373705000413338,0.07517166499960126,-0.000373705000413338,-0.000373705000413338,-0.0003616500004000045,2.114559114999622,161.27013253999976,94.73900329999975,55.413612844999676,87.04837466499981,96.29773625499976,39.400562119999876,20.812487909999646,-0.0003616500004000045,0.4871595099996284,0.39789286499959076,0.9884381099996347,38.830616869999744,120.77054236999982,365.2718709699999,3.8724253549996774,19.452912349999707,77.29080753499971,16.768034279999625,0.35669287499962365,-0.0003616500004000045,-0.000373705000413338,3.6252254149995906,-0.0003616500004000045,68.1169430949997,270.7385059699998,89.12893799499975,107.28440025499981,52.921049614999674,315.07654981999985,45.676693929999715,-0.000373705000413338,1.654504614999638,-0.000373705000413338,-0.000373705000413338,9.681635999999656,58.215212164999684,78.95255251999973,73.06094189499973,104.51026759499973,174.33055347999985,42.22274937999967,-0.0003616500004000045,4.414891889999637,-0.0003616500004000045,-0.000373705000413338,1.2424926599995842,-0.0003616500004000045,27.981286169999663,249.2527111849999,196.20084533999977,63.20727761999976,96.70290565499968,96.4144695599997,0.6176381999996181,1.997825809999597,-0.0003616500004000045,-0.000373705000413338,-0.000373705000413338,62.42448986499974,42.03048275999967,198.0823236049999,164.30518641499972,139.44099244999978,55.8737035099997,113.36826544499971,1.6201712899996323,-0.000373705000413338,-0.0003616500004000045,0.013359624999594644,-0.000373705000413338,8.500569619999709,32.49268507499963,179.46679478999974,379.27986756999985,31.9090185499997,30.158055139999675,92.31507055499969,9.72283598999968,18.567088454999634,0.7481048349996513,5.300691674999598,0.027092954999602625,11.755368829999668,49.638747579999716,139.3036712049998,131.46879438499982,281.48482463999983,132.5949636099997,10.045557189999698,4.476703929999644,21.05968784999962,0.19190496999959805,-0.000373705000413338,-0.000373705000413338,21.011633249999647,7.3744245049996096,105.65014603999975,254.56749783999973,120.24866377499987,31.682454769999737,101.23486838999978,33.687496839999625,44.385748854999605,-0.0003616500004000045,-0.000373705000413338,1.7780925299996397,12.62743528499962,10.519357074999618,68.92035495499968,87.22687178999976,275.77862602499977,149.52814744499986,182.69411528499978,33.838563469999684,1.6682258899996043,0.25370495499961976,1.3248926399996037,-0.000373705000413338,-0.0003616500004000045,93.06353703999966,122.42540863499971,103.9197344049997,160.17145408499974,163.11042286999978,86.95220518999972,19.569633599999662,40.815083054999604,1.4553713299996218,-0.000373705000413338,-0.000373705000413338,9.606102684999627,22.233887564999606,149.31526877499977,155.3922552449998,5.7401582349996545,62.02624740499985,166.11111930999976,108.86374525999975,14.035089554999644,-0.0003616500004000045,-0.000373705000413338,-0.000373705000413338,30.638697579999672,149.69292329499967,169.66119716999975,69.5520760799997,57.054745779999706,231.6809395599999,5.3693583249996095,52.32362564999963,-0.000373705000413338,-0.0003616500004000045,-0.000373705000413338,-0.000373705000413338,-0.0003616500004000045,3.6526920749996066,132.63613948999975,182.93444855999982,89.63020453999971,112.5992230749998,72.84807527999976,76.14408653499981,-0.000373705000413338,0.1713049749996003,-0.000373705000413338,-0.000373705000413338,24.328232444999628,-0.000373705000413338,164.63479838999982,158.9354543849998,98.22040245499969,27.164189199999726,128.44059511999976,129.19594032499978,3.975425329999638,0.9747047799996267,0.033959619999592405,-0.000373705000413338,23.936832539999614,200.53371095499972,39.85376200999963,129.58046150999976,53.69694659499967,69.36671228999978,146.51365739999983,27.466298349999676,17.9971552599996,0.0614383349996217,0.12322626499960165,-0.000373705000413338,-0.0003616500004000045,39.44175005499969,187.3291262149998,132.7391274099998,126.51792891999969,87.19944129499973,233.1847030299998,27.32896504999971,1.5446259199996177,0.4047715849996223,-0.000373705000413338,-0.000373705000413338,-0.0003616500004000045,73.27380850999972,164.09919851999982,101.99706820499978,101.4958016599997,81.82969720999972,63.75661081999962,-0.0003616500004000045,2.7050923049996243,-0.0003616500004000045,0.06142627999960837,0.24682623499958822,-0.0003616500004000045,0.2536928999996064,331.6664245149998,9.564890639999675,95.1098032099998,0.10266243499964389,109.10406647999972,33.20683028999966,-0.000373705000413338,0.0614383349996217,0.45969284999958404,-0.000373705000413338,-0.0003616500004000045,47.91521466499967,136.13813863999974,299.2488869949998,0.8716927499996245,15.648791994999698,48.26541457999966,54.67202507999974,1.2905593149996548,4.538503914999666,-0.000373705000413338,-0.000373705000413338,0.13010498499960477,23.710220539999682,148.27840235999972,214.92624079499967,3.4604254549996085,61.83398078499971,78.9800071249997,65.63122241999969,36.22128416999965,0.9541047849996005,0.5146261699996444,0.033959619999592405,-0.0003616500004000045,10.203490484999605,73.95362039999975,22.577220814999635,462.1399141249998,4.943649204999616,4.188291944999605,-0.0003616500004000045,3.3299588199996037,5.781370279999635,0.34295954499958725,-0.000373705000413338,6.117836864999617,21.16955448999971,184.86399347999975,83.9308725899997,27.486886289999603,91.07224035499976,107.11960029499971,15.209301324999615,2.196959094999613,-0.0003616500004000045,4.593425179999656,-0.000373705000413338,0.04770500499961372,3.906758679999598,107.02347903999976,143.43739147999972,86.54707195499967,194.09281534999977,132.07992756999977,0.10263832499961723,3.947958669999622,0.15757164499962073,0.6107594799995866,0.033959619999592405,0.4459715749996178,61.77214463499976,117.39214318999979,215.5854406349998,4.799425129999605,110.0517024149998,108.9255331899997,34.93036320499971,0.8304927599996006,-0.0003616500004000045,0.14382625999959942,-0.000373705000413338,0.3223716049996028,78.28647395999963,44.729094159999676,86.84920521499967,286.6279567249998,60.858902299999784,189.40284698999977,101.76361364999971,43.767749004999786,0.08890499499960924,-0.000373705000413338,-0.000373705000413338,-0.0003616500004000045,50.455880714999694,183.11986056999973,44.797748754999674,65.9814102799997,175.2987532449999,28.88768594999965,56.004158089999635,-0.000373705000413338,0.20563829999960603,-0.000373705000413338,-0.000373705000413338,5.053503789999638,44.66041545499968,177.34499530499986,358.19920601999985,128.4131284599998,94.57423950499987,3.199492184999599,30.501364279999677,-0.000373705000413338,-0.0003616500004000045,-0.000373705000413338,-0.000373705000413338,19.3636336499996,11.55622348999961,242.33797952999984,259.92349653999975],\"yaxis\":\"y\",\"type\":\"scatter\"}],                        {\"template\":{\"data\":{\"histogram2dcontour\":[{\"type\":\"histogram2dcontour\",\"colorbar\":{\"outlinewidth\":0,\"ticks\":\"\"},\"colorscale\":[[0.0,\"#0d0887\"],[0.1111111111111111,\"#46039f\"],[0.2222222222222222,\"#7201a8\"],[0.3333333333333333,\"#9c179e\"],[0.4444444444444444,\"#bd3786\"],[0.5555555555555556,\"#d8576b\"],[0.6666666666666666,\"#ed7953\"],[0.7777777777777778,\"#fb9f3a\"],[0.8888888888888888,\"#fdca26\"],[1.0,\"#f0f921\"]]}],\"choropleth\":[{\"type\":\"choropleth\",\"colorbar\":{\"outlinewidth\":0,\"ticks\":\"\"}}],\"histogram2d\":[{\"type\":\"histogram2d\",\"colorbar\":{\"outlinewidth\":0,\"ticks\":\"\"},\"colorscale\":[[0.0,\"#0d0887\"],[0.1111111111111111,\"#46039f\"],[0.2222222222222222,\"#7201a8\"],[0.3333333333333333,\"#9c179e\"],[0.4444444444444444,\"#bd3786\"],[0.5555555555555556,\"#d8576b\"],[0.6666666666666666,\"#ed7953\"],[0.7777777777777778,\"#fb9f3a\"],[0.8888888888888888,\"#fdca26\"],[1.0,\"#f0f921\"]]}],\"heatmap\":[{\"type\":\"heatmap\",\"colorbar\":{\"outlinewidth\":0,\"ticks\":\"\"},\"colorscale\":[[0.0,\"#0d0887\"],[0.1111111111111111,\"#46039f\"],[0.2222222222222222,\"#7201a8\"],[0.3333333333333333,\"#9c179e\"],[0.4444444444444444,\"#bd3786\"],[0.5555555555555556,\"#d8576b\"],[0.6666666666666666,\"#ed7953\"],[0.7777777777777778,\"#fb9f3a\"],[0.8888888888888888,\"#fdca26\"],[1.0,\"#f0f921\"]]}],\"heatmapgl\":[{\"type\":\"heatmapgl\",\"colorbar\":{\"outlinewidth\":0,\"ticks\":\"\"},\"colorscale\":[[0.0,\"#0d0887\"],[0.1111111111111111,\"#46039f\"],[0.2222222222222222,\"#7201a8\"],[0.3333333333333333,\"#9c179e\"],[0.4444444444444444,\"#bd3786\"],[0.5555555555555556,\"#d8576b\"],[0.6666666666666666,\"#ed7953\"],[0.7777777777777778,\"#fb9f3a\"],[0.8888888888888888,\"#fdca26\"],[1.0,\"#f0f921\"]]}],\"contourcarpet\":[{\"type\":\"contourcarpet\",\"colorbar\":{\"outlinewidth\":0,\"ticks\":\"\"}}],\"contour\":[{\"type\":\"contour\",\"colorbar\":{\"outlinewidth\":0,\"ticks\":\"\"},\"colorscale\":[[0.0,\"#0d0887\"],[0.1111111111111111,\"#46039f\"],[0.2222222222222222,\"#7201a8\"],[0.3333333333333333,\"#9c179e\"],[0.4444444444444444,\"#bd3786\"],[0.5555555555555556,\"#d8576b\"],[0.6666666666666666,\"#ed7953\"],[0.7777777777777778,\"#fb9f3a\"],[0.8888888888888888,\"#fdca26\"],[1.0,\"#f0f921\"]]}],\"surface\":[{\"type\":\"surface\",\"colorbar\":{\"outlinewidth\":0,\"ticks\":\"\"},\"colorscale\":[[0.0,\"#0d0887\"],[0.1111111111111111,\"#46039f\"],[0.2222222222222222,\"#7201a8\"],[0.3333333333333333,\"#9c179e\"],[0.4444444444444444,\"#bd3786\"],[0.5555555555555556,\"#d8576b\"],[0.6666666666666666,\"#ed7953\"],[0.7777777777777778,\"#fb9f3a\"],[0.8888888888888888,\"#fdca26\"],[1.0,\"#f0f921\"]]}],\"mesh3d\":[{\"type\":\"mesh3d\",\"colorbar\":{\"outlinewidth\":0,\"ticks\":\"\"}}],\"scatter\":[{\"fillpattern\":{\"fillmode\":\"overlay\",\"size\":10,\"solidity\":0.2},\"type\":\"scatter\"}],\"parcoords\":[{\"type\":\"parcoords\",\"line\":{\"colorbar\":{\"outlinewidth\":0,\"ticks\":\"\"}}}],\"scatterpolargl\":[{\"type\":\"scatterpolargl\",\"marker\":{\"colorbar\":{\"outlinewidth\":0,\"ticks\":\"\"}}}],\"bar\":[{\"error_x\":{\"color\":\"#2a3f5f\"},\"error_y\":{\"color\":\"#2a3f5f\"},\"marker\":{\"line\":{\"color\":\"#E5ECF6\",\"width\":0.5},\"pattern\":{\"fillmode\":\"overlay\",\"size\":10,\"solidity\":0.2}},\"type\":\"bar\"}],\"scattergeo\":[{\"type\":\"scattergeo\",\"marker\":{\"colorbar\":{\"outlinewidth\":0,\"ticks\":\"\"}}}],\"scatterpolar\":[{\"type\":\"scatterpolar\",\"marker\":{\"colorbar\":{\"outlinewidth\":0,\"ticks\":\"\"}}}],\"histogram\":[{\"marker\":{\"pattern\":{\"fillmode\":\"overlay\",\"size\":10,\"solidity\":0.2}},\"type\":\"histogram\"}],\"scattergl\":[{\"type\":\"scattergl\",\"marker\":{\"colorbar\":{\"outlinewidth\":0,\"ticks\":\"\"}}}],\"scatter3d\":[{\"type\":\"scatter3d\",\"line\":{\"colorbar\":{\"outlinewidth\":0,\"ticks\":\"\"}},\"marker\":{\"colorbar\":{\"outlinewidth\":0,\"ticks\":\"\"}}}],\"scattermapbox\":[{\"type\":\"scattermapbox\",\"marker\":{\"colorbar\":{\"outlinewidth\":0,\"ticks\":\"\"}}}],\"scatterternary\":[{\"type\":\"scatterternary\",\"marker\":{\"colorbar\":{\"outlinewidth\":0,\"ticks\":\"\"}}}],\"scattercarpet\":[{\"type\":\"scattercarpet\",\"marker\":{\"colorbar\":{\"outlinewidth\":0,\"ticks\":\"\"}}}],\"carpet\":[{\"aaxis\":{\"endlinecolor\":\"#2a3f5f\",\"gridcolor\":\"white\",\"linecolor\":\"white\",\"minorgridcolor\":\"white\",\"startlinecolor\":\"#2a3f5f\"},\"baxis\":{\"endlinecolor\":\"#2a3f5f\",\"gridcolor\":\"white\",\"linecolor\":\"white\",\"minorgridcolor\":\"white\",\"startlinecolor\":\"#2a3f5f\"},\"type\":\"carpet\"}],\"table\":[{\"cells\":{\"fill\":{\"color\":\"#EBF0F8\"},\"line\":{\"color\":\"white\"}},\"header\":{\"fill\":{\"color\":\"#C8D4E3\"},\"line\":{\"color\":\"white\"}},\"type\":\"table\"}],\"barpolar\":[{\"marker\":{\"line\":{\"color\":\"#E5ECF6\",\"width\":0.5},\"pattern\":{\"fillmode\":\"overlay\",\"size\":10,\"solidity\":0.2}},\"type\":\"barpolar\"}],\"pie\":[{\"automargin\":true,\"type\":\"pie\"}]},\"layout\":{\"autotypenumbers\":\"strict\",\"colorway\":[\"#636efa\",\"#EF553B\",\"#00cc96\",\"#ab63fa\",\"#FFA15A\",\"#19d3f3\",\"#FF6692\",\"#B6E880\",\"#FF97FF\",\"#FECB52\"],\"font\":{\"color\":\"#2a3f5f\"},\"hovermode\":\"closest\",\"hoverlabel\":{\"align\":\"left\"},\"paper_bgcolor\":\"white\",\"plot_bgcolor\":\"#E5ECF6\",\"polar\":{\"bgcolor\":\"#E5ECF6\",\"angularaxis\":{\"gridcolor\":\"white\",\"linecolor\":\"white\",\"ticks\":\"\"},\"radialaxis\":{\"gridcolor\":\"white\",\"linecolor\":\"white\",\"ticks\":\"\"}},\"ternary\":{\"bgcolor\":\"#E5ECF6\",\"aaxis\":{\"gridcolor\":\"white\",\"linecolor\":\"white\",\"ticks\":\"\"},\"baxis\":{\"gridcolor\":\"white\",\"linecolor\":\"white\",\"ticks\":\"\"},\"caxis\":{\"gridcolor\":\"white\",\"linecolor\":\"white\",\"ticks\":\"\"}},\"coloraxis\":{\"colorbar\":{\"outlinewidth\":0,\"ticks\":\"\"}},\"colorscale\":{\"sequential\":[[0.0,\"#0d0887\"],[0.1111111111111111,\"#46039f\"],[0.2222222222222222,\"#7201a8\"],[0.3333333333333333,\"#9c179e\"],[0.4444444444444444,\"#bd3786\"],[0.5555555555555556,\"#d8576b\"],[0.6666666666666666,\"#ed7953\"],[0.7777777777777778,\"#fb9f3a\"],[0.8888888888888888,\"#fdca26\"],[1.0,\"#f0f921\"]],\"sequentialminus\":[[0.0,\"#0d0887\"],[0.1111111111111111,\"#46039f\"],[0.2222222222222222,\"#7201a8\"],[0.3333333333333333,\"#9c179e\"],[0.4444444444444444,\"#bd3786\"],[0.5555555555555556,\"#d8576b\"],[0.6666666666666666,\"#ed7953\"],[0.7777777777777778,\"#fb9f3a\"],[0.8888888888888888,\"#fdca26\"],[1.0,\"#f0f921\"]],\"diverging\":[[0,\"#8e0152\"],[0.1,\"#c51b7d\"],[0.2,\"#de77ae\"],[0.3,\"#f1b6da\"],[0.4,\"#fde0ef\"],[0.5,\"#f7f7f7\"],[0.6,\"#e6f5d0\"],[0.7,\"#b8e186\"],[0.8,\"#7fbc41\"],[0.9,\"#4d9221\"],[1,\"#276419\"]]},\"xaxis\":{\"gridcolor\":\"white\",\"linecolor\":\"white\",\"ticks\":\"\",\"title\":{\"standoff\":15},\"zerolinecolor\":\"white\",\"automargin\":true,\"zerolinewidth\":2},\"yaxis\":{\"gridcolor\":\"white\",\"linecolor\":\"white\",\"ticks\":\"\",\"title\":{\"standoff\":15},\"zerolinecolor\":\"white\",\"automargin\":true,\"zerolinewidth\":2},\"scene\":{\"xaxis\":{\"backgroundcolor\":\"#E5ECF6\",\"gridcolor\":\"white\",\"linecolor\":\"white\",\"showbackground\":true,\"ticks\":\"\",\"zerolinecolor\":\"white\",\"gridwidth\":2},\"yaxis\":{\"backgroundcolor\":\"#E5ECF6\",\"gridcolor\":\"white\",\"linecolor\":\"white\",\"showbackground\":true,\"ticks\":\"\",\"zerolinecolor\":\"white\",\"gridwidth\":2},\"zaxis\":{\"backgroundcolor\":\"#E5ECF6\",\"gridcolor\":\"white\",\"linecolor\":\"white\",\"showbackground\":true,\"ticks\":\"\",\"zerolinecolor\":\"white\",\"gridwidth\":2}},\"shapedefaults\":{\"line\":{\"color\":\"#2a3f5f\"}},\"annotationdefaults\":{\"arrowcolor\":\"#2a3f5f\",\"arrowhead\":0,\"arrowwidth\":1},\"geo\":{\"bgcolor\":\"white\",\"landcolor\":\"#E5ECF6\",\"subunitcolor\":\"white\",\"showland\":true,\"showlakes\":true,\"lakecolor\":\"white\"},\"title\":{\"x\":0.05},\"mapbox\":{\"style\":\"light\"}}},\"xaxis\":{\"anchor\":\"y\",\"domain\":[0.0,1.0],\"title\":{\"text\":\"Data\"}},\"yaxis\":{\"anchor\":\"x\",\"domain\":[0.0,1.0],\"title\":{\"text\":\"Precipita\\u00e7\\u00e3o (mm)\"}},\"legend\":{\"tracegroupgap\":0},\"title\":{\"text\":\"Precipita\\u00e7\\u00e3o mensal na lat=-14.33; lon=-43.04\"}},                        {\"responsive\": true}                    ).then(function(){\n",
       "                            \n",
       "var gd = document.getElementById('ee0f85d3-96a7-41a7-9e88-21b67a523d82');\n",
       "var x = new MutationObserver(function (mutations, observer) {{\n",
       "        var display = window.getComputedStyle(gd).display;\n",
       "        if (!display || display === 'none') {{\n",
       "            console.log([gd, 'removed!']);\n",
       "            Plotly.purge(gd);\n",
       "            observer.disconnect();\n",
       "        }}\n",
       "}});\n",
       "\n",
       "// Listen for the removal of the full notebook cells\n",
       "var notebookContainer = gd.closest('#notebook-container');\n",
       "if (notebookContainer) {{\n",
       "    x.observe(notebookContainer, {childList: true});\n",
       "}}\n",
       "\n",
       "// Listen for the clearing of the current output cell\n",
       "var outputEl = gd.closest('.output');\n",
       "if (outputEl) {{\n",
       "    x.observe(outputEl, {childList: true});\n",
       "}}\n",
       "\n",
       "                        })                };                });            </script>        </div>"
      ]
     },
     "metadata": {},
     "output_type": "display_data"
    }
   ],
   "source": [
    "# Plotando mensal\n",
    "fig = px.line(df_mes, x=df_mes.index, \n",
    "              y='Precipitação (mm)',\n",
    "              title=f\"Precipitação mensal na lat={lon_lat[1]}; lon={lon_lat[0]}\")\n",
    "fig.update_traces(hovertemplate=\"Data: %{x} <br>prec: %{y:.1f} mm\")\n",
    "fig.show()"
   ]
  },
  {
   "cell_type": "markdown",
   "metadata": {},
   "source": [
    "## Agregando dados diários para anual e plotando"
   ]
  },
  {
   "cell_type": "code",
   "execution_count": 35,
   "metadata": {
    "colab": {
     "base_uri": "https://localhost:8080/",
     "height": 542
    },
    "id": "QAvrdEer0I3i",
    "outputId": "f4aa0253-dde8-49bb-a5f5-9aff0edc7c30"
   },
   "outputs": [
    {
     "data": {
      "text/html": [
       "\n",
       "            <style>\n",
       "                .geemap-dark {\n",
       "                    --jp-widgets-color: white;\n",
       "                    --jp-widgets-label-color: white;\n",
       "                    --jp-ui-font-color1: white;\n",
       "                    --jp-layout-color2: #454545;\n",
       "                    background-color: #383838;\n",
       "                }\n",
       "\n",
       "                .geemap-dark .jupyter-button {\n",
       "                    --jp-layout-color3: #383838;\n",
       "                }\n",
       "\n",
       "                .geemap-colab {\n",
       "                    background-color: var(--colab-primary-surface-color, white);\n",
       "                }\n",
       "\n",
       "                .geemap-colab .jupyter-button {\n",
       "                    --jp-layout-color3: var(--colab-primary-surface-color, white);\n",
       "                }\n",
       "            </style>\n",
       "            "
      ],
      "text/plain": [
       "<IPython.core.display.HTML object>"
      ]
     },
     "metadata": {},
     "output_type": "display_data"
    },
    {
     "data": {
      "text/html": [
       "<div>\n",
       "<style scoped>\n",
       "    .dataframe tbody tr th:only-of-type {\n",
       "        vertical-align: middle;\n",
       "    }\n",
       "\n",
       "    .dataframe tbody tr th {\n",
       "        vertical-align: top;\n",
       "    }\n",
       "\n",
       "    .dataframe thead th {\n",
       "        text-align: right;\n",
       "    }\n",
       "</style>\n",
       "<table border=\"1\" class=\"dataframe\">\n",
       "  <thead>\n",
       "    <tr style=\"text-align: right;\">\n",
       "      <th></th>\n",
       "      <th>Precipitação (mm)</th>\n",
       "    </tr>\n",
       "    <tr>\n",
       "      <th>Data</th>\n",
       "      <th></th>\n",
       "    </tr>\n",
       "  </thead>\n",
       "  <tbody>\n",
       "    <tr>\n",
       "      <th>1961-12-31</th>\n",
       "      <td>599.778188</td>\n",
       "    </tr>\n",
       "    <tr>\n",
       "      <th>1962-12-31</th>\n",
       "      <td>843.668395</td>\n",
       "    </tr>\n",
       "    <tr>\n",
       "      <th>1963-12-31</th>\n",
       "      <td>434.229761</td>\n",
       "    </tr>\n",
       "    <tr>\n",
       "      <th>1964-12-31</th>\n",
       "      <td>1024.769806</td>\n",
       "    </tr>\n",
       "    <tr>\n",
       "      <th>1965-12-31</th>\n",
       "      <td>538.891469</td>\n",
       "    </tr>\n",
       "    <tr>\n",
       "      <th>...</th>\n",
       "      <td>...</td>\n",
       "    </tr>\n",
       "    <tr>\n",
       "      <th>2018-12-31</th>\n",
       "      <td>812.768403</td>\n",
       "    </tr>\n",
       "    <tr>\n",
       "      <th>2019-12-31</th>\n",
       "      <td>469.867753</td>\n",
       "    </tr>\n",
       "    <tr>\n",
       "      <th>2020-12-31</th>\n",
       "      <td>960.882355</td>\n",
       "    </tr>\n",
       "    <tr>\n",
       "      <th>2021-12-31</th>\n",
       "      <td>911.634645</td>\n",
       "    </tr>\n",
       "    <tr>\n",
       "      <th>2022-12-31</th>\n",
       "      <td>789.868075</td>\n",
       "    </tr>\n",
       "  </tbody>\n",
       "</table>\n",
       "<p>62 rows × 1 columns</p>\n",
       "</div>"
      ],
      "text/plain": [
       "            Precipitação (mm)\n",
       "Data                         \n",
       "1961-12-31         599.778188\n",
       "1962-12-31         843.668395\n",
       "1963-12-31         434.229761\n",
       "1964-12-31        1024.769806\n",
       "1965-12-31         538.891469\n",
       "...                       ...\n",
       "2018-12-31         812.768403\n",
       "2019-12-31         469.867753\n",
       "2020-12-31         960.882355\n",
       "2021-12-31         911.634645\n",
       "2022-12-31         789.868075\n",
       "\n",
       "[62 rows x 1 columns]"
      ]
     },
     "execution_count": 35,
     "metadata": {},
     "output_type": "execute_result"
    }
   ],
   "source": [
    "df_ano = df.resample('Y').sum()\n",
    "df_ano"
   ]
  },
  {
   "cell_type": "code",
   "execution_count": 36,
   "metadata": {},
   "outputs": [
    {
     "data": {
      "text/html": [
       "\n",
       "            <style>\n",
       "                .geemap-dark {\n",
       "                    --jp-widgets-color: white;\n",
       "                    --jp-widgets-label-color: white;\n",
       "                    --jp-ui-font-color1: white;\n",
       "                    --jp-layout-color2: #454545;\n",
       "                    background-color: #383838;\n",
       "                }\n",
       "\n",
       "                .geemap-dark .jupyter-button {\n",
       "                    --jp-layout-color3: #383838;\n",
       "                }\n",
       "\n",
       "                .geemap-colab {\n",
       "                    background-color: var(--colab-primary-surface-color, white);\n",
       "                }\n",
       "\n",
       "                .geemap-colab .jupyter-button {\n",
       "                    --jp-layout-color3: var(--colab-primary-surface-color, white);\n",
       "                }\n",
       "            </style>\n",
       "            "
      ],
      "text/plain": [
       "<IPython.core.display.HTML object>"
      ]
     },
     "metadata": {},
     "output_type": "display_data"
    },
    {
     "data": {
      "application/vnd.plotly.v1+json": {
       "config": {
        "plotlyServerURL": "https://plot.ly"
       },
       "data": [
        {
         "alignmentgroup": "True",
         "hovertemplate": "Data: %{x} <br>prec: %{y:.0f} mm",
         "legendgroup": "",
         "marker": {
          "color": "#636efa",
          "pattern": {
           "shape": ""
          }
         },
         "name": "",
         "offsetgroup": "",
         "orientation": "v",
         "showlegend": false,
         "textposition": "auto",
         "type": "bar",
         "x": [
          "1961-12-31T00:00:00",
          "1962-12-31T00:00:00",
          "1963-12-31T00:00:00",
          "1964-12-31T00:00:00",
          "1965-12-31T00:00:00",
          "1966-12-31T00:00:00",
          "1967-12-31T00:00:00",
          "1968-12-31T00:00:00",
          "1969-12-31T00:00:00",
          "1970-12-31T00:00:00",
          "1971-12-31T00:00:00",
          "1972-12-31T00:00:00",
          "1973-12-31T00:00:00",
          "1974-12-31T00:00:00",
          "1975-12-31T00:00:00",
          "1976-12-31T00:00:00",
          "1977-12-31T00:00:00",
          "1978-12-31T00:00:00",
          "1979-12-31T00:00:00",
          "1980-12-31T00:00:00",
          "1981-12-31T00:00:00",
          "1982-12-31T00:00:00",
          "1983-12-31T00:00:00",
          "1984-12-31T00:00:00",
          "1985-12-31T00:00:00",
          "1986-12-31T00:00:00",
          "1987-12-31T00:00:00",
          "1988-12-31T00:00:00",
          "1989-12-31T00:00:00",
          "1990-12-31T00:00:00",
          "1991-12-31T00:00:00",
          "1992-12-31T00:00:00",
          "1993-12-31T00:00:00",
          "1994-12-31T00:00:00",
          "1995-12-31T00:00:00",
          "1996-12-31T00:00:00",
          "1997-12-31T00:00:00",
          "1998-12-31T00:00:00",
          "1999-12-31T00:00:00",
          "2000-12-31T00:00:00",
          "2001-12-31T00:00:00",
          "2002-12-31T00:00:00",
          "2003-12-31T00:00:00",
          "2004-12-31T00:00:00",
          "2005-12-31T00:00:00",
          "2006-12-31T00:00:00",
          "2007-12-31T00:00:00",
          "2008-12-31T00:00:00",
          "2009-12-31T00:00:00",
          "2010-12-31T00:00:00",
          "2011-12-31T00:00:00",
          "2012-12-31T00:00:00",
          "2013-12-31T00:00:00",
          "2014-12-31T00:00:00",
          "2015-12-31T00:00:00",
          "2016-12-31T00:00:00",
          "2017-12-31T00:00:00",
          "2018-12-31T00:00:00",
          "2019-12-31T00:00:00",
          "2020-12-31T00:00:00",
          "2021-12-31T00:00:00",
          "2022-12-31T00:00:00"
         ],
         "xaxis": "x",
         "y": [
          599.7781876799957,
          843.6683951499961,
          434.22976119499594,
          1024.7698058049962,
          538.8914691249962,
          1023.4445515149964,
          860.8007243249962,
          951.461290264996,
          838.278063124996,
          1001.7939567699962,
          600.114654264996,
          887.1618392049962,
          541.068201929996,
          696.1449642899962,
          700.2649632899961,
          575.5319815099958,
          777.3501445799961,
          1028.4160169749962,
          1161.9108512399962,
          947.4374245749962,
          886.6331180549963,
          403.3847020149958,
          897.3313821249964,
          463.18647544499595,
          1251.8847627349962,
          418.3814983749958,
          611.2249182349957,
          484.3907369649957,
          947.334436654996,
          421.87663085999577,
          852.4371263549962,
          1251.6856173949966,
          367.15617747499596,
          715.3990929499962,
          825.7189328399967,
          549.349387864996,
          742.5224196999962,
          800.1543390449962,
          725.7814904299962,
          910.0553003149962,
          520.9145401549963,
          838.4565964149959,
          512.3106089099961,
          964.4942204349961,
          808.6209369899962,
          776.3201448299963,
          665.650105024996,
          699.2898848049963,
          781.9096101399962,
          674.7347028199963,
          815.5494019749963,
          591.5793776149958,
          721.3456248399959,
          512.331208904996,
          354.36358057999576,
          776.8076659899958,
          502.0930113899958,
          812.7684026499962,
          469.86775254499577,
          960.8823546449963,
          911.6346453199963,
          789.8680748749962
         ],
         "yaxis": "y"
        }
       ],
       "layout": {
        "autosize": true,
        "barmode": "relative",
        "legend": {
         "tracegroupgap": 0
        },
        "margin": {
         "t": 60
        },
        "template": {
         "data": {
          "bar": [
           {
            "error_x": {
             "color": "#2a3f5f"
            },
            "error_y": {
             "color": "#2a3f5f"
            },
            "marker": {
             "line": {
              "color": "#E5ECF6",
              "width": 0.5
             },
             "pattern": {
              "fillmode": "overlay",
              "size": 10,
              "solidity": 0.2
             }
            },
            "type": "bar"
           }
          ],
          "barpolar": [
           {
            "marker": {
             "line": {
              "color": "#E5ECF6",
              "width": 0.5
             },
             "pattern": {
              "fillmode": "overlay",
              "size": 10,
              "solidity": 0.2
             }
            },
            "type": "barpolar"
           }
          ],
          "carpet": [
           {
            "aaxis": {
             "endlinecolor": "#2a3f5f",
             "gridcolor": "white",
             "linecolor": "white",
             "minorgridcolor": "white",
             "startlinecolor": "#2a3f5f"
            },
            "baxis": {
             "endlinecolor": "#2a3f5f",
             "gridcolor": "white",
             "linecolor": "white",
             "minorgridcolor": "white",
             "startlinecolor": "#2a3f5f"
            },
            "type": "carpet"
           }
          ],
          "choropleth": [
           {
            "colorbar": {
             "outlinewidth": 0,
             "ticks": ""
            },
            "type": "choropleth"
           }
          ],
          "contour": [
           {
            "colorbar": {
             "outlinewidth": 0,
             "ticks": ""
            },
            "colorscale": [
             [
              0,
              "#0d0887"
             ],
             [
              0.1111111111111111,
              "#46039f"
             ],
             [
              0.2222222222222222,
              "#7201a8"
             ],
             [
              0.3333333333333333,
              "#9c179e"
             ],
             [
              0.4444444444444444,
              "#bd3786"
             ],
             [
              0.5555555555555556,
              "#d8576b"
             ],
             [
              0.6666666666666666,
              "#ed7953"
             ],
             [
              0.7777777777777778,
              "#fb9f3a"
             ],
             [
              0.8888888888888888,
              "#fdca26"
             ],
             [
              1,
              "#f0f921"
             ]
            ],
            "type": "contour"
           }
          ],
          "contourcarpet": [
           {
            "colorbar": {
             "outlinewidth": 0,
             "ticks": ""
            },
            "type": "contourcarpet"
           }
          ],
          "heatmap": [
           {
            "colorbar": {
             "outlinewidth": 0,
             "ticks": ""
            },
            "colorscale": [
             [
              0,
              "#0d0887"
             ],
             [
              0.1111111111111111,
              "#46039f"
             ],
             [
              0.2222222222222222,
              "#7201a8"
             ],
             [
              0.3333333333333333,
              "#9c179e"
             ],
             [
              0.4444444444444444,
              "#bd3786"
             ],
             [
              0.5555555555555556,
              "#d8576b"
             ],
             [
              0.6666666666666666,
              "#ed7953"
             ],
             [
              0.7777777777777778,
              "#fb9f3a"
             ],
             [
              0.8888888888888888,
              "#fdca26"
             ],
             [
              1,
              "#f0f921"
             ]
            ],
            "type": "heatmap"
           }
          ],
          "heatmapgl": [
           {
            "colorbar": {
             "outlinewidth": 0,
             "ticks": ""
            },
            "colorscale": [
             [
              0,
              "#0d0887"
             ],
             [
              0.1111111111111111,
              "#46039f"
             ],
             [
              0.2222222222222222,
              "#7201a8"
             ],
             [
              0.3333333333333333,
              "#9c179e"
             ],
             [
              0.4444444444444444,
              "#bd3786"
             ],
             [
              0.5555555555555556,
              "#d8576b"
             ],
             [
              0.6666666666666666,
              "#ed7953"
             ],
             [
              0.7777777777777778,
              "#fb9f3a"
             ],
             [
              0.8888888888888888,
              "#fdca26"
             ],
             [
              1,
              "#f0f921"
             ]
            ],
            "type": "heatmapgl"
           }
          ],
          "histogram": [
           {
            "marker": {
             "pattern": {
              "fillmode": "overlay",
              "size": 10,
              "solidity": 0.2
             }
            },
            "type": "histogram"
           }
          ],
          "histogram2d": [
           {
            "colorbar": {
             "outlinewidth": 0,
             "ticks": ""
            },
            "colorscale": [
             [
              0,
              "#0d0887"
             ],
             [
              0.1111111111111111,
              "#46039f"
             ],
             [
              0.2222222222222222,
              "#7201a8"
             ],
             [
              0.3333333333333333,
              "#9c179e"
             ],
             [
              0.4444444444444444,
              "#bd3786"
             ],
             [
              0.5555555555555556,
              "#d8576b"
             ],
             [
              0.6666666666666666,
              "#ed7953"
             ],
             [
              0.7777777777777778,
              "#fb9f3a"
             ],
             [
              0.8888888888888888,
              "#fdca26"
             ],
             [
              1,
              "#f0f921"
             ]
            ],
            "type": "histogram2d"
           }
          ],
          "histogram2dcontour": [
           {
            "colorbar": {
             "outlinewidth": 0,
             "ticks": ""
            },
            "colorscale": [
             [
              0,
              "#0d0887"
             ],
             [
              0.1111111111111111,
              "#46039f"
             ],
             [
              0.2222222222222222,
              "#7201a8"
             ],
             [
              0.3333333333333333,
              "#9c179e"
             ],
             [
              0.4444444444444444,
              "#bd3786"
             ],
             [
              0.5555555555555556,
              "#d8576b"
             ],
             [
              0.6666666666666666,
              "#ed7953"
             ],
             [
              0.7777777777777778,
              "#fb9f3a"
             ],
             [
              0.8888888888888888,
              "#fdca26"
             ],
             [
              1,
              "#f0f921"
             ]
            ],
            "type": "histogram2dcontour"
           }
          ],
          "mesh3d": [
           {
            "colorbar": {
             "outlinewidth": 0,
             "ticks": ""
            },
            "type": "mesh3d"
           }
          ],
          "parcoords": [
           {
            "line": {
             "colorbar": {
              "outlinewidth": 0,
              "ticks": ""
             }
            },
            "type": "parcoords"
           }
          ],
          "pie": [
           {
            "automargin": true,
            "type": "pie"
           }
          ],
          "scatter": [
           {
            "fillpattern": {
             "fillmode": "overlay",
             "size": 10,
             "solidity": 0.2
            },
            "type": "scatter"
           }
          ],
          "scatter3d": [
           {
            "line": {
             "colorbar": {
              "outlinewidth": 0,
              "ticks": ""
             }
            },
            "marker": {
             "colorbar": {
              "outlinewidth": 0,
              "ticks": ""
             }
            },
            "type": "scatter3d"
           }
          ],
          "scattercarpet": [
           {
            "marker": {
             "colorbar": {
              "outlinewidth": 0,
              "ticks": ""
             }
            },
            "type": "scattercarpet"
           }
          ],
          "scattergeo": [
           {
            "marker": {
             "colorbar": {
              "outlinewidth": 0,
              "ticks": ""
             }
            },
            "type": "scattergeo"
           }
          ],
          "scattergl": [
           {
            "marker": {
             "colorbar": {
              "outlinewidth": 0,
              "ticks": ""
             }
            },
            "type": "scattergl"
           }
          ],
          "scattermapbox": [
           {
            "marker": {
             "colorbar": {
              "outlinewidth": 0,
              "ticks": ""
             }
            },
            "type": "scattermapbox"
           }
          ],
          "scatterpolar": [
           {
            "marker": {
             "colorbar": {
              "outlinewidth": 0,
              "ticks": ""
             }
            },
            "type": "scatterpolar"
           }
          ],
          "scatterpolargl": [
           {
            "marker": {
             "colorbar": {
              "outlinewidth": 0,
              "ticks": ""
             }
            },
            "type": "scatterpolargl"
           }
          ],
          "scatterternary": [
           {
            "marker": {
             "colorbar": {
              "outlinewidth": 0,
              "ticks": ""
             }
            },
            "type": "scatterternary"
           }
          ],
          "surface": [
           {
            "colorbar": {
             "outlinewidth": 0,
             "ticks": ""
            },
            "colorscale": [
             [
              0,
              "#0d0887"
             ],
             [
              0.1111111111111111,
              "#46039f"
             ],
             [
              0.2222222222222222,
              "#7201a8"
             ],
             [
              0.3333333333333333,
              "#9c179e"
             ],
             [
              0.4444444444444444,
              "#bd3786"
             ],
             [
              0.5555555555555556,
              "#d8576b"
             ],
             [
              0.6666666666666666,
              "#ed7953"
             ],
             [
              0.7777777777777778,
              "#fb9f3a"
             ],
             [
              0.8888888888888888,
              "#fdca26"
             ],
             [
              1,
              "#f0f921"
             ]
            ],
            "type": "surface"
           }
          ],
          "table": [
           {
            "cells": {
             "fill": {
              "color": "#EBF0F8"
             },
             "line": {
              "color": "white"
             }
            },
            "header": {
             "fill": {
              "color": "#C8D4E3"
             },
             "line": {
              "color": "white"
             }
            },
            "type": "table"
           }
          ]
         },
         "layout": {
          "annotationdefaults": {
           "arrowcolor": "#2a3f5f",
           "arrowhead": 0,
           "arrowwidth": 1
          },
          "autotypenumbers": "strict",
          "coloraxis": {
           "colorbar": {
            "outlinewidth": 0,
            "ticks": ""
           }
          },
          "colorscale": {
           "diverging": [
            [
             0,
             "#8e0152"
            ],
            [
             0.1,
             "#c51b7d"
            ],
            [
             0.2,
             "#de77ae"
            ],
            [
             0.3,
             "#f1b6da"
            ],
            [
             0.4,
             "#fde0ef"
            ],
            [
             0.5,
             "#f7f7f7"
            ],
            [
             0.6,
             "#e6f5d0"
            ],
            [
             0.7,
             "#b8e186"
            ],
            [
             0.8,
             "#7fbc41"
            ],
            [
             0.9,
             "#4d9221"
            ],
            [
             1,
             "#276419"
            ]
           ],
           "sequential": [
            [
             0,
             "#0d0887"
            ],
            [
             0.1111111111111111,
             "#46039f"
            ],
            [
             0.2222222222222222,
             "#7201a8"
            ],
            [
             0.3333333333333333,
             "#9c179e"
            ],
            [
             0.4444444444444444,
             "#bd3786"
            ],
            [
             0.5555555555555556,
             "#d8576b"
            ],
            [
             0.6666666666666666,
             "#ed7953"
            ],
            [
             0.7777777777777778,
             "#fb9f3a"
            ],
            [
             0.8888888888888888,
             "#fdca26"
            ],
            [
             1,
             "#f0f921"
            ]
           ],
           "sequentialminus": [
            [
             0,
             "#0d0887"
            ],
            [
             0.1111111111111111,
             "#46039f"
            ],
            [
             0.2222222222222222,
             "#7201a8"
            ],
            [
             0.3333333333333333,
             "#9c179e"
            ],
            [
             0.4444444444444444,
             "#bd3786"
            ],
            [
             0.5555555555555556,
             "#d8576b"
            ],
            [
             0.6666666666666666,
             "#ed7953"
            ],
            [
             0.7777777777777778,
             "#fb9f3a"
            ],
            [
             0.8888888888888888,
             "#fdca26"
            ],
            [
             1,
             "#f0f921"
            ]
           ]
          },
          "colorway": [
           "#636efa",
           "#EF553B",
           "#00cc96",
           "#ab63fa",
           "#FFA15A",
           "#19d3f3",
           "#FF6692",
           "#B6E880",
           "#FF97FF",
           "#FECB52"
          ],
          "font": {
           "color": "#2a3f5f"
          },
          "geo": {
           "bgcolor": "white",
           "lakecolor": "white",
           "landcolor": "#E5ECF6",
           "showlakes": true,
           "showland": true,
           "subunitcolor": "white"
          },
          "hoverlabel": {
           "align": "left"
          },
          "hovermode": "closest",
          "mapbox": {
           "style": "light"
          },
          "paper_bgcolor": "white",
          "plot_bgcolor": "#E5ECF6",
          "polar": {
           "angularaxis": {
            "gridcolor": "white",
            "linecolor": "white",
            "ticks": ""
           },
           "bgcolor": "#E5ECF6",
           "radialaxis": {
            "gridcolor": "white",
            "linecolor": "white",
            "ticks": ""
           }
          },
          "scene": {
           "xaxis": {
            "backgroundcolor": "#E5ECF6",
            "gridcolor": "white",
            "gridwidth": 2,
            "linecolor": "white",
            "showbackground": true,
            "ticks": "",
            "zerolinecolor": "white"
           },
           "yaxis": {
            "backgroundcolor": "#E5ECF6",
            "gridcolor": "white",
            "gridwidth": 2,
            "linecolor": "white",
            "showbackground": true,
            "ticks": "",
            "zerolinecolor": "white"
           },
           "zaxis": {
            "backgroundcolor": "#E5ECF6",
            "gridcolor": "white",
            "gridwidth": 2,
            "linecolor": "white",
            "showbackground": true,
            "ticks": "",
            "zerolinecolor": "white"
           }
          },
          "shapedefaults": {
           "line": {
            "color": "#2a3f5f"
           }
          },
          "ternary": {
           "aaxis": {
            "gridcolor": "white",
            "linecolor": "white",
            "ticks": ""
           },
           "baxis": {
            "gridcolor": "white",
            "linecolor": "white",
            "ticks": ""
           },
           "bgcolor": "#E5ECF6",
           "caxis": {
            "gridcolor": "white",
            "linecolor": "white",
            "ticks": ""
           }
          },
          "title": {
           "x": 0.05
          },
          "xaxis": {
           "automargin": true,
           "gridcolor": "white",
           "linecolor": "white",
           "ticks": "",
           "title": {
            "standoff": 15
           },
           "zerolinecolor": "white",
           "zerolinewidth": 2
          },
          "yaxis": {
           "automargin": true,
           "gridcolor": "white",
           "linecolor": "white",
           "ticks": "",
           "title": {
            "standoff": 15
           },
           "zerolinecolor": "white",
           "zerolinewidth": 2
          }
         }
        },
        "xaxis": {
         "anchor": "y",
         "autorange": true,
         "domain": [
          0,
          1
         ],
         "range": [
          "1961-07-01 12:00",
          "2023-07-01 12:00"
         ],
         "title": {
          "text": "Data"
         },
         "type": "date"
        },
        "yaxis": {
         "anchor": "x",
         "autorange": true,
         "domain": [
          0,
          1
         ],
         "range": [
          0,
          1317.7734344578907
         ],
         "title": {
          "text": "Precipitação (mm)"
         },
         "type": "linear"
        }
       }
      },
      "image/png": "[encoded data removed]",
      "text/html": [
       "<div>                            <div id=\"66c24ad6-739c-46ba-9f2d-85389b680816\" class=\"plotly-graph-div\" style=\"height:525px; width:100%;\"></div>            <script type=\"text/javascript\">                require([\"plotly\"], function(Plotly) {                    window.PLOTLYENV=window.PLOTLYENV || {};                                    if (document.getElementById(\"66c24ad6-739c-46ba-9f2d-85389b680816\")) {                    Plotly.newPlot(                        \"66c24ad6-739c-46ba-9f2d-85389b680816\",                        [{\"alignmentgroup\":\"True\",\"hovertemplate\":\"Data: %{x} \\u003cbr\\u003eprec: %{y:.0f} mm\",\"legendgroup\":\"\",\"marker\":{\"color\":\"#636efa\",\"pattern\":{\"shape\":\"\"}},\"name\":\"\",\"offsetgroup\":\"\",\"orientation\":\"v\",\"showlegend\":false,\"textposition\":\"auto\",\"x\":[\"1961-12-31T00:00:00\",\"1962-12-31T00:00:00\",\"1963-12-31T00:00:00\",\"1964-12-31T00:00:00\",\"1965-12-31T00:00:00\",\"1966-12-31T00:00:00\",\"1967-12-31T00:00:00\",\"1968-12-31T00:00:00\",\"1969-12-31T00:00:00\",\"1970-12-31T00:00:00\",\"1971-12-31T00:00:00\",\"1972-12-31T00:00:00\",\"1973-12-31T00:00:00\",\"1974-12-31T00:00:00\",\"1975-12-31T00:00:00\",\"1976-12-31T00:00:00\",\"1977-12-31T00:00:00\",\"1978-12-31T00:00:00\",\"1979-12-31T00:00:00\",\"1980-12-31T00:00:00\",\"1981-12-31T00:00:00\",\"1982-12-31T00:00:00\",\"1983-12-31T00:00:00\",\"1984-12-31T00:00:00\",\"1985-12-31T00:00:00\",\"1986-12-31T00:00:00\",\"1987-12-31T00:00:00\",\"1988-12-31T00:00:00\",\"1989-12-31T00:00:00\",\"1990-12-31T00:00:00\",\"1991-12-31T00:00:00\",\"1992-12-31T00:00:00\",\"1993-12-31T00:00:00\",\"1994-12-31T00:00:00\",\"1995-12-31T00:00:00\",\"1996-12-31T00:00:00\",\"1997-12-31T00:00:00\",\"1998-12-31T00:00:00\",\"1999-12-31T00:00:00\",\"2000-12-31T00:00:00\",\"2001-12-31T00:00:00\",\"2002-12-31T00:00:00\",\"2003-12-31T00:00:00\",\"2004-12-31T00:00:00\",\"2005-12-31T00:00:00\",\"2006-12-31T00:00:00\",\"2007-12-31T00:00:00\",\"2008-12-31T00:00:00\",\"2009-12-31T00:00:00\",\"2010-12-31T00:00:00\",\"2011-12-31T00:00:00\",\"2012-12-31T00:00:00\",\"2013-12-31T00:00:00\",\"2014-12-31T00:00:00\",\"2015-12-31T00:00:00\",\"2016-12-31T00:00:00\",\"2017-12-31T00:00:00\",\"2018-12-31T00:00:00\",\"2019-12-31T00:00:00\",\"2020-12-31T00:00:00\",\"2021-12-31T00:00:00\",\"2022-12-31T00:00:00\"],\"xaxis\":\"x\",\"y\":[599.7781876799957,843.6683951499961,434.22976119499594,1024.7698058049962,538.8914691249962,1023.4445515149964,860.8007243249962,951.461290264996,838.278063124996,1001.7939567699962,600.114654264996,887.1618392049962,541.068201929996,696.1449642899962,700.2649632899961,575.5319815099958,777.3501445799961,1028.4160169749962,1161.9108512399962,947.4374245749962,886.6331180549963,403.3847020149958,897.3313821249964,463.18647544499595,1251.8847627349962,418.3814983749958,611.2249182349957,484.3907369649957,947.334436654996,421.87663085999577,852.4371263549962,1251.6856173949966,367.15617747499596,715.3990929499962,825.7189328399967,549.349387864996,742.5224196999962,800.1543390449962,725.7814904299962,910.0553003149962,520.9145401549963,838.4565964149959,512.3106089099961,964.4942204349961,808.6209369899962,776.3201448299963,665.650105024996,699.2898848049963,781.9096101399962,674.7347028199963,815.5494019749963,591.5793776149958,721.3456248399959,512.331208904996,354.36358057999576,776.8076659899958,502.0930113899958,812.7684026499962,469.86775254499577,960.8823546449963,911.6346453199963,789.8680748749962],\"yaxis\":\"y\",\"type\":\"bar\"}],                        {\"template\":{\"data\":{\"histogram2dcontour\":[{\"type\":\"histogram2dcontour\",\"colorbar\":{\"outlinewidth\":0,\"ticks\":\"\"},\"colorscale\":[[0.0,\"#0d0887\"],[0.1111111111111111,\"#46039f\"],[0.2222222222222222,\"#7201a8\"],[0.3333333333333333,\"#9c179e\"],[0.4444444444444444,\"#bd3786\"],[0.5555555555555556,\"#d8576b\"],[0.6666666666666666,\"#ed7953\"],[0.7777777777777778,\"#fb9f3a\"],[0.8888888888888888,\"#fdca26\"],[1.0,\"#f0f921\"]]}],\"choropleth\":[{\"type\":\"choropleth\",\"colorbar\":{\"outlinewidth\":0,\"ticks\":\"\"}}],\"histogram2d\":[{\"type\":\"histogram2d\",\"colorbar\":{\"outlinewidth\":0,\"ticks\":\"\"},\"colorscale\":[[0.0,\"#0d0887\"],[0.1111111111111111,\"#46039f\"],[0.2222222222222222,\"#7201a8\"],[0.3333333333333333,\"#9c179e\"],[0.4444444444444444,\"#bd3786\"],[0.5555555555555556,\"#d8576b\"],[0.6666666666666666,\"#ed7953\"],[0.7777777777777778,\"#fb9f3a\"],[0.8888888888888888,\"#fdca26\"],[1.0,\"#f0f921\"]]}],\"heatmap\":[{\"type\":\"heatmap\",\"colorbar\":{\"outlinewidth\":0,\"ticks\":\"\"},\"colorscale\":[[0.0,\"#0d0887\"],[0.1111111111111111,\"#46039f\"],[0.2222222222222222,\"#7201a8\"],[0.3333333333333333,\"#9c179e\"],[0.4444444444444444,\"#bd3786\"],[0.5555555555555556,\"#d8576b\"],[0.6666666666666666,\"#ed7953\"],[0.7777777777777778,\"#fb9f3a\"],[0.8888888888888888,\"#fdca26\"],[1.0,\"#f0f921\"]]}],\"heatmapgl\":[{\"type\":\"heatmapgl\",\"colorbar\":{\"outlinewidth\":0,\"ticks\":\"\"},\"colorscale\":[[0.0,\"#0d0887\"],[0.1111111111111111,\"#46039f\"],[0.2222222222222222,\"#7201a8\"],[0.3333333333333333,\"#9c179e\"],[0.4444444444444444,\"#bd3786\"],[0.5555555555555556,\"#d8576b\"],[0.6666666666666666,\"#ed7953\"],[0.7777777777777778,\"#fb9f3a\"],[0.8888888888888888,\"#fdca26\"],[1.0,\"#f0f921\"]]}],\"contourcarpet\":[{\"type\":\"contourcarpet\",\"colorbar\":{\"outlinewidth\":0,\"ticks\":\"\"}}],\"contour\":[{\"type\":\"contour\",\"colorbar\":{\"outlinewidth\":0,\"ticks\":\"\"},\"colorscale\":[[0.0,\"#0d0887\"],[0.1111111111111111,\"#46039f\"],[0.2222222222222222,\"#7201a8\"],[0.3333333333333333,\"#9c179e\"],[0.4444444444444444,\"#bd3786\"],[0.5555555555555556,\"#d8576b\"],[0.6666666666666666,\"#ed7953\"],[0.7777777777777778,\"#fb9f3a\"],[0.8888888888888888,\"#fdca26\"],[1.0,\"#f0f921\"]]}],\"surface\":[{\"type\":\"surface\",\"colorbar\":{\"outlinewidth\":0,\"ticks\":\"\"},\"colorscale\":[[0.0,\"#0d0887\"],[0.1111111111111111,\"#46039f\"],[0.2222222222222222,\"#7201a8\"],[0.3333333333333333,\"#9c179e\"],[0.4444444444444444,\"#bd3786\"],[0.5555555555555556,\"#d8576b\"],[0.6666666666666666,\"#ed7953\"],[0.7777777777777778,\"#fb9f3a\"],[0.8888888888888888,\"#fdca26\"],[1.0,\"#f0f921\"]]}],\"mesh3d\":[{\"type\":\"mesh3d\",\"colorbar\":{\"outlinewidth\":0,\"ticks\":\"\"}}],\"scatter\":[{\"fillpattern\":{\"fillmode\":\"overlay\",\"size\":10,\"solidity\":0.2},\"type\":\"scatter\"}],\"parcoords\":[{\"type\":\"parcoords\",\"line\":{\"colorbar\":{\"outlinewidth\":0,\"ticks\":\"\"}}}],\"scatterpolargl\":[{\"type\":\"scatterpolargl\",\"marker\":{\"colorbar\":{\"outlinewidth\":0,\"ticks\":\"\"}}}],\"bar\":[{\"error_x\":{\"color\":\"#2a3f5f\"},\"error_y\":{\"color\":\"#2a3f5f\"},\"marker\":{\"line\":{\"color\":\"#E5ECF6\",\"width\":0.5},\"pattern\":{\"fillmode\":\"overlay\",\"size\":10,\"solidity\":0.2}},\"type\":\"bar\"}],\"scattergeo\":[{\"type\":\"scattergeo\",\"marker\":{\"colorbar\":{\"outlinewidth\":0,\"ticks\":\"\"}}}],\"scatterpolar\":[{\"type\":\"scatterpolar\",\"marker\":{\"colorbar\":{\"outlinewidth\":0,\"ticks\":\"\"}}}],\"histogram\":[{\"marker\":{\"pattern\":{\"fillmode\":\"overlay\",\"size\":10,\"solidity\":0.2}},\"type\":\"histogram\"}],\"scattergl\":[{\"type\":\"scattergl\",\"marker\":{\"colorbar\":{\"outlinewidth\":0,\"ticks\":\"\"}}}],\"scatter3d\":[{\"type\":\"scatter3d\",\"line\":{\"colorbar\":{\"outlinewidth\":0,\"ticks\":\"\"}},\"marker\":{\"colorbar\":{\"outlinewidth\":0,\"ticks\":\"\"}}}],\"scattermapbox\":[{\"type\":\"scattermapbox\",\"marker\":{\"colorbar\":{\"outlinewidth\":0,\"ticks\":\"\"}}}],\"scatterternary\":[{\"type\":\"scatterternary\",\"marker\":{\"colorbar\":{\"outlinewidth\":0,\"ticks\":\"\"}}}],\"scattercarpet\":[{\"type\":\"scattercarpet\",\"marker\":{\"colorbar\":{\"outlinewidth\":0,\"ticks\":\"\"}}}],\"carpet\":[{\"aaxis\":{\"endlinecolor\":\"#2a3f5f\",\"gridcolor\":\"white\",\"linecolor\":\"white\",\"minorgridcolor\":\"white\",\"startlinecolor\":\"#2a3f5f\"},\"baxis\":{\"endlinecolor\":\"#2a3f5f\",\"gridcolor\":\"white\",\"linecolor\":\"white\",\"minorgridcolor\":\"white\",\"startlinecolor\":\"#2a3f5f\"},\"type\":\"carpet\"}],\"table\":[{\"cells\":{\"fill\":{\"color\":\"#EBF0F8\"},\"line\":{\"color\":\"white\"}},\"header\":{\"fill\":{\"color\":\"#C8D4E3\"},\"line\":{\"color\":\"white\"}},\"type\":\"table\"}],\"barpolar\":[{\"marker\":{\"line\":{\"color\":\"#E5ECF6\",\"width\":0.5},\"pattern\":{\"fillmode\":\"overlay\",\"size\":10,\"solidity\":0.2}},\"type\":\"barpolar\"}],\"pie\":[{\"automargin\":true,\"type\":\"pie\"}]},\"layout\":{\"autotypenumbers\":\"strict\",\"colorway\":[\"#636efa\",\"#EF553B\",\"#00cc96\",\"#ab63fa\",\"#FFA15A\",\"#19d3f3\",\"#FF6692\",\"#B6E880\",\"#FF97FF\",\"#FECB52\"],\"font\":{\"color\":\"#2a3f5f\"},\"hovermode\":\"closest\",\"hoverlabel\":{\"align\":\"left\"},\"paper_bgcolor\":\"white\",\"plot_bgcolor\":\"#E5ECF6\",\"polar\":{\"bgcolor\":\"#E5ECF6\",\"angularaxis\":{\"gridcolor\":\"white\",\"linecolor\":\"white\",\"ticks\":\"\"},\"radialaxis\":{\"gridcolor\":\"white\",\"linecolor\":\"white\",\"ticks\":\"\"}},\"ternary\":{\"bgcolor\":\"#E5ECF6\",\"aaxis\":{\"gridcolor\":\"white\",\"linecolor\":\"white\",\"ticks\":\"\"},\"baxis\":{\"gridcolor\":\"white\",\"linecolor\":\"white\",\"ticks\":\"\"},\"caxis\":{\"gridcolor\":\"white\",\"linecolor\":\"white\",\"ticks\":\"\"}},\"coloraxis\":{\"colorbar\":{\"outlinewidth\":0,\"ticks\":\"\"}},\"colorscale\":{\"sequential\":[[0.0,\"#0d0887\"],[0.1111111111111111,\"#46039f\"],[0.2222222222222222,\"#7201a8\"],[0.3333333333333333,\"#9c179e\"],[0.4444444444444444,\"#bd3786\"],[0.5555555555555556,\"#d8576b\"],[0.6666666666666666,\"#ed7953\"],[0.7777777777777778,\"#fb9f3a\"],[0.8888888888888888,\"#fdca26\"],[1.0,\"#f0f921\"]],\"sequentialminus\":[[0.0,\"#0d0887\"],[0.1111111111111111,\"#46039f\"],[0.2222222222222222,\"#7201a8\"],[0.3333333333333333,\"#9c179e\"],[0.4444444444444444,\"#bd3786\"],[0.5555555555555556,\"#d8576b\"],[0.6666666666666666,\"#ed7953\"],[0.7777777777777778,\"#fb9f3a\"],[0.8888888888888888,\"#fdca26\"],[1.0,\"#f0f921\"]],\"diverging\":[[0,\"#8e0152\"],[0.1,\"#c51b7d\"],[0.2,\"#de77ae\"],[0.3,\"#f1b6da\"],[0.4,\"#fde0ef\"],[0.5,\"#f7f7f7\"],[0.6,\"#e6f5d0\"],[0.7,\"#b8e186\"],[0.8,\"#7fbc41\"],[0.9,\"#4d9221\"],[1,\"#276419\"]]},\"xaxis\":{\"gridcolor\":\"white\",\"linecolor\":\"white\",\"ticks\":\"\",\"title\":{\"standoff\":15},\"zerolinecolor\":\"white\",\"automargin\":true,\"zerolinewidth\":2},\"yaxis\":{\"gridcolor\":\"white\",\"linecolor\":\"white\",\"ticks\":\"\",\"title\":{\"standoff\":15},\"zerolinecolor\":\"white\",\"automargin\":true,\"zerolinewidth\":2},\"scene\":{\"xaxis\":{\"backgroundcolor\":\"#E5ECF6\",\"gridcolor\":\"white\",\"linecolor\":\"white\",\"showbackground\":true,\"ticks\":\"\",\"zerolinecolor\":\"white\",\"gridwidth\":2},\"yaxis\":{\"backgroundcolor\":\"#E5ECF6\",\"gridcolor\":\"white\",\"linecolor\":\"white\",\"showbackground\":true,\"ticks\":\"\",\"zerolinecolor\":\"white\",\"gridwidth\":2},\"zaxis\":{\"backgroundcolor\":\"#E5ECF6\",\"gridcolor\":\"white\",\"linecolor\":\"white\",\"showbackground\":true,\"ticks\":\"\",\"zerolinecolor\":\"white\",\"gridwidth\":2}},\"shapedefaults\":{\"line\":{\"color\":\"#2a3f5f\"}},\"annotationdefaults\":{\"arrowcolor\":\"#2a3f5f\",\"arrowhead\":0,\"arrowwidth\":1},\"geo\":{\"bgcolor\":\"white\",\"landcolor\":\"#E5ECF6\",\"subunitcolor\":\"white\",\"showland\":true,\"showlakes\":true,\"lakecolor\":\"white\"},\"title\":{\"x\":0.05},\"mapbox\":{\"style\":\"light\"}}},\"xaxis\":{\"anchor\":\"y\",\"domain\":[0.0,1.0],\"title\":{\"text\":\"Data\"}},\"yaxis\":{\"anchor\":\"x\",\"domain\":[0.0,1.0],\"title\":{\"text\":\"Precipita\\u00e7\\u00e3o (mm)\"}},\"legend\":{\"tracegroupgap\":0},\"margin\":{\"t\":60},\"barmode\":\"relative\"},                        {\"responsive\": true}                    ).then(function(){\n",
       "                            \n",
       "var gd = document.getElementById('66c24ad6-739c-46ba-9f2d-85389b680816');\n",
       "var x = new MutationObserver(function (mutations, observer) {{\n",
       "        var display = window.getComputedStyle(gd).display;\n",
       "        if (!display || display === 'none') {{\n",
       "            console.log([gd, 'removed!']);\n",
       "            Plotly.purge(gd);\n",
       "            observer.disconnect();\n",
       "        }}\n",
       "}});\n",
       "\n",
       "// Listen for the removal of the full notebook cells\n",
       "var notebookContainer = gd.closest('#notebook-container');\n",
       "if (notebookContainer) {{\n",
       "    x.observe(notebookContainer, {childList: true});\n",
       "}}\n",
       "\n",
       "// Listen for the clearing of the current output cell\n",
       "var outputEl = gd.closest('.output');\n",
       "if (outputEl) {{\n",
       "    x.observe(outputEl, {childList: true});\n",
       "}}\n",
       "\n",
       "                        })                };                });            </script>        </div>"
      ]
     },
     "metadata": {},
     "output_type": "display_data"
    }
   ],
   "source": [
    "# plotando anual\n",
    "fig = px.bar(df_ano, x=df_ano.index, y='Precipitação (mm)')\n",
    "fig.update_traces(hovertemplate=\"Data: %{x} <br>prec: %{y:.0f} mm\")\n",
    "fig.show()"
   ]
  },
  {
   "cell_type": "code",
   "execution_count": null,
   "metadata": {
    "id": "xlO1iMVI3A_q"
   },
   "outputs": [],
   "source": []
  }
 ],
 "metadata": {
  "colab": {
   "authorship_tag": "ABX9TyPKXoXYJ0xy+FWs5ZwGTb59",
   "include_colab_link": true,
   "provenance": []
  },
  "kernelspec": {
   "display_name": "Python 3 (ipykernel)",
   "language": "python",
   "name": "python3"
  },
  "language_info": {
   "codemirror_mode": {
    "name": "ipython",
    "version": 3
   },
   "file_extension": ".py",
   "mimetype": "text/x-python",
   "name": "python",
   "nbconvert_exporter": "python",
   "pygments_lexer": "ipython3",
   "version": "3.12.2"
  },
  "widgets": {
   "application/vnd.jupyter.widget-state+json": {
    "07e462ebfdaf4d80b34b11685e335084": {
     "model_module": "jupyter-leaflet",
     "model_module_version": "^0.17",
     "model_name": "LeafletMapStyleModel",
     "state": {
      "_model_module": "jupyter-leaflet",
      "_model_module_version": "^0.17",
      "_model_name": "LeafletMapStyleModel",
      "_view_count": null,
      "_view_module": "@jupyter-widgets/base",
      "_view_module_version": "1.2.0",
      "_view_name": "StyleView",
      "cursor": "grab"
     }
    },
    "193a92cfe5764f74955628dd0c5f3b55": {
     "model_module": "@jupyter-widgets/controls",
     "model_module_version": "1.5.0",
     "model_name": "ToggleButtonModel",
     "state": {
      "_dom_classes": [],
      "_model_module": "@jupyter-widgets/controls",
      "_model_module_version": "1.5.0",
      "_model_name": "ToggleButtonModel",
      "_view_count": null,
      "_view_module": "@jupyter-widgets/controls",
      "_view_module_version": "1.5.0",
      "_view_name": "ToggleButtonView",
      "button_style": "",
      "description": "",
      "description_tooltip": null,
      "disabled": false,
      "icon": "wrench",
      "layout": "IPY_MODEL_d604a48feaeb4d4d9f068b2795dcd3d9",
      "style": "IPY_MODEL_5af901d9f851417c94dbd03183ad4806",
      "tooltip": "Toolbar",
      "value": false
     }
    },
    "1d0c8a9ef8bb4f4cab9eb5f4c974b08c": {
     "model_module": "@jupyter-widgets/base",
     "model_module_version": "1.2.0",
     "model_name": "LayoutModel",
     "state": {
      "_model_module": "@jupyter-widgets/base",
      "_model_module_version": "1.2.0",
      "_model_name": "LayoutModel",
      "_view_count": null,
      "_view_module": "@jupyter-widgets/base",
      "_view_module_version": "1.2.0",
      "_view_name": "LayoutView",
      "align_content": null,
      "align_items": null,
      "align_self": null,
      "border": null,
      "bottom": null,
      "display": null,
      "flex": null,
      "flex_flow": null,
      "grid_area": null,
      "grid_auto_columns": null,
      "grid_auto_flow": null,
      "grid_auto_rows": null,
      "grid_column": null,
      "grid_gap": null,
      "grid_row": null,
      "grid_template_areas": null,
      "grid_template_columns": null,
      "grid_template_rows": null,
      "height": null,
      "justify_content": null,
      "justify_items": null,
      "left": null,
      "margin": null,
      "max_height": null,
      "max_width": null,
      "min_height": null,
      "min_width": null,
      "object_fit": null,
      "object_position": null,
      "order": null,
      "overflow": null,
      "overflow_x": null,
      "overflow_y": null,
      "padding": null,
      "right": null,
      "top": null,
      "visibility": null,
      "width": null
     }
    },
    "294cafe51eed475cabafad1a882722dd": {
     "model_module": "jupyter-leaflet",
     "model_module_version": "^0.17",
     "model_name": "LeafletTileLayerModel",
     "state": {
      "_model_module": "jupyter-leaflet",
      "_model_module_version": "^0.17",
      "_model_name": "LeafletTileLayerModel",
      "_view_count": null,
      "_view_module": "jupyter-leaflet",
      "_view_module_version": "^0.17",
      "_view_name": "LeafletTileLayerView",
      "attribution": "Google Earth Engine",
      "base": false,
      "bottom": true,
      "bounds": null,
      "detect_retina": false,
      "loading": false,
      "max_native_zoom": null,
      "max_zoom": 24,
      "min_native_zoom": null,
      "min_zoom": 0,
      "name": "posição",
      "no_wrap": false,
      "opacity": 1,
      "options": [
       "attribution",
       "bounds",
       "detect_retina",
       "max_native_zoom",
       "max_zoom",
       "min_native_zoom",
       "min_zoom",
       "no_wrap",
       "tile_size",
       "tms",
       "zoom_offset"
      ],
      "pane": "",
      "popup": null,
      "popup_max_height": null,
      "popup_max_width": 300,
      "popup_min_width": 50,
      "show_loading": false,
      "subitems": [],
      "tile_size": 256,
      "tms": false,
      "url": "https://earthengine.googleapis.com/v1/projects/earthengine-legacy/maps/1a5c11715941335a4943387cc74ef9d7-20f6e09b66ed859324fc1d7cd07cd4d8/tiles/{z}/{x}/{y}",
      "visible": true,
      "zoom_offset": 0
     }
    },
    "2e477f157f6542a4a532efc817fd227c": {
     "model_module": "jupyter-leaflet",
     "model_module_version": "^0.17",
     "model_name": "LeafletWidgetControlModel",
     "state": {
      "_model_module": "jupyter-leaflet",
      "_model_module_version": "^0.17",
      "_model_name": "LeafletWidgetControlModel",
      "_view_count": null,
      "_view_module": "jupyter-leaflet",
      "_view_module_version": "^0.17",
      "_view_name": "LeafletWidgetControlView",
      "max_height": null,
      "max_width": null,
      "min_height": null,
      "min_width": null,
      "options": [
       "position",
       "transparent_bg"
      ],
      "position": "topleft",
      "transparent_bg": false,
      "widget": "IPY_MODEL_aa9678d0ae6648e88ffbcedc2c181d76"
     }
    },
    "39226a5c9f894e10befa3575e24581da": {
     "model_module": "jupyter-leaflet",
     "model_module_version": "^0.17",
     "model_name": "LeafletScaleControlModel",
     "state": {
      "_model_module": "jupyter-leaflet",
      "_model_module_version": "^0.17",
      "_model_name": "LeafletScaleControlModel",
      "_view_count": null,
      "_view_module": "jupyter-leaflet",
      "_view_module_version": "^0.17",
      "_view_name": "LeafletScaleControlView",
      "imperial": true,
      "max_width": 100,
      "metric": true,
      "options": [
       "imperial",
       "max_width",
       "metric",
       "position",
       "update_when_idle"
      ],
      "position": "bottomleft",
      "update_when_idle": false
     }
    },
    "3eb1c9a9b9b843419a4bfd75e4af5987": {
     "model_module": "@jupyter-widgets/controls",
     "model_module_version": "1.5.0",
     "model_name": "DescriptionStyleModel",
     "state": {
      "_model_module": "@jupyter-widgets/controls",
      "_model_module_version": "1.5.0",
      "_model_name": "DescriptionStyleModel",
      "_view_count": null,
      "_view_module": "@jupyter-widgets/base",
      "_view_module_version": "1.2.0",
      "_view_name": "StyleView",
      "description_width": ""
     }
    },
    "5ac3a9248983443bb3cf2a82e6b78fbb": {
     "model_module": "jupyter-leaflet",
     "model_module_version": "^0.17",
     "model_name": "LeafletTileLayerModel",
     "state": {
      "_model_module": "jupyter-leaflet",
      "_model_module_version": "^0.17",
      "_model_name": "LeafletTileLayerModel",
      "_view_count": null,
      "_view_module": "jupyter-leaflet",
      "_view_module_version": "^0.17",
      "_view_name": "LeafletTileLayerView",
      "attribution": "Google Earth Engine",
      "base": false,
      "bottom": true,
      "bounds": null,
      "detect_retina": false,
      "loading": false,
      "max_native_zoom": null,
      "max_zoom": 24,
      "min_native_zoom": null,
      "min_zoom": 0,
      "name": "posição",
      "no_wrap": false,
      "opacity": 1,
      "options": [
       "attribution",
       "bounds",
       "detect_retina",
       "max_native_zoom",
       "max_zoom",
       "min_native_zoom",
       "min_zoom",
       "no_wrap",
       "tile_size",
       "tms",
       "zoom_offset"
      ],
      "pane": "",
      "popup": null,
      "popup_max_height": null,
      "popup_max_width": 300,
      "popup_min_width": 50,
      "show_loading": false,
      "subitems": [],
      "tile_size": 256,
      "tms": false,
      "url": "https://earthengine.googleapis.com/v1/projects/earthengine-legacy/maps/e6efebc389fc678c0749a4a23dd45cf7-50bacca3f140a6e20ac8d4054e445e12/tiles/{z}/{x}/{y}",
      "visible": true,
      "zoom_offset": 0
     }
    },
    "5af901d9f851417c94dbd03183ad4806": {
     "model_module": "@jupyter-widgets/controls",
     "model_module_version": "1.5.0",
     "model_name": "DescriptionStyleModel",
     "state": {
      "_model_module": "@jupyter-widgets/controls",
      "_model_module_version": "1.5.0",
      "_model_name": "DescriptionStyleModel",
      "_view_count": null,
      "_view_module": "@jupyter-widgets/base",
      "_view_module_version": "1.2.0",
      "_view_name": "StyleView",
      "description_width": ""
     }
    },
    "64bdc519c0e64100af748531b9b54bbc": {
     "model_module": "jupyter-leaflet",
     "model_module_version": "^0.17",
     "model_name": "LeafletZoomControlModel",
     "state": {
      "_model_module": "jupyter-leaflet",
      "_model_module_version": "^0.17",
      "_model_name": "LeafletZoomControlModel",
      "_view_count": null,
      "_view_module": "jupyter-leaflet",
      "_view_module_version": "^0.17",
      "_view_name": "LeafletZoomControlView",
      "options": [
       "position",
       "zoom_in_text",
       "zoom_in_title",
       "zoom_out_text",
       "zoom_out_title"
      ],
      "position": "topleft",
      "zoom_in_text": "+",
      "zoom_in_title": "Zoom in",
      "zoom_out_text": "-",
      "zoom_out_title": "Zoom out"
     }
    },
    "812113709b3440ff9df4f16f4c617d8a": {
     "model_module": "jupyter-leaflet",
     "model_module_version": "^0.17",
     "model_name": "LeafletMapStyleModel",
     "state": {
      "_model_module": "jupyter-leaflet",
      "_model_module_version": "^0.17",
      "_model_name": "LeafletMapStyleModel",
      "_view_count": null,
      "_view_module": "@jupyter-widgets/base",
      "_view_module_version": "1.2.0",
      "_view_name": "StyleView",
      "cursor": "move"
     }
    },
    "8cb06f9d722b43b3a6978f0144702ca6": {
     "model_module": "@jupyter-widgets/base",
     "model_module_version": "1.2.0",
     "model_name": "LayoutModel",
     "state": {
      "_model_module": "@jupyter-widgets/base",
      "_model_module_version": "1.2.0",
      "_model_name": "LayoutModel",
      "_view_count": null,
      "_view_module": "@jupyter-widgets/base",
      "_view_module_version": "1.2.0",
      "_view_name": "LayoutView",
      "align_content": null,
      "align_items": null,
      "align_self": null,
      "border": null,
      "bottom": null,
      "display": null,
      "flex": null,
      "flex_flow": null,
      "grid_area": null,
      "grid_auto_columns": null,
      "grid_auto_flow": null,
      "grid_auto_rows": null,
      "grid_column": null,
      "grid_gap": null,
      "grid_row": null,
      "grid_template_areas": null,
      "grid_template_columns": null,
      "grid_template_rows": null,
      "height": "600px",
      "justify_content": null,
      "justify_items": null,
      "left": null,
      "margin": null,
      "max_height": null,
      "max_width": null,
      "min_height": null,
      "min_width": null,
      "object_fit": null,
      "object_position": null,
      "order": null,
      "overflow": null,
      "overflow_x": null,
      "overflow_y": null,
      "padding": null,
      "right": null,
      "top": null,
      "visibility": null,
      "width": null
     }
    },
    "957064948c124fb3a6174089a815b6fa": {
     "model_module": "jupyter-leaflet",
     "model_module_version": "^0.17",
     "model_name": "LeafletFullScreenControlModel",
     "state": {
      "_model_module": "jupyter-leaflet",
      "_model_module_version": "^0.17",
      "_model_name": "LeafletFullScreenControlModel",
      "_view_count": null,
      "_view_module": "jupyter-leaflet",
      "_view_module_version": "^0.17",
      "_view_name": "LeafletFullScreenControlView",
      "options": [
       "position"
      ],
      "position": "topleft"
     }
    },
    "9d8d30b022234f178954a04304c33607": {
     "model_module": "jupyter-leaflet",
     "model_module_version": "^0.17",
     "model_name": "LeafletWidgetControlModel",
     "state": {
      "_model_module": "jupyter-leaflet",
      "_model_module_version": "^0.17",
      "_model_name": "LeafletWidgetControlModel",
      "_view_count": null,
      "_view_module": "jupyter-leaflet",
      "_view_module_version": "^0.17",
      "_view_name": "LeafletWidgetControlView",
      "max_height": null,
      "max_width": null,
      "min_height": null,
      "min_width": null,
      "options": [
       "position",
       "transparent_bg"
      ],
      "position": "topright",
      "transparent_bg": false,
      "widget": "IPY_MODEL_cd065dbe3f30479a8ef48fd53a7018f7"
     }
    },
    "aa9678d0ae6648e88ffbcedc2c181d76": {
     "model_module": "@jupyter-widgets/controls",
     "model_module_version": "1.5.0",
     "model_name": "HBoxModel",
     "state": {
      "_dom_classes": [
       "geemap-colab"
      ],
      "_model_module": "@jupyter-widgets/controls",
      "_model_module_version": "1.5.0",
      "_model_name": "HBoxModel",
      "_view_count": null,
      "_view_module": "@jupyter-widgets/controls",
      "_view_module_version": "1.5.0",
      "_view_name": "HBoxView",
      "box_style": "",
      "children": [
       "IPY_MODEL_db19b2dc01444092bbbb17cf87a50281"
      ],
      "layout": "IPY_MODEL_1d0c8a9ef8bb4f4cab9eb5f4c974b08c"
     }
    },
    "b8371bcbe98f48dd8dfdc5d00690a6c8": {
     "model_module": "jupyter-leaflet",
     "model_module_version": "^0.17",
     "model_name": "LeafletMapModel",
     "state": {
      "_dom_classes": [],
      "_model_module": "jupyter-leaflet",
      "_model_module_version": "^0.17",
      "_model_name": "LeafletMapModel",
      "_view_count": null,
      "_view_module": "jupyter-leaflet",
      "_view_module_version": "^0.17",
      "_view_name": "LeafletMapView",
      "bottom": 4737,
      "bounce_at_zoom_limits": true,
      "box_zoom": true,
      "center": [
       -14.79612760362704,
       -49.625244140625
      ],
      "close_popup_on_click": true,
      "controls": [
       "IPY_MODEL_2e477f157f6542a4a532efc817fd227c",
       "IPY_MODEL_64bdc519c0e64100af748531b9b54bbc",
       "IPY_MODEL_957064948c124fb3a6174089a815b6fa",
       "IPY_MODEL_c39a382e491e4ae9813fca16a568c38f",
       "IPY_MODEL_39226a5c9f894e10befa3575e24581da",
       "IPY_MODEL_ee247ebc4f0846c0b431fd82515e4772",
       "IPY_MODEL_9d8d30b022234f178954a04304c33607",
       "IPY_MODEL_f88aade1de1d49c6a61c1b8a17dee0f0"
      ],
      "crs": {
       "custom": false,
       "name": "EPSG3857"
      },
      "default_style": "IPY_MODEL_fa3d70ca2f6c4c95af82b510ebfaa39b",
      "double_click_zoom": true,
      "dragging": true,
      "dragging_style": "IPY_MODEL_812113709b3440ff9df4f16f4c617d8a",
      "east": -16.523437500000004,
      "fullscreen": false,
      "inertia": true,
      "inertia_deceleration": 3000,
      "inertia_max_speed": 1500,
      "interpolation": "bilinear",
      "keyboard": true,
      "keyboard_pan_offset": 80,
      "keyboard_zoom_offset": 1,
      "layers": [
       "IPY_MODEL_fdc4ff7a631e4f10b163b29359fa1cdf",
       "IPY_MODEL_e2814404d8c848898b3f134822671d60",
       "IPY_MODEL_5ac3a9248983443bb3cf2a82e6b78fbb"
      ],
      "layout": "IPY_MODEL_8cb06f9d722b43b3a6978f0144702ca6",
      "left": 2214,
      "max_zoom": 24,
      "min_zoom": null,
      "modisdate": "2023-11-23",
      "north": -1.8014609294680355,
      "options": [
       "bounce_at_zoom_limits",
       "box_zoom",
       "center",
       "close_popup_on_click",
       "double_click_zoom",
       "dragging",
       "fullscreen",
       "inertia",
       "inertia_deceleration",
       "inertia_max_speed",
       "interpolation",
       "keyboard",
       "keyboard_pan_offset",
       "keyboard_zoom_offset",
       "max_zoom",
       "min_zoom",
       "prefer_canvas",
       "scroll_wheel_zoom",
       "tap",
       "tap_tolerance",
       "touch_zoom",
       "world_copy_jump",
       "zoom",
       "zoom_animation_threshold",
       "zoom_delta",
       "zoom_snap"
      ],
      "panes": {},
      "prefer_canvas": false,
      "right": 3720,
      "scroll_wheel_zoom": true,
      "south": -27.098253906137884,
      "style": "IPY_MODEL_fa3d70ca2f6c4c95af82b510ebfaa39b",
      "tap": true,
      "tap_tolerance": 15,
      "top": 4137,
      "touch_zoom": true,
      "west": -82.70507812500001,
      "window_url": "https://dgw90w0rwn7-496ff2e9c6d22116-0-colab.googleusercontent.com/outputframe.html?vrz=colab_20231121-060051_RC00_584295192",
      "world_copy_jump": false,
      "zoom": 5,
      "zoom_animation_threshold": 4,
      "zoom_delta": 1,
      "zoom_snap": 1
     }
    },
    "bf055a7e81694ad7bcb9532a4ccba431": {
     "model_module": "@jupyter-widgets/base",
     "model_module_version": "1.2.0",
     "model_name": "LayoutModel",
     "state": {
      "_model_module": "@jupyter-widgets/base",
      "_model_module_version": "1.2.0",
      "_model_name": "LayoutModel",
      "_view_count": null,
      "_view_module": "@jupyter-widgets/base",
      "_view_module_version": "1.2.0",
      "_view_name": "LayoutView",
      "align_content": null,
      "align_items": null,
      "align_self": null,
      "border": null,
      "bottom": null,
      "display": null,
      "flex": null,
      "flex_flow": null,
      "grid_area": null,
      "grid_auto_columns": null,
      "grid_auto_flow": null,
      "grid_auto_rows": null,
      "grid_column": null,
      "grid_gap": null,
      "grid_row": null,
      "grid_template_areas": null,
      "grid_template_columns": null,
      "grid_template_rows": null,
      "height": null,
      "justify_content": null,
      "justify_items": null,
      "left": null,
      "margin": null,
      "max_height": null,
      "max_width": null,
      "min_height": null,
      "min_width": null,
      "object_fit": null,
      "object_position": null,
      "order": null,
      "overflow": null,
      "overflow_x": null,
      "overflow_y": null,
      "padding": null,
      "right": null,
      "top": null,
      "visibility": null,
      "width": null
     }
    },
    "c1b395fc079e4e6a89ddc12c1a7d97bd": {
     "model_module": "jupyter-leaflet",
     "model_module_version": "^0.17",
     "model_name": "LeafletTileLayerModel",
     "state": {
      "_model_module": "jupyter-leaflet",
      "_model_module_version": "^0.17",
      "_model_name": "LeafletTileLayerModel",
      "_view_count": null,
      "_view_module": "jupyter-leaflet",
      "_view_module_version": "^0.17",
      "_view_name": "LeafletTileLayerView",
      "attribution": "Google Earth Engine",
      "base": false,
      "bottom": true,
      "bounds": null,
      "detect_retina": false,
      "loading": false,
      "max_native_zoom": null,
      "max_zoom": 24,
      "min_native_zoom": null,
      "min_zoom": 0,
      "name": "posição",
      "no_wrap": false,
      "opacity": 1,
      "options": [
       "attribution",
       "bounds",
       "detect_retina",
       "max_native_zoom",
       "max_zoom",
       "min_native_zoom",
       "min_zoom",
       "no_wrap",
       "tile_size",
       "tms",
       "zoom_offset"
      ],
      "pane": "",
      "popup": null,
      "popup_max_height": null,
      "popup_max_width": 300,
      "popup_min_width": 50,
      "show_loading": false,
      "subitems": [],
      "tile_size": 256,
      "tms": false,
      "url": "https://earthengine.googleapis.com/v1/projects/earthengine-legacy/maps/ef4074d76a023464e3eb00c1633e59a8-8a3286db32fc8e16d12b144c6ece25fe/tiles/{z}/{x}/{y}",
      "visible": true,
      "zoom_offset": 0
     }
    },
    "c39a382e491e4ae9813fca16a568c38f": {
     "model_module": "jupyter-leaflet",
     "model_module_version": "^0.17",
     "model_name": "LeafletDrawControlModel",
     "state": {
      "_model_module": "jupyter-leaflet",
      "_model_module_version": "^0.17",
      "_model_name": "LeafletDrawControlModel",
      "_view_count": null,
      "_view_module": "jupyter-leaflet",
      "_view_module_version": "^0.17",
      "_view_name": "LeafletDrawControlView",
      "circle": {},
      "circlemarker": {},
      "data": [],
      "edit": true,
      "marker": {
       "shapeOptions": {
        "color": "#3388ff"
       }
      },
      "options": [
       "position"
      ],
      "polygon": {
       "shapeOptions": {}
      },
      "polyline": {
       "shapeOptions": {}
      },
      "position": "topleft",
      "rectangle": {
       "shapeOptions": {
        "color": "#3388ff"
       }
      },
      "remove": true
     }
    },
    "cd065dbe3f30479a8ef48fd53a7018f7": {
     "model_module": "@jupyter-widgets/controls",
     "model_module_version": "1.5.0",
     "model_name": "VBoxModel",
     "state": {
      "_dom_classes": [
       "geemap-colab"
      ],
      "_model_module": "@jupyter-widgets/controls",
      "_model_module_version": "1.5.0",
      "_model_name": "VBoxModel",
      "_view_count": null,
      "_view_module": "@jupyter-widgets/controls",
      "_view_module_version": "1.5.0",
      "_view_name": "VBoxView",
      "box_style": "",
      "children": [
       "IPY_MODEL_193a92cfe5764f74955628dd0c5f3b55"
      ],
      "layout": "IPY_MODEL_bf055a7e81694ad7bcb9532a4ccba431"
     }
    },
    "d604a48feaeb4d4d9f068b2795dcd3d9": {
     "model_module": "@jupyter-widgets/base",
     "model_module_version": "1.2.0",
     "model_name": "LayoutModel",
     "state": {
      "_model_module": "@jupyter-widgets/base",
      "_model_module_version": "1.2.0",
      "_model_name": "LayoutModel",
      "_view_count": null,
      "_view_module": "@jupyter-widgets/base",
      "_view_module_version": "1.2.0",
      "_view_name": "LayoutView",
      "align_content": null,
      "align_items": null,
      "align_self": null,
      "border": null,
      "bottom": null,
      "display": null,
      "flex": null,
      "flex_flow": null,
      "grid_area": null,
      "grid_auto_columns": null,
      "grid_auto_flow": null,
      "grid_auto_rows": null,
      "grid_column": null,
      "grid_gap": null,
      "grid_row": null,
      "grid_template_areas": null,
      "grid_template_columns": null,
      "grid_template_rows": null,
      "height": "28px",
      "justify_content": null,
      "justify_items": null,
      "left": null,
      "margin": null,
      "max_height": null,
      "max_width": null,
      "min_height": null,
      "min_width": null,
      "object_fit": null,
      "object_position": null,
      "order": null,
      "overflow": null,
      "overflow_x": null,
      "overflow_y": null,
      "padding": "0px 0px 0px 4px",
      "right": null,
      "top": null,
      "visibility": null,
      "width": "28px"
     }
    },
    "db19b2dc01444092bbbb17cf87a50281": {
     "model_module": "@jupyter-widgets/controls",
     "model_module_version": "1.5.0",
     "model_name": "ToggleButtonModel",
     "state": {
      "_dom_classes": [],
      "_model_module": "@jupyter-widgets/controls",
      "_model_module_version": "1.5.0",
      "_model_name": "ToggleButtonModel",
      "_view_count": null,
      "_view_module": "@jupyter-widgets/controls",
      "_view_module_version": "1.5.0",
      "_view_name": "ToggleButtonView",
      "button_style": "",
      "description": "",
      "description_tooltip": null,
      "disabled": false,
      "icon": "globe",
      "layout": "IPY_MODEL_f2df9032cb824804822d4a472a119702",
      "style": "IPY_MODEL_3eb1c9a9b9b843419a4bfd75e4af5987",
      "tooltip": "Search location/data",
      "value": false
     }
    },
    "e2814404d8c848898b3f134822671d60": {
     "model_module": "jupyter-leaflet",
     "model_module_version": "^0.17",
     "model_name": "LeafletTileLayerModel",
     "state": {
      "_model_module": "jupyter-leaflet",
      "_model_module_version": "^0.17",
      "_model_name": "LeafletTileLayerModel",
      "_view_count": null,
      "_view_module": "jupyter-leaflet",
      "_view_module_version": "^0.17",
      "_view_name": "LeafletTileLayerView",
      "attribution": "Google Earth Engine",
      "base": false,
      "bottom": true,
      "bounds": null,
      "detect_retina": false,
      "loading": false,
      "max_native_zoom": null,
      "max_zoom": 24,
      "min_native_zoom": null,
      "min_zoom": 0,
      "name": "Precipitação",
      "no_wrap": false,
      "opacity": 1,
      "options": [
       "attribution",
       "bounds",
       "detect_retina",
       "max_native_zoom",
       "max_zoom",
       "min_native_zoom",
       "min_zoom",
       "no_wrap",
       "tile_size",
       "tms",
       "zoom_offset"
      ],
      "pane": "",
      "popup": null,
      "popup_max_height": null,
      "popup_max_width": 300,
      "popup_min_width": 50,
      "show_loading": false,
      "subitems": [],
      "tile_size": 256,
      "tms": false,
      "url": "https://earthengine.googleapis.com/v1/projects/earthengine-legacy/maps/4794699d27ecac5cd8b516fcb28c94b6-22327fee3f614f1d194e87110d1504ea/tiles/{z}/{x}/{y}",
      "visible": true,
      "zoom_offset": 0
     }
    },
    "ee247ebc4f0846c0b431fd82515e4772": {
     "model_module": "jupyter-leaflet",
     "model_module_version": "^0.17",
     "model_name": "LeafletMeasureControlModel",
     "state": {
      "_custom_units": {},
      "_model_module": "jupyter-leaflet",
      "_model_module_version": "^0.17",
      "_model_name": "LeafletMeasureControlModel",
      "_view_count": null,
      "_view_module": "jupyter-leaflet",
      "_view_module_version": "^0.17",
      "_view_name": "LeafletMeasureControlView",
      "active_color": "orange",
      "capture_z_index": 10000,
      "completed_color": "#C8F2BE",
      "options": [
       "active_color",
       "capture_z_index",
       "completed_color",
       "popup_options",
       "position",
       "primary_area_unit",
       "primary_length_unit",
       "secondary_area_unit",
       "secondary_length_unit"
      ],
      "popup_options": {
       "autoPanPadding": [
        10,
        10
       ],
       "className": "leaflet-measure-resultpopup"
      },
      "position": "bottomleft",
      "primary_area_unit": "acres",
      "primary_length_unit": "kilometers",
      "secondary_area_unit": null,
      "secondary_length_unit": null
     }
    },
    "f2df9032cb824804822d4a472a119702": {
     "model_module": "@jupyter-widgets/base",
     "model_module_version": "1.2.0",
     "model_name": "LayoutModel",
     "state": {
      "_model_module": "@jupyter-widgets/base",
      "_model_module_version": "1.2.0",
      "_model_name": "LayoutModel",
      "_view_count": null,
      "_view_module": "@jupyter-widgets/base",
      "_view_module_version": "1.2.0",
      "_view_name": "LayoutView",
      "align_content": null,
      "align_items": null,
      "align_self": null,
      "border": null,
      "bottom": null,
      "display": null,
      "flex": null,
      "flex_flow": null,
      "grid_area": null,
      "grid_auto_columns": null,
      "grid_auto_flow": null,
      "grid_auto_rows": null,
      "grid_column": null,
      "grid_gap": null,
      "grid_row": null,
      "grid_template_areas": null,
      "grid_template_columns": null,
      "grid_template_rows": null,
      "height": "28px",
      "justify_content": null,
      "justify_items": null,
      "left": null,
      "margin": null,
      "max_height": null,
      "max_width": null,
      "min_height": null,
      "min_width": null,
      "object_fit": null,
      "object_position": null,
      "order": null,
      "overflow": null,
      "overflow_x": null,
      "overflow_y": null,
      "padding": "0px 0px 0px 4px",
      "right": null,
      "top": null,
      "visibility": null,
      "width": "28px"
     }
    },
    "f88aade1de1d49c6a61c1b8a17dee0f0": {
     "model_module": "jupyter-leaflet",
     "model_module_version": "^0.17",
     "model_name": "LeafletAttributionControlModel",
     "state": {
      "_model_module": "jupyter-leaflet",
      "_model_module_version": "^0.17",
      "_model_name": "LeafletAttributionControlModel",
      "_view_count": null,
      "_view_module": "jupyter-leaflet",
      "_view_module_version": "^0.17",
      "_view_name": "LeafletAttributionControlView",
      "options": [
       "position",
       "prefix"
      ],
      "position": "bottomright",
      "prefix": "ipyleaflet"
     }
    },
    "fa3d70ca2f6c4c95af82b510ebfaa39b": {
     "model_module": "jupyter-leaflet",
     "model_module_version": "^0.17",
     "model_name": "LeafletMapStyleModel",
     "state": {
      "_model_module": "jupyter-leaflet",
      "_model_module_version": "^0.17",
      "_model_name": "LeafletMapStyleModel",
      "_view_count": null,
      "_view_module": "@jupyter-widgets/base",
      "_view_module_version": "1.2.0",
      "_view_name": "StyleView",
      "cursor": "grab"
     }
    },
    "fdc4ff7a631e4f10b163b29359fa1cdf": {
     "model_module": "jupyter-leaflet",
     "model_module_version": "^0.17",
     "model_name": "LeafletTileLayerModel",
     "state": {
      "_model_module": "jupyter-leaflet",
      "_model_module_version": "^0.17",
      "_model_name": "LeafletTileLayerModel",
      "_view_count": null,
      "_view_module": "jupyter-leaflet",
      "_view_module_version": "^0.17",
      "_view_name": "LeafletTileLayerView",
      "attribution": "&copy; <a href=\"https://www.openstreetmap.org/copyright\">OpenStreetMap</a> contributors",
      "base": true,
      "bottom": true,
      "bounds": null,
      "detect_retina": false,
      "loading": false,
      "max_native_zoom": null,
      "max_zoom": 19,
      "min_native_zoom": null,
      "min_zoom": 1,
      "name": "OpenStreetMap.Mapnik",
      "no_wrap": false,
      "opacity": 1,
      "options": [
       "attribution",
       "bounds",
       "detect_retina",
       "max_native_zoom",
       "max_zoom",
       "min_native_zoom",
       "min_zoom",
       "no_wrap",
       "tile_size",
       "tms",
       "zoom_offset"
      ],
      "pane": "",
      "popup": null,
      "popup_max_height": null,
      "popup_max_width": 300,
      "popup_min_width": 50,
      "show_loading": false,
      "subitems": [],
      "tile_size": 256,
      "tms": false,
      "url": "https://tile.openstreetmap.org/{z}/{x}/{y}.png",
      "visible": true,
      "zoom_offset": 0
     }
    }
   }
  }
 },
 "nbformat": 4,
 "nbformat_minor": 4
}
