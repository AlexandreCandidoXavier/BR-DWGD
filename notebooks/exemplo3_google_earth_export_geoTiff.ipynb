{
 "cells": [
  {
   "cell_type": "markdown",
   "metadata": {
    "colab_type": "text",
    "id": "view-in-github"
   },
   "source": [
    "<a href=\"https://colab.research.google.com/github/AlexandreCandidoXavier/BR-DWGD/blob/main/notebooks/exemplo3_google_earth_export_geoTiff.ipynb\" target=\"_parent\"><img src=\"https://colab.research.google.com/assets/colab-badge.svg\" alt=\"Open In Colab\"/></a>"
   ]
  },
  {
   "cell_type": "markdown",
   "metadata": {
    "id": "HjqtqkLxg1tj"
   },
   "source": [
    "# Exportando imagens BR-DWGD mensais e anuais\n",
    "\n",
    "Objetivo: exportar em \"Geotiff\" os dados de precipitação da grade BR-DWGD, de uma região de interesse. Considerando as escalas de tempo mensal.\n",
    "\n",
    "Informações sobre o asset BR-DWGD no GEE [aqui](https://code.earthengine.google.com/?asset=projects/ee-alexandrexavier/assets/BR-DWGD)"
   ]
  },
  {
   "cell_type": "code",
   "execution_count": null,
   "metadata": {
    "ExecuteTime": {
     "end_time": "2024-10-16T14:29:16.668308Z",
     "start_time": "2024-10-16T14:29:16.665948Z"
    },
    "id": "lXUQmpKCerCK"
   },
   "outputs": [],
   "source": [
    "# ! pip install --upgrade xee\n",
    "# ! pip install xee rioxarray\n",
    "import ee\n",
    "import geemap\n",
    "import numpy as np\n",
    "import xarray as xr\n",
    "import xee\n",
    "import xarray\n",
    "import rioxarray"
   ]
  },
  {
   "cell_type": "code",
   "execution_count": null,
   "metadata": {
    "ExecuteTime": {
     "end_time": "2024-10-16T14:27:15.151794Z",
     "start_time": "2024-10-16T14:27:14.438933Z"
    }
   },
   "outputs": [],
   "source": [
    "ee.Authenticate()"
   ]
  },
  {
   "cell_type": "code",
   "execution_count": null,
   "metadata": {
    "ExecuteTime": {
     "end_time": "2024-10-16T14:27:19.662276Z",
     "start_time": "2024-10-16T14:27:17.469663Z"
    }
   },
   "outputs": [],
   "source": [
    "# vc vai ter que entrar com o nome do seu projeto no Google Earth Engine\n",
    "# project='seu-projeto'\n",
    "ee.Initialize(project='ee-alexandrexavier', opt_url='https://earthengine-highvolume.googleapis.com')"
   ]
  },
  {
   "cell_type": "markdown",
   "metadata": {},
   "source": [
    "## Pegando variável"
   ]
  },
  {
   "cell_type": "markdown",
   "metadata": {},
   "source": [
    "Informações sobre ganhos e offsets do asset BR-DWGD [aqui](https://code.earthengine.google.com/?asset=projects/ee-alexandrexavier/assets/BR-DWGD).\n",
    "\n",
    "|Band |Scale         | offset     |Unit after rescale |\n",
    "|-----|-------------:|-----------:|------------------:|\n",
    "|Rs   |  0.15708661  |  -0.057087 |           MJ m-2  |\n",
    "|u2   |  0.05905512  |  -0.059055 |            m s-1  |\n",
    "|Tmax |  0.00106815  |       15.0 |               °C  |\n",
    "|Tmin |  0.00106815  |       15.0 |               °C  |\n",
    "|RH   |  0.39370079  |  -0.393701 |                %  |\n",
    "|pr   |  0.00686666  |      225.0 |               mm  |\n",
    "|ET   |  0.05118110  |       0.0  |               mm  |\n",
    "\n",
    "Não deve ser colocado intervalo de tempo muito grande. Com o ROI utilizado neste exemplo, usei 2 anos, o que resultara em 48 meses, imagens.\n",
    "\n",
    "Definições:"
   ]
  },
  {
   "cell_type": "code",
   "execution_count": null,
   "metadata": {},
   "outputs": [],
   "source": [
    "var_name = 'pr'\n",
    "offset = 225\n",
    "scale  = 0.00686666\n",
    "time_start = '1961-01-01'\n",
    "time_end = '1962-01-01'"
   ]
  },
  {
   "cell_type": "markdown",
   "metadata": {},
   "source": [
    "Limites da área de interese"
   ]
  },
  {
   "cell_type": "code",
   "execution_count": null,
   "metadata": {},
   "outputs": [],
   "source": [
    "# limites xMin, yMin, xMax, yMax (lonMin, latMin, lonMax, ylatMax)\n",
    "xMin, yMin, xMax, yMax = -45, -23, -38, -15"
   ]
  },
  {
   "cell_type": "markdown",
   "metadata": {},
   "source": [
    "Função para reescalonar variável"
   ]
  },
  {
   "cell_type": "code",
   "execution_count": null,
   "metadata": {
    "colab": {
     "base_uri": "https://localhost:8080/",
     "height": 17
    },
    "id": "xx6L0ogyevR6",
    "outputId": "882832e5-3930-41aa-c6c3-690c14d3a388"
   },
   "outputs": [],
   "source": [
    "# reescalonando\n",
    "def scaleBand(image):\n",
    "    scaledImage = image.multiply(scale).add(offset)\n",
    "\n",
    "    return scaledImage.copyProperties(image, image.propertyNames())"
   ]
  },
  {
   "cell_type": "markdown",
   "metadata": {},
   "source": [
    "Pegando o dado diário para o período/área"
   ]
  },
  {
   "cell_type": "code",
   "execution_count": null,
   "metadata": {
    "scrolled": true
   },
   "outputs": [],
   "source": [
    "collection = ee.ImageCollection('projects/ee-alexandrexavier/assets/BR-DWGD') \\\n",
    "                         .filterDate(time_start, time_end) \\\n",
    "                         .map(scaleBand) \\\n",
    "                         .select(var_name)"
   ]
  },
  {
   "cell_type": "code",
   "execution_count": null,
   "metadata": {},
   "outputs": [],
   "source": [
    "# collection.first()"
   ]
  },
  {
   "cell_type": "markdown",
   "metadata": {},
   "source": [
    "Transformando a coleção em \"xarray\" *dataset*"
   ]
  },
  {
   "cell_type": "code",
   "execution_count": null,
   "metadata": {},
   "outputs": [],
   "source": [
    "ds = xr.open_dataset(\n",
    "    collection,\n",
    "    engine='ee',\n",
    "    scale=.1,\n",
    "    projection=collection.first().select(0).projection(),\n",
    "    geometry=ee.Geometry.Rectangle(xMin, yMin, xMax, yMax),\n",
    ").rename({'lon': 'x', 'lat':'y'})"
   ]
  },
  {
   "cell_type": "code",
   "execution_count": null,
   "metadata": {},
   "outputs": [],
   "source": [
    "# https://www.geopythontutorials.com/notebooks/xee_ic_to_netcdf.html\n",
    "ds = ds.transpose('time', 'y', 'x') "
   ]
  },
  {
   "cell_type": "markdown",
   "metadata": {},
   "source": [
    "## Reamostrando para mensal\n",
    "\n",
    "Dependendo do intervalo de tempo, pode demorar alguns minutos. Será somada as precipitações diária"
   ]
  },
  {
   "cell_type": "code",
   "execution_count": null,
   "metadata": {},
   "outputs": [],
   "source": [
    "ds_mes = ds[var_name].resample(time='ME').sum()\n",
    "# se for a média mensal\n",
    "# ds_mes = ds[var_name].resample(time='ME').mean()"
   ]
  },
  {
   "cell_type": "markdown",
   "metadata": {},
   "source": [
    "## Aplicando máscara para continente e se precipitação menor que zero, para zero"
   ]
  },
  {
   "cell_type": "code",
   "execution_count": null,
   "metadata": {},
   "outputs": [],
   "source": [
    "# criando mascara para o continente e mar\n",
    "mask_ocean = 2 * np.ones(ds[var_name].shape[1:]) * np.isnan(ds[var_name].isel(time=0))\n",
    "mask_land = 1 * np.ones(ds[var_name].shape[1:]) * ~np.isnan(ds[var_name].isel(time=0))\n",
    "mask_array = (mask_ocean + mask_land).values\n",
    "\n",
    "# incorporando mascara da dataset\n",
    "ds.coords['mask'] = xr.DataArray(mask_array, dims=('y', 'x'))"
   ]
  },
  {
   "cell_type": "code",
   "execution_count": null,
   "metadata": {},
   "outputs": [],
   "source": [
    "time_dim, row_dim, col_dim = ds_mes.values.shape\n",
    "index_ocean = np.tile((ds.mask.values == 2) \\\n",
    "                      .reshape(1, row_dim, col_dim), (time_dim, 1, 1))\n",
    "\n",
    "ds_mes.values[(index_ocean)] = np.nan\n",
    "if var_name == 'pr':\n",
    "    ds_mes.values[(ds_mes.values<0)] = 0"
   ]
  },
  {
   "cell_type": "code",
   "execution_count": null,
   "metadata": {},
   "outputs": [],
   "source": [
    "ds_mes.isel(time=1).plot()"
   ]
  },
  {
   "cell_type": "markdown",
   "metadata": {},
   "source": [
    "## Gravando"
   ]
  },
  {
   "cell_type": "code",
   "execution_count": null,
   "metadata": {},
   "outputs": [],
   "source": [
    "ds_mes.rio.to_raster('imagem_mensal.tif')"
   ]
  },
  {
   "cell_type": "markdown",
   "metadata": {},
   "source": [
    "# Plotando dado mensal para um ponto"
   ]
  },
  {
   "cell_type": "code",
   "execution_count": null,
   "metadata": {},
   "outputs": [],
   "source": [
    "ds_mes.sel(x=-43, y=-22.5, method='nearest').plot()"
   ]
  },
  {
   "cell_type": "code",
   "execution_count": null,
   "metadata": {},
   "outputs": [],
   "source": []
  },
  {
   "cell_type": "code",
   "execution_count": null,
   "metadata": {},
   "outputs": [],
   "source": []
  }
 ],
 "metadata": {
  "colab": {
   "authorship_tag": "ABX9TyPKXoXYJ0xy+FWs5ZwGTb59",
   "include_colab_link": true,
   "provenance": []
  },
  "kernelspec": {
   "display_name": "Python 3 (ipykernel)",
   "language": "python",
   "name": "python3"
  },
  "language_info": {
   "codemirror_mode": {
    "name": "ipython",
    "version": 3
   },
   "file_extension": ".py",
   "mimetype": "text/x-python",
   "name": "python",
   "nbconvert_exporter": "python",
   "pygments_lexer": "ipython3",
   "version": "3.9.19"
  },
  "widgets": {
   "application/vnd.jupyter.widget-state+json": {
    "07e462ebfdaf4d80b34b11685e335084": {
     "model_module": "jupyter-leaflet",
     "model_module_version": "^0.17",
     "model_name": "LeafletMapStyleModel",
     "state": {
      "_model_module": "jupyter-leaflet",
      "_model_module_version": "^0.17",
      "_model_name": "LeafletMapStyleModel",
      "_view_count": null,
      "_view_module": "@jupyter-widgets/base",
      "_view_module_version": "1.2.0",
      "_view_name": "StyleView",
      "cursor": "grab"
     }
    },
    "193a92cfe5764f74955628dd0c5f3b55": {
     "model_module": "@jupyter-widgets/controls",
     "model_module_version": "1.5.0",
     "model_name": "ToggleButtonModel",
     "state": {
      "_dom_classes": [],
      "_model_module": "@jupyter-widgets/controls",
      "_model_module_version": "1.5.0",
      "_model_name": "ToggleButtonModel",
      "_view_count": null,
      "_view_module": "@jupyter-widgets/controls",
      "_view_module_version": "1.5.0",
      "_view_name": "ToggleButtonView",
      "button_style": "",
      "description": "",
      "description_tooltip": null,
      "disabled": false,
      "icon": "wrench",
      "layout": "IPY_MODEL_d604a48feaeb4d4d9f068b2795dcd3d9",
      "style": "IPY_MODEL_5af901d9f851417c94dbd03183ad4806",
      "tooltip": "Toolbar",
      "value": false
     }
    },
    "1d0c8a9ef8bb4f4cab9eb5f4c974b08c": {
     "model_module": "@jupyter-widgets/base",
     "model_module_version": "1.2.0",
     "model_name": "LayoutModel",
     "state": {
      "_model_module": "@jupyter-widgets/base",
      "_model_module_version": "1.2.0",
      "_model_name": "LayoutModel",
      "_view_count": null,
      "_view_module": "@jupyter-widgets/base",
      "_view_module_version": "1.2.0",
      "_view_name": "LayoutView",
      "align_content": null,
      "align_items": null,
      "align_self": null,
      "border": null,
      "bottom": null,
      "display": null,
      "flex": null,
      "flex_flow": null,
      "grid_area": null,
      "grid_auto_columns": null,
      "grid_auto_flow": null,
      "grid_auto_rows": null,
      "grid_column": null,
      "grid_gap": null,
      "grid_row": null,
      "grid_template_areas": null,
      "grid_template_columns": null,
      "grid_template_rows": null,
      "height": null,
      "justify_content": null,
      "justify_items": null,
      "left": null,
      "margin": null,
      "max_height": null,
      "max_width": null,
      "min_height": null,
      "min_width": null,
      "object_fit": null,
      "object_position": null,
      "order": null,
      "overflow": null,
      "overflow_x": null,
      "overflow_y": null,
      "padding": null,
      "right": null,
      "top": null,
      "visibility": null,
      "width": null
     }
    },
    "294cafe51eed475cabafad1a882722dd": {
     "model_module": "jupyter-leaflet",
     "model_module_version": "^0.17",
     "model_name": "LeafletTileLayerModel",
     "state": {
      "_model_module": "jupyter-leaflet",
      "_model_module_version": "^0.17",
      "_model_name": "LeafletTileLayerModel",
      "_view_count": null,
      "_view_module": "jupyter-leaflet",
      "_view_module_version": "^0.17",
      "_view_name": "LeafletTileLayerView",
      "attribution": "Google Earth Engine",
      "base": false,
      "bottom": true,
      "bounds": null,
      "detect_retina": false,
      "loading": false,
      "max_native_zoom": null,
      "max_zoom": 24,
      "min_native_zoom": null,
      "min_zoom": 0,
      "name": "posição",
      "no_wrap": false,
      "opacity": 1,
      "options": [
       "attribution",
       "bounds",
       "detect_retina",
       "max_native_zoom",
       "max_zoom",
       "min_native_zoom",
       "min_zoom",
       "no_wrap",
       "tile_size",
       "tms",
       "zoom_offset"
      ],
      "pane": "",
      "popup": null,
      "popup_max_height": null,
      "popup_max_width": 300,
      "popup_min_width": 50,
      "show_loading": false,
      "subitems": [],
      "tile_size": 256,
      "tms": false,
      "url": "https://earthengine.googleapis.com/v1/projects/earthengine-legacy/maps/1a5c11715941335a4943387cc74ef9d7-20f6e09b66ed859324fc1d7cd07cd4d8/tiles/{z}/{x}/{y}",
      "visible": true,
      "zoom_offset": 0
     }
    },
    "2e477f157f6542a4a532efc817fd227c": {
     "model_module": "jupyter-leaflet",
     "model_module_version": "^0.17",
     "model_name": "LeafletWidgetControlModel",
     "state": {
      "_model_module": "jupyter-leaflet",
      "_model_module_version": "^0.17",
      "_model_name": "LeafletWidgetControlModel",
      "_view_count": null,
      "_view_module": "jupyter-leaflet",
      "_view_module_version": "^0.17",
      "_view_name": "LeafletWidgetControlView",
      "max_height": null,
      "max_width": null,
      "min_height": null,
      "min_width": null,
      "options": [
       "position",
       "transparent_bg"
      ],
      "position": "topleft",
      "transparent_bg": false,
      "widget": "IPY_MODEL_aa9678d0ae6648e88ffbcedc2c181d76"
     }
    },
    "39226a5c9f894e10befa3575e24581da": {
     "model_module": "jupyter-leaflet",
     "model_module_version": "^0.17",
     "model_name": "LeafletScaleControlModel",
     "state": {
      "_model_module": "jupyter-leaflet",
      "_model_module_version": "^0.17",
      "_model_name": "LeafletScaleControlModel",
      "_view_count": null,
      "_view_module": "jupyter-leaflet",
      "_view_module_version": "^0.17",
      "_view_name": "LeafletScaleControlView",
      "imperial": true,
      "max_width": 100,
      "metric": true,
      "options": [
       "imperial",
       "max_width",
       "metric",
       "position",
       "update_when_idle"
      ],
      "position": "bottomleft",
      "update_when_idle": false
     }
    },
    "3eb1c9a9b9b843419a4bfd75e4af5987": {
     "model_module": "@jupyter-widgets/controls",
     "model_module_version": "1.5.0",
     "model_name": "DescriptionStyleModel",
     "state": {
      "_model_module": "@jupyter-widgets/controls",
      "_model_module_version": "1.5.0",
      "_model_name": "DescriptionStyleModel",
      "_view_count": null,
      "_view_module": "@jupyter-widgets/base",
      "_view_module_version": "1.2.0",
      "_view_name": "StyleView",
      "description_width": ""
     }
    },
    "5ac3a9248983443bb3cf2a82e6b78fbb": {
     "model_module": "jupyter-leaflet",
     "model_module_version": "^0.17",
     "model_name": "LeafletTileLayerModel",
     "state": {
      "_model_module": "jupyter-leaflet",
      "_model_module_version": "^0.17",
      "_model_name": "LeafletTileLayerModel",
      "_view_count": null,
      "_view_module": "jupyter-leaflet",
      "_view_module_version": "^0.17",
      "_view_name": "LeafletTileLayerView",
      "attribution": "Google Earth Engine",
      "base": false,
      "bottom": true,
      "bounds": null,
      "detect_retina": false,
      "loading": false,
      "max_native_zoom": null,
      "max_zoom": 24,
      "min_native_zoom": null,
      "min_zoom": 0,
      "name": "posição",
      "no_wrap": false,
      "opacity": 1,
      "options": [
       "attribution",
       "bounds",
       "detect_retina",
       "max_native_zoom",
       "max_zoom",
       "min_native_zoom",
       "min_zoom",
       "no_wrap",
       "tile_size",
       "tms",
       "zoom_offset"
      ],
      "pane": "",
      "popup": null,
      "popup_max_height": null,
      "popup_max_width": 300,
      "popup_min_width": 50,
      "show_loading": false,
      "subitems": [],
      "tile_size": 256,
      "tms": false,
      "url": "https://earthengine.googleapis.com/v1/projects/earthengine-legacy/maps/e6efebc389fc678c0749a4a23dd45cf7-50bacca3f140a6e20ac8d4054e445e12/tiles/{z}/{x}/{y}",
      "visible": true,
      "zoom_offset": 0
     }
    },
    "5af901d9f851417c94dbd03183ad4806": {
     "model_module": "@jupyter-widgets/controls",
     "model_module_version": "1.5.0",
     "model_name": "DescriptionStyleModel",
     "state": {
      "_model_module": "@jupyter-widgets/controls",
      "_model_module_version": "1.5.0",
      "_model_name": "DescriptionStyleModel",
      "_view_count": null,
      "_view_module": "@jupyter-widgets/base",
      "_view_module_version": "1.2.0",
      "_view_name": "StyleView",
      "description_width": ""
     }
    },
    "64bdc519c0e64100af748531b9b54bbc": {
     "model_module": "jupyter-leaflet",
     "model_module_version": "^0.17",
     "model_name": "LeafletZoomControlModel",
     "state": {
      "_model_module": "jupyter-leaflet",
      "_model_module_version": "^0.17",
      "_model_name": "LeafletZoomControlModel",
      "_view_count": null,
      "_view_module": "jupyter-leaflet",
      "_view_module_version": "^0.17",
      "_view_name": "LeafletZoomControlView",
      "options": [
       "position",
       "zoom_in_text",
       "zoom_in_title",
       "zoom_out_text",
       "zoom_out_title"
      ],
      "position": "topleft",
      "zoom_in_text": "+",
      "zoom_in_title": "Zoom in",
      "zoom_out_text": "-",
      "zoom_out_title": "Zoom out"
     }
    },
    "812113709b3440ff9df4f16f4c617d8a": {
     "model_module": "jupyter-leaflet",
     "model_module_version": "^0.17",
     "model_name": "LeafletMapStyleModel",
     "state": {
      "_model_module": "jupyter-leaflet",
      "_model_module_version": "^0.17",
      "_model_name": "LeafletMapStyleModel",
      "_view_count": null,
      "_view_module": "@jupyter-widgets/base",
      "_view_module_version": "1.2.0",
      "_view_name": "StyleView",
      "cursor": "move"
     }
    },
    "8cb06f9d722b43b3a6978f0144702ca6": {
     "model_module": "@jupyter-widgets/base",
     "model_module_version": "1.2.0",
     "model_name": "LayoutModel",
     "state": {
      "_model_module": "@jupyter-widgets/base",
      "_model_module_version": "1.2.0",
      "_model_name": "LayoutModel",
      "_view_count": null,
      "_view_module": "@jupyter-widgets/base",
      "_view_module_version": "1.2.0",
      "_view_name": "LayoutView",
      "align_content": null,
      "align_items": null,
      "align_self": null,
      "border": null,
      "bottom": null,
      "display": null,
      "flex": null,
      "flex_flow": null,
      "grid_area": null,
      "grid_auto_columns": null,
      "grid_auto_flow": null,
      "grid_auto_rows": null,
      "grid_column": null,
      "grid_gap": null,
      "grid_row": null,
      "grid_template_areas": null,
      "grid_template_columns": null,
      "grid_template_rows": null,
      "height": "600px",
      "justify_content": null,
      "justify_items": null,
      "left": null,
      "margin": null,
      "max_height": null,
      "max_width": null,
      "min_height": null,
      "min_width": null,
      "object_fit": null,
      "object_position": null,
      "order": null,
      "overflow": null,
      "overflow_x": null,
      "overflow_y": null,
      "padding": null,
      "right": null,
      "top": null,
      "visibility": null,
      "width": null
     }
    },
    "957064948c124fb3a6174089a815b6fa": {
     "model_module": "jupyter-leaflet",
     "model_module_version": "^0.17",
     "model_name": "LeafletFullScreenControlModel",
     "state": {
      "_model_module": "jupyter-leaflet",
      "_model_module_version": "^0.17",
      "_model_name": "LeafletFullScreenControlModel",
      "_view_count": null,
      "_view_module": "jupyter-leaflet",
      "_view_module_version": "^0.17",
      "_view_name": "LeafletFullScreenControlView",
      "options": [
       "position"
      ],
      "position": "topleft"
     }
    },
    "9d8d30b022234f178954a04304c33607": {
     "model_module": "jupyter-leaflet",
     "model_module_version": "^0.17",
     "model_name": "LeafletWidgetControlModel",
     "state": {
      "_model_module": "jupyter-leaflet",
      "_model_module_version": "^0.17",
      "_model_name": "LeafletWidgetControlModel",
      "_view_count": null,
      "_view_module": "jupyter-leaflet",
      "_view_module_version": "^0.17",
      "_view_name": "LeafletWidgetControlView",
      "max_height": null,
      "max_width": null,
      "min_height": null,
      "min_width": null,
      "options": [
       "position",
       "transparent_bg"
      ],
      "position": "topright",
      "transparent_bg": false,
      "widget": "IPY_MODEL_cd065dbe3f30479a8ef48fd53a7018f7"
     }
    },
    "aa9678d0ae6648e88ffbcedc2c181d76": {
     "model_module": "@jupyter-widgets/controls",
     "model_module_version": "1.5.0",
     "model_name": "HBoxModel",
     "state": {
      "_dom_classes": [
       "geemap-colab"
      ],
      "_model_module": "@jupyter-widgets/controls",
      "_model_module_version": "1.5.0",
      "_model_name": "HBoxModel",
      "_view_count": null,
      "_view_module": "@jupyter-widgets/controls",
      "_view_module_version": "1.5.0",
      "_view_name": "HBoxView",
      "box_style": "",
      "children": [
       "IPY_MODEL_db19b2dc01444092bbbb17cf87a50281"
      ],
      "layout": "IPY_MODEL_1d0c8a9ef8bb4f4cab9eb5f4c974b08c"
     }
    },
    "b8371bcbe98f48dd8dfdc5d00690a6c8": {
     "model_module": "jupyter-leaflet",
     "model_module_version": "^0.17",
     "model_name": "LeafletMapModel",
     "state": {
      "_dom_classes": [],
      "_model_module": "jupyter-leaflet",
      "_model_module_version": "^0.17",
      "_model_name": "LeafletMapModel",
      "_view_count": null,
      "_view_module": "jupyter-leaflet",
      "_view_module_version": "^0.17",
      "_view_name": "LeafletMapView",
      "bottom": 4737,
      "bounce_at_zoom_limits": true,
      "box_zoom": true,
      "center": [
       -14.79612760362704,
       -49.625244140625
      ],
      "close_popup_on_click": true,
      "controls": [
       "IPY_MODEL_2e477f157f6542a4a532efc817fd227c",
       "IPY_MODEL_64bdc519c0e64100af748531b9b54bbc",
       "IPY_MODEL_957064948c124fb3a6174089a815b6fa",
       "IPY_MODEL_c39a382e491e4ae9813fca16a568c38f",
       "IPY_MODEL_39226a5c9f894e10befa3575e24581da",
       "IPY_MODEL_ee247ebc4f0846c0b431fd82515e4772",
       "IPY_MODEL_9d8d30b022234f178954a04304c33607",
       "IPY_MODEL_f88aade1de1d49c6a61c1b8a17dee0f0"
      ],
      "crs": {
       "custom": false,
       "name": "EPSG3857"
      },
      "default_style": "IPY_MODEL_fa3d70ca2f6c4c95af82b510ebfaa39b",
      "double_click_zoom": true,
      "dragging": true,
      "dragging_style": "IPY_MODEL_812113709b3440ff9df4f16f4c617d8a",
      "east": -16.523437500000004,
      "fullscreen": false,
      "inertia": true,
      "inertia_deceleration": 3000,
      "inertia_max_speed": 1500,
      "interpolation": "bilinear",
      "keyboard": true,
      "keyboard_pan_offset": 80,
      "keyboard_zoom_offset": 1,
      "layers": [
       "IPY_MODEL_fdc4ff7a631e4f10b163b29359fa1cdf",
       "IPY_MODEL_e2814404d8c848898b3f134822671d60",
       "IPY_MODEL_5ac3a9248983443bb3cf2a82e6b78fbb"
      ],
      "layout": "IPY_MODEL_8cb06f9d722b43b3a6978f0144702ca6",
      "left": 2214,
      "max_zoom": 24,
      "min_zoom": null,
      "modisdate": "2023-11-23",
      "north": -1.8014609294680355,
      "options": [
       "bounce_at_zoom_limits",
       "box_zoom",
       "center",
       "close_popup_on_click",
       "double_click_zoom",
       "dragging",
       "fullscreen",
       "inertia",
       "inertia_deceleration",
       "inertia_max_speed",
       "interpolation",
       "keyboard",
       "keyboard_pan_offset",
       "keyboard_zoom_offset",
       "max_zoom",
       "min_zoom",
       "prefer_canvas",
       "scroll_wheel_zoom",
       "tap",
       "tap_tolerance",
       "touch_zoom",
       "world_copy_jump",
       "zoom",
       "zoom_animation_threshold",
       "zoom_delta",
       "zoom_snap"
      ],
      "panes": {},
      "prefer_canvas": false,
      "right": 3720,
      "scroll_wheel_zoom": true,
      "south": -27.098253906137884,
      "style": "IPY_MODEL_fa3d70ca2f6c4c95af82b510ebfaa39b",
      "tap": true,
      "tap_tolerance": 15,
      "top": 4137,
      "touch_zoom": true,
      "west": -82.70507812500001,
      "window_url": "https://dgw90w0rwn7-496ff2e9c6d22116-0-colab.googleusercontent.com/outputframe.html?vrz=colab_20231121-060051_RC00_584295192",
      "world_copy_jump": false,
      "zoom": 5,
      "zoom_animation_threshold": 4,
      "zoom_delta": 1,
      "zoom_snap": 1
     }
    },
    "bf055a7e81694ad7bcb9532a4ccba431": {
     "model_module": "@jupyter-widgets/base",
     "model_module_version": "1.2.0",
     "model_name": "LayoutModel",
     "state": {
      "_model_module": "@jupyter-widgets/base",
      "_model_module_version": "1.2.0",
      "_model_name": "LayoutModel",
      "_view_count": null,
      "_view_module": "@jupyter-widgets/base",
      "_view_module_version": "1.2.0",
      "_view_name": "LayoutView",
      "align_content": null,
      "align_items": null,
      "align_self": null,
      "border": null,
      "bottom": null,
      "display": null,
      "flex": null,
      "flex_flow": null,
      "grid_area": null,
      "grid_auto_columns": null,
      "grid_auto_flow": null,
      "grid_auto_rows": null,
      "grid_column": null,
      "grid_gap": null,
      "grid_row": null,
      "grid_template_areas": null,
      "grid_template_columns": null,
      "grid_template_rows": null,
      "height": null,
      "justify_content": null,
      "justify_items": null,
      "left": null,
      "margin": null,
      "max_height": null,
      "max_width": null,
      "min_height": null,
      "min_width": null,
      "object_fit": null,
      "object_position": null,
      "order": null,
      "overflow": null,
      "overflow_x": null,
      "overflow_y": null,
      "padding": null,
      "right": null,
      "top": null,
      "visibility": null,
      "width": null
     }
    },
    "c1b395fc079e4e6a89ddc12c1a7d97bd": {
     "model_module": "jupyter-leaflet",
     "model_module_version": "^0.17",
     "model_name": "LeafletTileLayerModel",
     "state": {
      "_model_module": "jupyter-leaflet",
      "_model_module_version": "^0.17",
      "_model_name": "LeafletTileLayerModel",
      "_view_count": null,
      "_view_module": "jupyter-leaflet",
      "_view_module_version": "^0.17",
      "_view_name": "LeafletTileLayerView",
      "attribution": "Google Earth Engine",
      "base": false,
      "bottom": true,
      "bounds": null,
      "detect_retina": false,
      "loading": false,
      "max_native_zoom": null,
      "max_zoom": 24,
      "min_native_zoom": null,
      "min_zoom": 0,
      "name": "posição",
      "no_wrap": false,
      "opacity": 1,
      "options": [
       "attribution",
       "bounds",
       "detect_retina",
       "max_native_zoom",
       "max_zoom",
       "min_native_zoom",
       "min_zoom",
       "no_wrap",
       "tile_size",
       "tms",
       "zoom_offset"
      ],
      "pane": "",
      "popup": null,
      "popup_max_height": null,
      "popup_max_width": 300,
      "popup_min_width": 50,
      "show_loading": false,
      "subitems": [],
      "tile_size": 256,
      "tms": false,
      "url": "https://earthengine.googleapis.com/v1/projects/earthengine-legacy/maps/ef4074d76a023464e3eb00c1633e59a8-8a3286db32fc8e16d12b144c6ece25fe/tiles/{z}/{x}/{y}",
      "visible": true,
      "zoom_offset": 0
     }
    },
    "c39a382e491e4ae9813fca16a568c38f": {
     "model_module": "jupyter-leaflet",
     "model_module_version": "^0.17",
     "model_name": "LeafletDrawControlModel",
     "state": {
      "_model_module": "jupyter-leaflet",
      "_model_module_version": "^0.17",
      "_model_name": "LeafletDrawControlModel",
      "_view_count": null,
      "_view_module": "jupyter-leaflet",
      "_view_module_version": "^0.17",
      "_view_name": "LeafletDrawControlView",
      "circle": {},
      "circlemarker": {},
      "data": [],
      "edit": true,
      "marker": {
       "shapeOptions": {
        "color": "#3388ff"
       }
      },
      "options": [
       "position"
      ],
      "polygon": {
       "shapeOptions": {}
      },
      "polyline": {
       "shapeOptions": {}
      },
      "position": "topleft",
      "rectangle": {
       "shapeOptions": {
        "color": "#3388ff"
       }
      },
      "remove": true
     }
    },
    "cd065dbe3f30479a8ef48fd53a7018f7": {
     "model_module": "@jupyter-widgets/controls",
     "model_module_version": "1.5.0",
     "model_name": "VBoxModel",
     "state": {
      "_dom_classes": [
       "geemap-colab"
      ],
      "_model_module": "@jupyter-widgets/controls",
      "_model_module_version": "1.5.0",
      "_model_name": "VBoxModel",
      "_view_count": null,
      "_view_module": "@jupyter-widgets/controls",
      "_view_module_version": "1.5.0",
      "_view_name": "VBoxView",
      "box_style": "",
      "children": [
       "IPY_MODEL_193a92cfe5764f74955628dd0c5f3b55"
      ],
      "layout": "IPY_MODEL_bf055a7e81694ad7bcb9532a4ccba431"
     }
    },
    "d604a48feaeb4d4d9f068b2795dcd3d9": {
     "model_module": "@jupyter-widgets/base",
     "model_module_version": "1.2.0",
     "model_name": "LayoutModel",
     "state": {
      "_model_module": "@jupyter-widgets/base",
      "_model_module_version": "1.2.0",
      "_model_name": "LayoutModel",
      "_view_count": null,
      "_view_module": "@jupyter-widgets/base",
      "_view_module_version": "1.2.0",
      "_view_name": "LayoutView",
      "align_content": null,
      "align_items": null,
      "align_self": null,
      "border": null,
      "bottom": null,
      "display": null,
      "flex": null,
      "flex_flow": null,
      "grid_area": null,
      "grid_auto_columns": null,
      "grid_auto_flow": null,
      "grid_auto_rows": null,
      "grid_column": null,
      "grid_gap": null,
      "grid_row": null,
      "grid_template_areas": null,
      "grid_template_columns": null,
      "grid_template_rows": null,
      "height": "28px",
      "justify_content": null,
      "justify_items": null,
      "left": null,
      "margin": null,
      "max_height": null,
      "max_width": null,
      "min_height": null,
      "min_width": null,
      "object_fit": null,
      "object_position": null,
      "order": null,
      "overflow": null,
      "overflow_x": null,
      "overflow_y": null,
      "padding": "0px 0px 0px 4px",
      "right": null,
      "top": null,
      "visibility": null,
      "width": "28px"
     }
    },
    "db19b2dc01444092bbbb17cf87a50281": {
     "model_module": "@jupyter-widgets/controls",
     "model_module_version": "1.5.0",
     "model_name": "ToggleButtonModel",
     "state": {
      "_dom_classes": [],
      "_model_module": "@jupyter-widgets/controls",
      "_model_module_version": "1.5.0",
      "_model_name": "ToggleButtonModel",
      "_view_count": null,
      "_view_module": "@jupyter-widgets/controls",
      "_view_module_version": "1.5.0",
      "_view_name": "ToggleButtonView",
      "button_style": "",
      "description": "",
      "description_tooltip": null,
      "disabled": false,
      "icon": "globe",
      "layout": "IPY_MODEL_f2df9032cb824804822d4a472a119702",
      "style": "IPY_MODEL_3eb1c9a9b9b843419a4bfd75e4af5987",
      "tooltip": "Search location/data",
      "value": false
     }
    },
    "e2814404d8c848898b3f134822671d60": {
     "model_module": "jupyter-leaflet",
     "model_module_version": "^0.17",
     "model_name": "LeafletTileLayerModel",
     "state": {
      "_model_module": "jupyter-leaflet",
      "_model_module_version": "^0.17",
      "_model_name": "LeafletTileLayerModel",
      "_view_count": null,
      "_view_module": "jupyter-leaflet",
      "_view_module_version": "^0.17",
      "_view_name": "LeafletTileLayerView",
      "attribution": "Google Earth Engine",
      "base": false,
      "bottom": true,
      "bounds": null,
      "detect_retina": false,
      "loading": false,
      "max_native_zoom": null,
      "max_zoom": 24,
      "min_native_zoom": null,
      "min_zoom": 0,
      "name": "Precipitação",
      "no_wrap": false,
      "opacity": 1,
      "options": [
       "attribution",
       "bounds",
       "detect_retina",
       "max_native_zoom",
       "max_zoom",
       "min_native_zoom",
       "min_zoom",
       "no_wrap",
       "tile_size",
       "tms",
       "zoom_offset"
      ],
      "pane": "",
      "popup": null,
      "popup_max_height": null,
      "popup_max_width": 300,
      "popup_min_width": 50,
      "show_loading": false,
      "subitems": [],
      "tile_size": 256,
      "tms": false,
      "url": "https://earthengine.googleapis.com/v1/projects/earthengine-legacy/maps/4794699d27ecac5cd8b516fcb28c94b6-22327fee3f614f1d194e87110d1504ea/tiles/{z}/{x}/{y}",
      "visible": true,
      "zoom_offset": 0
     }
    },
    "ee247ebc4f0846c0b431fd82515e4772": {
     "model_module": "jupyter-leaflet",
     "model_module_version": "^0.17",
     "model_name": "LeafletMeasureControlModel",
     "state": {
      "_custom_units": {},
      "_model_module": "jupyter-leaflet",
      "_model_module_version": "^0.17",
      "_model_name": "LeafletMeasureControlModel",
      "_view_count": null,
      "_view_module": "jupyter-leaflet",
      "_view_module_version": "^0.17",
      "_view_name": "LeafletMeasureControlView",
      "active_color": "orange",
      "capture_z_index": 10000,
      "completed_color": "#C8F2BE",
      "options": [
       "active_color",
       "capture_z_index",
       "completed_color",
       "popup_options",
       "position",
       "primary_area_unit",
       "primary_length_unit",
       "secondary_area_unit",
       "secondary_length_unit"
      ],
      "popup_options": {
       "autoPanPadding": [
        10,
        10
       ],
       "className": "leaflet-measure-resultpopup"
      },
      "position": "bottomleft",
      "primary_area_unit": "acres",
      "primary_length_unit": "kilometers",
      "secondary_area_unit": null,
      "secondary_length_unit": null
     }
    },
    "f2df9032cb824804822d4a472a119702": {
     "model_module": "@jupyter-widgets/base",
     "model_module_version": "1.2.0",
     "model_name": "LayoutModel",
     "state": {
      "_model_module": "@jupyter-widgets/base",
      "_model_module_version": "1.2.0",
      "_model_name": "LayoutModel",
      "_view_count": null,
      "_view_module": "@jupyter-widgets/base",
      "_view_module_version": "1.2.0",
      "_view_name": "LayoutView",
      "align_content": null,
      "align_items": null,
      "align_self": null,
      "border": null,
      "bottom": null,
      "display": null,
      "flex": null,
      "flex_flow": null,
      "grid_area": null,
      "grid_auto_columns": null,
      "grid_auto_flow": null,
      "grid_auto_rows": null,
      "grid_column": null,
      "grid_gap": null,
      "grid_row": null,
      "grid_template_areas": null,
      "grid_template_columns": null,
      "grid_template_rows": null,
      "height": "28px",
      "justify_content": null,
      "justify_items": null,
      "left": null,
      "margin": null,
      "max_height": null,
      "max_width": null,
      "min_height": null,
      "min_width": null,
      "object_fit": null,
      "object_position": null,
      "order": null,
      "overflow": null,
      "overflow_x": null,
      "overflow_y": null,
      "padding": "0px 0px 0px 4px",
      "right": null,
      "top": null,
      "visibility": null,
      "width": "28px"
     }
    },
    "f88aade1de1d49c6a61c1b8a17dee0f0": {
     "model_module": "jupyter-leaflet",
     "model_module_version": "^0.17",
     "model_name": "LeafletAttributionControlModel",
     "state": {
      "_model_module": "jupyter-leaflet",
      "_model_module_version": "^0.17",
      "_model_name": "LeafletAttributionControlModel",
      "_view_count": null,
      "_view_module": "jupyter-leaflet",
      "_view_module_version": "^0.17",
      "_view_name": "LeafletAttributionControlView",
      "options": [
       "position",
       "prefix"
      ],
      "position": "bottomright",
      "prefix": "ipyleaflet"
     }
    },
    "fa3d70ca2f6c4c95af82b510ebfaa39b": {
     "model_module": "jupyter-leaflet",
     "model_module_version": "^0.17",
     "model_name": "LeafletMapStyleModel",
     "state": {
      "_model_module": "jupyter-leaflet",
      "_model_module_version": "^0.17",
      "_model_name": "LeafletMapStyleModel",
      "_view_count": null,
      "_view_module": "@jupyter-widgets/base",
      "_view_module_version": "1.2.0",
      "_view_name": "StyleView",
      "cursor": "grab"
     }
    },
    "fdc4ff7a631e4f10b163b29359fa1cdf": {
     "model_module": "jupyter-leaflet",
     "model_module_version": "^0.17",
     "model_name": "LeafletTileLayerModel",
     "state": {
      "_model_module": "jupyter-leaflet",
      "_model_module_version": "^0.17",
      "_model_name": "LeafletTileLayerModel",
      "_view_count": null,
      "_view_module": "jupyter-leaflet",
      "_view_module_version": "^0.17",
      "_view_name": "LeafletTileLayerView",
      "attribution": "&copy; <a href=\"https://www.openstreetmap.org/copyright\">OpenStreetMap</a> contributors",
      "base": true,
      "bottom": true,
      "bounds": null,
      "detect_retina": false,
      "loading": false,
      "max_native_zoom": null,
      "max_zoom": 19,
      "min_native_zoom": null,
      "min_zoom": 1,
      "name": "OpenStreetMap.Mapnik",
      "no_wrap": false,
      "opacity": 1,
      "options": [
       "attribution",
       "bounds",
       "detect_retina",
       "max_native_zoom",
       "max_zoom",
       "min_native_zoom",
       "min_zoom",
       "no_wrap",
       "tile_size",
       "tms",
       "zoom_offset"
      ],
      "pane": "",
      "popup": null,
      "popup_max_height": null,
      "popup_max_width": 300,
      "popup_min_width": 50,
      "show_loading": false,
      "subitems": [],
      "tile_size": 256,
      "tms": false,
      "url": "https://tile.openstreetmap.org/{z}/{x}/{y}.png",
      "visible": true,
      "zoom_offset": 0
     }
    }
   }
  }
 },
 "nbformat": 4,
 "nbformat_minor": 4
}
